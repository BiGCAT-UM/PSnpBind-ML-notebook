{
 "cells": [
  {
   "cell_type": "markdown",
   "id": "7f71d4f2",
   "metadata": {},
   "source": [
    "# Installing and Importing packages"
   ]
  },
  {
   "cell_type": "code",
   "execution_count": 2,
   "id": "145db28d",
   "metadata": {},
   "outputs": [],
   "source": [
    "# Use if you have R libraries installed on a different path\n",
    "\n",
    "#.libPaths( c( \"/tempr\" , .libPaths() ) )\n",
    "\n",
    "requiredPackages <- c(\"dplyr\", # Data manipulation library\n",
    "                      \"data.table\", # Fast processing of large data\n",
    "                      \"protr\", # Generating numerical representation of protein sequences\n",
    "                      \"ggplot2\", # Plotting Data package\n",
    "                      \"gplots\",  # Plotting Data package\n",
    "                      \"RColorBrewer\",  # Ready-to-use color palettes for graphics\n",
    "                      \"ggpubr\",\n",
    "                      \"caret\",\n",
    "                      \"gridExtra\",\n",
    "                      \"BiocManager\",\n",
    "                      \"ggfortify\")\n",
    "\n",
    "for (pkg in requiredPackages) { \n",
    "    if(! pkg %in% row.names(installed.packages())) install.packages(pkg)\n",
    "}\n",
    "\n",
    "if(! \"pcaMethods\" %in% row.names(installed.packages()))\n",
    "    BiocManager::install(\"pcaMethods\", warning=stop)"
   ]
  },
  {
   "cell_type": "code",
   "execution_count": 4,
   "id": "aab6e478",
   "metadata": {},
   "outputs": [],
   "source": [
    "library(dplyr)\n",
    "library(data.table)\n",
    "library(protr)\n",
    "library(ggplot2)\n",
    "library(gplots)\n",
    "library(RColorBrewer)\n",
    "library(ggpubr)\n",
    "library(caret)\n",
    "library(gridExtra)\n",
    "library(pcaMethods)\n",
    "library(ggfortify)\n",
    "\n",
    "source(\"functions.R\")\n",
    "\n",
    "options(stringsAsFactors = FALSE)\n",
    "\n",
    "set.seed(123) \n",
    "\n",
    "options(repr.matrix.max.cols=150, repr.matrix.max.rows=200)"
   ]
  },
  {
   "cell_type": "markdown",
   "id": "de7ab0c3",
   "metadata": {},
   "source": [
    "# ML prediction results plots (dual model)"
   ]
  },
  {
   "cell_type": "markdown",
   "id": "0ccc38fa",
   "metadata": {},
   "source": [
    "#### The results of the first model predicting wild-type protein-lignd binding affinity using 6 different split scenarios"
   ]
  },
  {
   "cell_type": "code",
   "execution_count": 5,
   "id": "4621ed64",
   "metadata": {},
   "outputs": [
    {
     "name": "stderr",
     "output_type": "stream",
     "text": [
      "`geom_smooth()` using formula 'y ~ x'\n",
      "\n",
      "`geom_smooth()` using formula 'y ~ x'\n",
      "\n",
      "`geom_smooth()` using formula 'y ~ x'\n",
      "\n",
      "`geom_smooth()` using formula 'y ~ x'\n",
      "\n",
      "`geom_smooth()` using formula 'y ~ x'\n",
      "\n",
      "`geom_smooth()` using formula 'y ~ x'\n",
      "\n"
     ]
    },
    {
     "data": {
      "text/html": [
       "<strong>png:</strong> 2"
      ],
      "text/latex": [
       "\\textbf{png:} 2"
      ],
      "text/markdown": [
       "**png:** 2"
      ],
      "text/plain": [
       "png \n",
       "  2 "
      ]
     },
     "metadata": {},
     "output_type": "display_data"
    }
   ],
   "source": [
    "png(paste0(\"images/predictions/rf-2-1-summary.png\"), width = 1600, height = 1200, res = 120, units = \"px\")\n",
    "\n",
    "\n",
    "predictions <- fread(\"work/predictions/dual_model_pl_split_random.csv\")\n",
    "colnames(predictions) <- c(\"observed\", \"predicted\")\n",
    "predictions = predictions[predictions$predicted >= -16.0,]\n",
    "\n",
    "  \n",
    "plot1 <- ggscatter(predictions, x = \"observed\", y = \"predicted\", \n",
    "            add = \"reg.line\", conf.int = TRUE, \n",
    "            cor.coef = FALSE, cor.method = \"pearson\",\n",
    "            color = rgb(0,0,1,1/4), shape = 20,\n",
    "            xlim=c(-12,-4), ylim=c(-12,-4),\n",
    "            xlab = \"Experimental binding affinity\", ylab = \"Predicted binding affinity\")  \n",
    "\n",
    "predictions <- fread(\"work/predictions/dual_model_pl_split_protein.csv\")\n",
    "colnames(predictions) <- c(\"observed\", \"predicted\")\n",
    "predictions = predictions[predictions$predicted >= -16.0,]\n",
    "\n",
    "plot2 <- ggscatter(predictions, x = \"observed\", y = \"predicted\", \n",
    "            add = \"reg.line\", conf.int = TRUE, \n",
    "            cor.coef = FALSE, cor.method = \"pearson\", \n",
    "            color = rgb(0,0,1,1/4), shape = 20,\n",
    "            xlim=c(-12,-4), ylim=c(-12,-4),\n",
    "            xlab = \"Experimental binding affinity\", ylab = \"Predicted binding affinity\")  \n",
    "\n",
    "\n",
    "predictions <- fread(\"work/predictions/dual_model_pl_split_pocket.csv\")\n",
    "colnames(predictions) <- c(\"observed\", \"predicted\")\n",
    "predictions = predictions[predictions$predicted >= -16.0,]\n",
    "\n",
    "plot3 <- ggscatter(predictions, x = \"observed\", y = \"predicted\", \n",
    "            add = \"reg.line\", conf.int = TRUE, \n",
    "            cor.coef = FALSE, cor.method = \"pearson\", \n",
    "            color = rgb(0,0,1,1/4), shape = 20,\n",
    "            xlim=c(-12,-4), ylim=c(-12,-4),\n",
    "            xlab = \"Experimental binding affinity\", ylab = \"Predicted binding affinity\")  \n",
    "\n",
    "predictions <- fread(\"work/predictions/dual_model_pl_split_ligand_weight.csv\")\n",
    "colnames(predictions) <- c(\"observed\", \"predicted\")\n",
    "predictions = predictions[predictions$predicted >= -16.0,]\n",
    "\n",
    "plot4 <- ggscatter(predictions, x = \"observed\", y = \"predicted\", \n",
    "            add = \"reg.line\", conf.int = TRUE, \n",
    "            cor.coef = FALSE, cor.method = \"pearson\", \n",
    "            color = rgb(0,0,1,1/4), shape = 20,\n",
    "            xlim=c(-12,-4), ylim=c(-12,-4),\n",
    "            xlab = \"Experimental binding affinity\", ylab = \"Predicted binding affinity\")\n",
    "\n",
    "predictions <- fread(\"work/predictions/dual_model_pl_split_ligand_volume.csv\")\n",
    "colnames(predictions) <- c(\"observed\", \"predicted\")\n",
    "predictions = predictions[predictions$predicted >= -16.0,]\n",
    "\n",
    "plot6 <- ggscatter(predictions, x = \"observed\", y = \"predicted\", \n",
    "            add = \"reg.line\", conf.int = TRUE, \n",
    "            cor.coef = FALSE, cor.method = \"pearson\", \n",
    "            color = rgb(0,0,1,1/4), shape = 20,\n",
    "            xlim=c(-12,-4), ylim=c(-12,-4),\n",
    "            xlab = \"Experimental binding affinity\", ylab = \"Predicted binding affinity\")  \n",
    "\n",
    "predictions <- fread(\"work/predictions/dual_model_pl_split_ligand_diversity.csv\")\n",
    "colnames(predictions) <- c(\"observed\", \"predicted\")\n",
    "predictions = predictions[predictions$predicted >= -16.0,]\n",
    "\n",
    "plot5 <- ggscatter(predictions, x = \"observed\", y = \"predicted\", \n",
    "            add = \"reg.line\", conf.int = TRUE, \n",
    "            cor.coef = FALSE, cor.method = \"pearson\", \n",
    "            color = rgb(0,0,1,1/4), shape = 20,\n",
    "            xlim=c(-12,-4), ylim=c(-12,-4),\n",
    "            xlab = \"Experimental binding affinity\", ylab = \"Predicted binding affinity\")\n",
    "\n",
    "ggarrange(plot2, plot3,\n",
    "          plot1, plot4,\n",
    "          plot6, plot5, ncol = 2, nrow = 3)\n",
    "\n",
    "dev.off()\n"
   ]
  },
  {
   "cell_type": "markdown",
   "id": "5e8b954a",
   "metadata": {},
   "source": [
    "#### The results of the second model predicting mutated protein-lignd binding affinity "
   ]
  },
  {
   "cell_type": "code",
   "execution_count": 9,
   "id": "28904c9b",
   "metadata": {},
   "outputs": [
    {
     "name": "stderr",
     "output_type": "stream",
     "text": [
      "`geom_smooth()` using formula 'y ~ x'\n",
      "\n",
      "`geom_smooth()` using formula 'y ~ x'\n",
      "\n",
      "`geom_smooth()` using formula 'y ~ x'\n",
      "\n",
      "`geom_smooth()` using formula 'y ~ x'\n",
      "\n"
     ]
    },
    {
     "data": {
      "text/html": [
       "<strong>png:</strong> 2"
      ],
      "text/latex": [
       "\\textbf{png:} 2"
      ],
      "text/markdown": [
       "**png:** 2"
      ],
      "text/plain": [
       "png \n",
       "  2 "
      ]
     },
     "metadata": {},
     "output_type": "display_data"
    }
   ],
   "source": [
    "png(paste0(\"images/predictions/rf-2-2-summary.png\"), width = 1600, height = 1200, res = 120, units = \"px\")\n",
    "\n",
    "\n",
    "predictions <- fread(\"work/predictions/mutation_model_real_wt_ba_test_real_wt_ba.csv\")\n",
    "colnames(predictions) <- c(\"observed\", \"predicted\")\n",
    "predictions = predictions[predictions$predicted >= -16.0,]\n",
    "\n",
    "  \n",
    "plot1 <- ggscatter(predictions, x = \"observed\", y = \"predicted\", \n",
    "            add = \"reg.line\", conf.int = TRUE, \n",
    "            cor.coef = FALSE, cor.method = \"pearson\",\n",
    "            color = rgb(0,0,1,1/4), shape = 20,\n",
    "            xlim=c(-16,-2), ylim=c(-16,-2),\n",
    "            xlab = \"Experimental binding affinity\", ylab = \"Predicted binding affinity\")  \n",
    "\n",
    "predictions <- fread(\"work/predictions/mutation_model_real_wt_ba_test_pred_wt_ba.csv\")\n",
    "colnames(predictions) <- c(\"observed\", \"predicted\")\n",
    "predictions = predictions[predictions$predicted >= -16.0,]\n",
    "\n",
    "plot2 <- ggscatter(predictions, x = \"observed\", y = \"predicted\", \n",
    "            add = \"reg.line\", conf.int = TRUE, \n",
    "            cor.coef = FALSE, cor.method = \"pearson\", \n",
    "            color = rgb(0,0,1,1/4), shape = 20,\n",
    "            xlim=c(-16,-2), ylim=c(-16,-2),\n",
    "            xlab = \"Experimental binding affinity\", ylab = \"Predicted binding affinity\")  \n",
    "\n",
    "\n",
    "predictions <- fread(\"work/predictions/mutation_model_pred_wt_ba_test_real_wt_ba.csv\")\n",
    "colnames(predictions) <- c(\"observed\", \"predicted\")\n",
    "predictions = predictions[predictions$predicted >= -16.0,]\n",
    "\n",
    "plot3 <- ggscatter(predictions, x = \"observed\", y = \"predicted\", \n",
    "            add = \"reg.line\", conf.int = TRUE, \n",
    "            cor.coef = FALSE, cor.method = \"pearson\", \n",
    "            color = rgb(0,0,1,1/4), shape = 20,\n",
    "            xlim=c(-16,-2), ylim=c(-16,-2),\n",
    "            xlab = \"Experimental binding affinity\", ylab = \"Predicted binding affinity\")  \n",
    "\n",
    "predictions <- fread(\"work/predictions/mutation_model_pred_wt_ba_test_pred_wt_ba.csv\")\n",
    "colnames(predictions) <- c(\"observed\", \"predicted\")\n",
    "predictions = predictions[predictions$predicted >= -16.0,]\n",
    "\n",
    "plot4 <- ggscatter(predictions, x = \"observed\", y = \"predicted\", \n",
    "            add = \"reg.line\", conf.int = TRUE, \n",
    "            cor.coef = FALSE, cor.method = \"pearson\", \n",
    "            color = rgb(0,0,1,1/4), shape = 20,\n",
    "            xlim=c(-16,-2), ylim=c(-16,-2),\n",
    "            xlab = \"Experimental binding affinity\", ylab = \"Predicted binding affinity\")\n",
    "\n",
    "ggarrange(plot2, plot3,\n",
    "          plot1, plot4,\n",
    "          ncol = 2, nrow = 2)\n",
    "\n",
    "dev.off()\n"
   ]
  },
  {
   "cell_type": "code",
   "execution_count": null,
   "id": "23473bf6",
   "metadata": {},
   "outputs": [],
   "source": []
  }
 ],
 "metadata": {
  "kernelspec": {
   "display_name": "R",
   "language": "R",
   "name": "ir"
  },
  "language_info": {
   "codemirror_mode": "r",
   "file_extension": ".r",
   "mimetype": "text/x-r-source",
   "name": "R",
   "pygments_lexer": "r",
   "version": "4.0.3"
  }
 },
 "nbformat": 4,
 "nbformat_minor": 5
}
