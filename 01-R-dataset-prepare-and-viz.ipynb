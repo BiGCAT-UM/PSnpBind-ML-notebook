{
 "cells": [
  {
   "cell_type": "markdown",
   "id": "7f71d4f2",
   "metadata": {},
   "source": [
    "# Installing and Importing packages"
   ]
  },
  {
   "cell_type": "code",
   "execution_count": 2,
   "id": "9fd55392",
   "metadata": {},
   "outputs": [],
   "source": [
    ".libPaths( c( \"/tempr\" , .libPaths() ) )"
   ]
  },
  {
   "cell_type": "code",
   "execution_count": 3,
   "id": "145db28d",
   "metadata": {},
   "outputs": [],
   "source": [
    "requiredPackages <- c(\"dplyr\", # Data manipulation library\n",
    "                      \"data.table\", # Fast processing of large data\n",
    "                      \"protr\", # Generating numerical representation of protein sequences\n",
    "                      \"ggplot2\", # Plotting Data package\n",
    "                      \"gplots\",  # Plotting Data package\n",
    "                      \"RColorBrewer\",  # Ready-to-use color palettes for graphics\n",
    "                      \"ggpubr\",\n",
    "                      \"caret\",\n",
    "                      \"gridExtra\",\n",
    "                      \"BiocManager\",\n",
    "                      \"ggfortify\")\n",
    "\n",
    "for (pkg in requiredPackages) { \n",
    "    if(! pkg %in% row.names(installed.packages())) install.packages(pkg)\n",
    "}\n",
    "\n",
    "if(! \"pcaMethods\" %in% row.names(installed.packages()))\n",
    "    BiocManager::install(\"pcaMethods\", warning=stop)"
   ]
  },
  {
   "cell_type": "code",
   "execution_count": 7,
   "id": "aab6e478",
   "metadata": {},
   "outputs": [],
   "source": [
    "library(dplyr)\n",
    "library(data.table)\n",
    "library(protr)\n",
    "library(ggplot2)\n",
    "library(gplots)\n",
    "library(RColorBrewer)\n",
    "library(ggpubr)\n",
    "library(caret)\n",
    "library(gridExtra)\n",
    "library(pcaMethods)\n",
    "library(ggfortify)\n",
    "\n",
    "source(\"functions.R\")\n",
    "\n",
    "options(stringsAsFactors = FALSE)\n",
    "\n",
    "set.seed(123) \n",
    "\n",
    "options(repr.matrix.max.cols=150, repr.matrix.max.rows=200)"
   ]
  },
  {
   "cell_type": "markdown",
   "id": "de7ab0c3",
   "metadata": {},
   "source": [
    "# Generate protein descriptors"
   ]
  },
  {
   "cell_type": "markdown",
   "id": "52a99412",
   "metadata": {},
   "source": [
    "This will generate protein descriptors (SOCN) with the \"[protr](https://cran.r-project.org/web/packages/protr/vignettes/protr.html)\" package. \n",
    "1. **Input**: the protein sequences in FASTA format under \"work/fasta\" (26 FASTA files for the 26 proteins).\n",
    "1. **Output**: the results are saved to the file \"work/data/protein_descriptors.tsv\" "
   ]
  },
  {
   "cell_type": "code",
   "execution_count": 5,
   "id": "4621ed64",
   "metadata": {},
   "outputs": [],
   "source": [
    "protein_descriptors <- generateProteinsDescriptors()"
   ]
  },
  {
   "cell_type": "markdown",
   "id": "79569bc2",
   "metadata": {},
   "source": [
    "# The dual model approach (two ML models)"
   ]
  },
  {
   "cell_type": "markdown",
   "id": "faea0ba4",
   "metadata": {},
   "source": [
    "## Generate the protein-ligand features dataset (six different splittings)"
   ]
  },
  {
   "cell_type": "markdown",
   "id": "810380b7",
   "metadata": {},
   "source": [
    "#### Data balancing"
   ]
  },
  {
   "cell_type": "code",
   "execution_count": 25,
   "id": "e5aefae9",
   "metadata": {},
   "outputs": [],
   "source": [
    "pdb <- c(\"1owh\",\"2c3i\",\"2hb1\",\"2y5h\",\"3jvr\",\"4dli\",\"4e5w\",\"4jia\",\"4m0y\",\"4twp\",\n",
    "         \"5a7b\",\"3udh\",\"5c28\",\"4wiv\",\"3b5r\",\"3b27\",\"3fv1\",\"3pxf\",\"3u9q\",\"3up2\",\n",
    "         \"2pog\", \"2weg\", \"4gr0\", \"4j21\", \"3utu\")"
   ]
  },
  {
   "cell_type": "code",
   "execution_count": 26,
   "id": "8772139e",
   "metadata": {},
   "outputs": [],
   "source": [
    "results <- prepareFeaturesProteinLigand(\"4crc\")"
   ]
  },
  {
   "cell_type": "code",
   "execution_count": 29,
   "id": "584a6829",
   "metadata": {},
   "outputs": [],
   "source": [
    "for(i in pdb){\n",
    "  results <- rbind(results,prepareFeaturesProteinLigand(i))\n",
    "}"
   ]
  },
  {
   "cell_type": "markdown",
   "id": "514c630b",
   "metadata": {},
   "source": [
    "#### Data preprocessing"
   ]
  },
  {
   "cell_type": "code",
   "execution_count": null,
   "id": "3844855c",
   "metadata": {},
   "outputs": [],
   "source": [
    "results <- results[results$ba < -4,]\n",
    "results <- results[results$ba >= -16,]\n",
    "\n",
    "results_meta <- results[,c(1:4)]\n",
    "results <- results[,c(5:ncol(results))]"
   ]
  },
  {
   "cell_type": "code",
   "execution_count": 30,
   "id": "5ab40cb0",
   "metadata": {},
   "outputs": [
    {
     "name": "stdout",
     "output_type": "stream",
     "text": [
      "[1] \"Rows: 8421\"\n",
      "[1] \"Columns: 124\"\n"
     ]
    }
   ],
   "source": [
    "print(paste(\"Rows:\",nrow(results)))\n",
    "print(paste(\"Columns:\",ncol(results)))"
   ]
  },
  {
   "cell_type": "code",
   "execution_count": 31,
   "id": "20395c00",
   "metadata": {},
   "outputs": [
    {
     "data": {
      "text/html": [
       "<style>\n",
       ".list-inline {list-style: none; margin:0; padding: 0}\n",
       ".list-inline>li {display: inline-block}\n",
       ".list-inline>li:not(:last-child)::after {content: \"\\00b7\"; padding: 0 .5ex}\n",
       "</style>\n",
       "<ol class=list-inline><li>'SmallRingDescriptor5'</li><li>'SmallRingDescriptor6'</li><li>'CarbonTypesDescriptor1'</li><li>'CarbonTypesDescriptor2'</li></ol>\n"
      ],
      "text/latex": [
       "\\begin{enumerate*}\n",
       "\\item 'SmallRingDescriptor5'\n",
       "\\item 'SmallRingDescriptor6'\n",
       "\\item 'CarbonTypesDescriptor1'\n",
       "\\item 'CarbonTypesDescriptor2'\n",
       "\\end{enumerate*}\n"
      ],
      "text/markdown": [
       "1. 'SmallRingDescriptor5'\n",
       "2. 'SmallRingDescriptor6'\n",
       "3. 'CarbonTypesDescriptor1'\n",
       "4. 'CarbonTypesDescriptor2'\n",
       "\n",
       "\n"
      ],
      "text/plain": [
       "[1] \"SmallRingDescriptor5\"   \"SmallRingDescriptor6\"   \"CarbonTypesDescriptor1\"\n",
       "[4] \"CarbonTypesDescriptor2\""
      ]
     },
     "metadata": {},
     "output_type": "display_data"
    }
   ],
   "source": [
    "nzv_columns <- nearZeroVar(results)\n",
    "colnames(results)[nzv_columns]"
   ]
  },
  {
   "cell_type": "code",
   "execution_count": 32,
   "id": "dc9d4314",
   "metadata": {},
   "outputs": [],
   "source": [
    "results <- results[,-nzv_columns]"
   ]
  },
  {
   "cell_type": "code",
   "execution_count": 33,
   "id": "ead1a505",
   "metadata": {},
   "outputs": [
    {
     "name": "stdout",
     "output_type": "stream",
     "text": [
      "[1] \"Rows: 8421\"\n",
      "[1] \"Columns: 120\"\n"
     ]
    }
   ],
   "source": [
    "print(paste(\"Rows:\",nrow(results)))\n",
    "print(paste(\"Columns:\",ncol(results)))"
   ]
  },
  {
   "cell_type": "code",
   "execution_count": 34,
   "id": "cd56d514",
   "metadata": {},
   "outputs": [
    {
     "data": {
      "text/html": [
       "<style>\n",
       ".list-inline {list-style: none; margin:0; padding: 0}\n",
       ".list-inline>li {display: inline-block}\n",
       ".list-inline>li:not(:last-child)::after {content: \"\\00b7\"; padding: 0 .5ex}\n",
       "</style>\n",
       "<ol class=list-inline><li>'V2'</li><li>'V0'</li><li>'V1'</li><li>'V3'</li><li>'V4'</li><li>'V5'</li></ol>\n"
      ],
      "text/latex": [
       "\\begin{enumerate*}\n",
       "\\item 'V2'\n",
       "\\item 'V0'\n",
       "\\item 'V1'\n",
       "\\item 'V3'\n",
       "\\item 'V4'\n",
       "\\item 'V5'\n",
       "\\end{enumerate*}\n"
      ],
      "text/markdown": [
       "1. 'V2'\n",
       "2. 'V0'\n",
       "3. 'V1'\n",
       "4. 'V3'\n",
       "5. 'V4'\n",
       "6. 'V5'\n",
       "\n",
       "\n"
      ],
      "text/plain": [
       "[1] \"V2\" \"V0\" \"V1\" \"V3\" \"V4\" \"V5\""
      ]
     },
     "metadata": {},
     "output_type": "display_data"
    }
   ],
   "source": [
    "unique(results$RuleOfFiveDescriptor)"
   ]
  },
  {
   "cell_type": "code",
   "execution_count": 35,
   "id": "7536fdf4",
   "metadata": {},
   "outputs": [],
   "source": [
    "dummies <- dummyVars(ba ~ ., data = results)\n",
    "dummies_tmp <- predict(dummies, newdata = results)\n",
    "\n",
    "results <- cbind(dummies_tmp, results$ba)\n",
    "\n",
    "colnames(results)[length(colnames(results))] <- \"ba\"\n",
    "\n",
    "results <- as.data.frame(results)"
   ]
  },
  {
   "cell_type": "code",
   "execution_count": 36,
   "id": "94071412",
   "metadata": {},
   "outputs": [
    {
     "data": {
      "text/html": [
       "<style>\n",
       ".list-inline {list-style: none; margin:0; padding: 0}\n",
       ".list-inline>li {display: inline-block}\n",
       ".list-inline>li:not(:last-child)::after {content: \"\\00b7\"; padding: 0 .5ex}\n",
       "</style>\n",
       "<ol class=list-inline><li>'WeightDescriptor'</li><li>'RuleOfFiveDescriptorV0'</li><li>'RuleOfFiveDescriptorV1'</li><li>'RuleOfFiveDescriptorV2'</li><li>'RuleOfFiveDescriptorV3'</li><li>'RuleOfFiveDescriptorV4'</li><li>'RuleOfFiveDescriptorV5'</li><li>'RotatableBondsCountDescriptor'</li><li>'HBondDonorCountDescriptor'</li><li>'HBondAcceptorCountDescriptor'</li><li>'APolDescriptor'</li><li>'SmallRingDescriptor1'</li><li>'SmallRingDescriptor2'</li><li>'SmallRingDescriptor3'</li><li>'SmallRingDescriptor4'</li><li>'SmallRingDescriptor7'</li><li>'SmallRingDescriptor8'</li><li>'SmallRingDescriptor9'</li><li>'VABCDescriptor'</li><li>'TPSADescriptor'</li><li>'FractionalPSADescriptor'</li><li>'MomentOfInertiaDescriptor1'</li><li>'MomentOfInertiaDescriptor2'</li><li>'MomentOfInertiaDescriptor3'</li><li>'MomentOfInertiaDescriptor4'</li><li>'MomentOfInertiaDescriptor5'</li><li>'MomentOfInertiaDescriptor6'</li><li>'MomentOfInertiaDescriptor7'</li><li>'AromaticAtomsCountDescriptor'</li><li>'AromaticBondsCountDescriptor'</li><li>'AtomCountDescriptor'</li><li>'XLogPDescriptor'</li><li>'VAdjMaDescriptor'</li><li>'BasicGroupCountDescriptor'</li><li>'TotalSurfaceArea'</li><li>'AlogPDescriptor1'</li><li>'AlogPDescriptor2'</li><li>'AlogPDescriptor3'</li><li>'JPlogPDescriptor'</li><li>'BCUTDescriptor1'</li><li>'BCUTDescriptor2'</li><li>'BCUTDescriptor3'</li><li>'BCUTDescriptor4'</li><li>'BCUTDescriptor5'</li><li>'BCUTDescriptor6'</li><li>'AtomCountDescriptorN'</li><li>'AtomCountDescriptorO'</li><li>'Electronegativity'</li><li>'CarbonTypesDescriptor3'</li><li>'CarbonTypesDescriptor4'</li><li>'CarbonTypesDescriptor5'</li><li>'CarbonTypesDescriptor6'</li><li>'CarbonTypesDescriptor7'</li><li>'CarbonTypesDescriptor8'</li><li>'CarbonTypesDescriptor9'</li><li>'Schneider.lag1'</li><li>'Schneider.lag2'</li><li>'Schneider.lag3'</li><li>'Schneider.lag4'</li><li>'Schneider.lag5'</li><li>'Schneider.lag6'</li><li>'Schneider.lag7'</li><li>'Schneider.lag8'</li><li>'Schneider.lag9'</li><li>'Schneider.lag10'</li><li>'Schneider.lag11'</li><li>'Schneider.lag12'</li><li>'Schneider.lag13'</li><li>'Schneider.lag14'</li><li>'Schneider.lag15'</li><li>'Schneider.lag16'</li><li>'Schneider.lag17'</li><li>'Schneider.lag18'</li><li>'Schneider.lag19'</li><li>'Schneider.lag20'</li><li>'Schneider.lag21'</li><li>'Schneider.lag22'</li><li>'Schneider.lag23'</li><li>'Schneider.lag24'</li><li>'Schneider.lag25'</li><li>'Schneider.lag26'</li><li>'Schneider.lag27'</li><li>'Schneider.lag28'</li><li>'Schneider.lag29'</li><li>'Schneider.lag30'</li><li>'Grantham.lag1'</li><li>'Grantham.lag2'</li><li>'Grantham.lag3'</li><li>'Grantham.lag4'</li><li>'Grantham.lag5'</li><li>'Grantham.lag6'</li><li>'Grantham.lag7'</li><li>'Grantham.lag8'</li><li>'Grantham.lag9'</li><li>'Grantham.lag10'</li><li>'Grantham.lag11'</li><li>'Grantham.lag12'</li><li>'Grantham.lag13'</li><li>'Grantham.lag14'</li><li>'Grantham.lag15'</li><li>'Grantham.lag16'</li><li>'Grantham.lag17'</li><li>'Grantham.lag18'</li><li>'Grantham.lag19'</li><li>'Grantham.lag20'</li><li>'Grantham.lag21'</li><li>'Grantham.lag22'</li><li>'Grantham.lag23'</li><li>'Grantham.lag24'</li><li>'Grantham.lag25'</li><li>'Grantham.lag26'</li><li>'Grantham.lag27'</li><li>'Grantham.lag28'</li><li>'Grantham.lag29'</li><li>'Grantham.lag30'</li><li>'HelixSS'</li><li>'StrandSS'</li><li>'OtherSS'</li><li>'DominantSSHelix'</li><li>'DominantSSOther'</li><li>'BuriedASA'</li><li>'ExposedASA'</li><li>'RatioASA'</li><li>'PocketASA'</li><li>'volume'</li><li>'ba'</li></ol>\n"
      ],
      "text/latex": [
       "\\begin{enumerate*}\n",
       "\\item 'WeightDescriptor'\n",
       "\\item 'RuleOfFiveDescriptorV0'\n",
       "\\item 'RuleOfFiveDescriptorV1'\n",
       "\\item 'RuleOfFiveDescriptorV2'\n",
       "\\item 'RuleOfFiveDescriptorV3'\n",
       "\\item 'RuleOfFiveDescriptorV4'\n",
       "\\item 'RuleOfFiveDescriptorV5'\n",
       "\\item 'RotatableBondsCountDescriptor'\n",
       "\\item 'HBondDonorCountDescriptor'\n",
       "\\item 'HBondAcceptorCountDescriptor'\n",
       "\\item 'APolDescriptor'\n",
       "\\item 'SmallRingDescriptor1'\n",
       "\\item 'SmallRingDescriptor2'\n",
       "\\item 'SmallRingDescriptor3'\n",
       "\\item 'SmallRingDescriptor4'\n",
       "\\item 'SmallRingDescriptor7'\n",
       "\\item 'SmallRingDescriptor8'\n",
       "\\item 'SmallRingDescriptor9'\n",
       "\\item 'VABCDescriptor'\n",
       "\\item 'TPSADescriptor'\n",
       "\\item 'FractionalPSADescriptor'\n",
       "\\item 'MomentOfInertiaDescriptor1'\n",
       "\\item 'MomentOfInertiaDescriptor2'\n",
       "\\item 'MomentOfInertiaDescriptor3'\n",
       "\\item 'MomentOfInertiaDescriptor4'\n",
       "\\item 'MomentOfInertiaDescriptor5'\n",
       "\\item 'MomentOfInertiaDescriptor6'\n",
       "\\item 'MomentOfInertiaDescriptor7'\n",
       "\\item 'AromaticAtomsCountDescriptor'\n",
       "\\item 'AromaticBondsCountDescriptor'\n",
       "\\item 'AtomCountDescriptor'\n",
       "\\item 'XLogPDescriptor'\n",
       "\\item 'VAdjMaDescriptor'\n",
       "\\item 'BasicGroupCountDescriptor'\n",
       "\\item 'TotalSurfaceArea'\n",
       "\\item 'AlogPDescriptor1'\n",
       "\\item 'AlogPDescriptor2'\n",
       "\\item 'AlogPDescriptor3'\n",
       "\\item 'JPlogPDescriptor'\n",
       "\\item 'BCUTDescriptor1'\n",
       "\\item 'BCUTDescriptor2'\n",
       "\\item 'BCUTDescriptor3'\n",
       "\\item 'BCUTDescriptor4'\n",
       "\\item 'BCUTDescriptor5'\n",
       "\\item 'BCUTDescriptor6'\n",
       "\\item 'AtomCountDescriptorN'\n",
       "\\item 'AtomCountDescriptorO'\n",
       "\\item 'Electronegativity'\n",
       "\\item 'CarbonTypesDescriptor3'\n",
       "\\item 'CarbonTypesDescriptor4'\n",
       "\\item 'CarbonTypesDescriptor5'\n",
       "\\item 'CarbonTypesDescriptor6'\n",
       "\\item 'CarbonTypesDescriptor7'\n",
       "\\item 'CarbonTypesDescriptor8'\n",
       "\\item 'CarbonTypesDescriptor9'\n",
       "\\item 'Schneider.lag1'\n",
       "\\item 'Schneider.lag2'\n",
       "\\item 'Schneider.lag3'\n",
       "\\item 'Schneider.lag4'\n",
       "\\item 'Schneider.lag5'\n",
       "\\item 'Schneider.lag6'\n",
       "\\item 'Schneider.lag7'\n",
       "\\item 'Schneider.lag8'\n",
       "\\item 'Schneider.lag9'\n",
       "\\item 'Schneider.lag10'\n",
       "\\item 'Schneider.lag11'\n",
       "\\item 'Schneider.lag12'\n",
       "\\item 'Schneider.lag13'\n",
       "\\item 'Schneider.lag14'\n",
       "\\item 'Schneider.lag15'\n",
       "\\item 'Schneider.lag16'\n",
       "\\item 'Schneider.lag17'\n",
       "\\item 'Schneider.lag18'\n",
       "\\item 'Schneider.lag19'\n",
       "\\item 'Schneider.lag20'\n",
       "\\item 'Schneider.lag21'\n",
       "\\item 'Schneider.lag22'\n",
       "\\item 'Schneider.lag23'\n",
       "\\item 'Schneider.lag24'\n",
       "\\item 'Schneider.lag25'\n",
       "\\item 'Schneider.lag26'\n",
       "\\item 'Schneider.lag27'\n",
       "\\item 'Schneider.lag28'\n",
       "\\item 'Schneider.lag29'\n",
       "\\item 'Schneider.lag30'\n",
       "\\item 'Grantham.lag1'\n",
       "\\item 'Grantham.lag2'\n",
       "\\item 'Grantham.lag3'\n",
       "\\item 'Grantham.lag4'\n",
       "\\item 'Grantham.lag5'\n",
       "\\item 'Grantham.lag6'\n",
       "\\item 'Grantham.lag7'\n",
       "\\item 'Grantham.lag8'\n",
       "\\item 'Grantham.lag9'\n",
       "\\item 'Grantham.lag10'\n",
       "\\item 'Grantham.lag11'\n",
       "\\item 'Grantham.lag12'\n",
       "\\item 'Grantham.lag13'\n",
       "\\item 'Grantham.lag14'\n",
       "\\item 'Grantham.lag15'\n",
       "\\item 'Grantham.lag16'\n",
       "\\item 'Grantham.lag17'\n",
       "\\item 'Grantham.lag18'\n",
       "\\item 'Grantham.lag19'\n",
       "\\item 'Grantham.lag20'\n",
       "\\item 'Grantham.lag21'\n",
       "\\item 'Grantham.lag22'\n",
       "\\item 'Grantham.lag23'\n",
       "\\item 'Grantham.lag24'\n",
       "\\item 'Grantham.lag25'\n",
       "\\item 'Grantham.lag26'\n",
       "\\item 'Grantham.lag27'\n",
       "\\item 'Grantham.lag28'\n",
       "\\item 'Grantham.lag29'\n",
       "\\item 'Grantham.lag30'\n",
       "\\item 'HelixSS'\n",
       "\\item 'StrandSS'\n",
       "\\item 'OtherSS'\n",
       "\\item 'DominantSSHelix'\n",
       "\\item 'DominantSSOther'\n",
       "\\item 'BuriedASA'\n",
       "\\item 'ExposedASA'\n",
       "\\item 'RatioASA'\n",
       "\\item 'PocketASA'\n",
       "\\item 'volume'\n",
       "\\item 'ba'\n",
       "\\end{enumerate*}\n"
      ],
      "text/markdown": [
       "1. 'WeightDescriptor'\n",
       "2. 'RuleOfFiveDescriptorV0'\n",
       "3. 'RuleOfFiveDescriptorV1'\n",
       "4. 'RuleOfFiveDescriptorV2'\n",
       "5. 'RuleOfFiveDescriptorV3'\n",
       "6. 'RuleOfFiveDescriptorV4'\n",
       "7. 'RuleOfFiveDescriptorV5'\n",
       "8. 'RotatableBondsCountDescriptor'\n",
       "9. 'HBondDonorCountDescriptor'\n",
       "10. 'HBondAcceptorCountDescriptor'\n",
       "11. 'APolDescriptor'\n",
       "12. 'SmallRingDescriptor1'\n",
       "13. 'SmallRingDescriptor2'\n",
       "14. 'SmallRingDescriptor3'\n",
       "15. 'SmallRingDescriptor4'\n",
       "16. 'SmallRingDescriptor7'\n",
       "17. 'SmallRingDescriptor8'\n",
       "18. 'SmallRingDescriptor9'\n",
       "19. 'VABCDescriptor'\n",
       "20. 'TPSADescriptor'\n",
       "21. 'FractionalPSADescriptor'\n",
       "22. 'MomentOfInertiaDescriptor1'\n",
       "23. 'MomentOfInertiaDescriptor2'\n",
       "24. 'MomentOfInertiaDescriptor3'\n",
       "25. 'MomentOfInertiaDescriptor4'\n",
       "26. 'MomentOfInertiaDescriptor5'\n",
       "27. 'MomentOfInertiaDescriptor6'\n",
       "28. 'MomentOfInertiaDescriptor7'\n",
       "29. 'AromaticAtomsCountDescriptor'\n",
       "30. 'AromaticBondsCountDescriptor'\n",
       "31. 'AtomCountDescriptor'\n",
       "32. 'XLogPDescriptor'\n",
       "33. 'VAdjMaDescriptor'\n",
       "34. 'BasicGroupCountDescriptor'\n",
       "35. 'TotalSurfaceArea'\n",
       "36. 'AlogPDescriptor1'\n",
       "37. 'AlogPDescriptor2'\n",
       "38. 'AlogPDescriptor3'\n",
       "39. 'JPlogPDescriptor'\n",
       "40. 'BCUTDescriptor1'\n",
       "41. 'BCUTDescriptor2'\n",
       "42. 'BCUTDescriptor3'\n",
       "43. 'BCUTDescriptor4'\n",
       "44. 'BCUTDescriptor5'\n",
       "45. 'BCUTDescriptor6'\n",
       "46. 'AtomCountDescriptorN'\n",
       "47. 'AtomCountDescriptorO'\n",
       "48. 'Electronegativity'\n",
       "49. 'CarbonTypesDescriptor3'\n",
       "50. 'CarbonTypesDescriptor4'\n",
       "51. 'CarbonTypesDescriptor5'\n",
       "52. 'CarbonTypesDescriptor6'\n",
       "53. 'CarbonTypesDescriptor7'\n",
       "54. 'CarbonTypesDescriptor8'\n",
       "55. 'CarbonTypesDescriptor9'\n",
       "56. 'Schneider.lag1'\n",
       "57. 'Schneider.lag2'\n",
       "58. 'Schneider.lag3'\n",
       "59. 'Schneider.lag4'\n",
       "60. 'Schneider.lag5'\n",
       "61. 'Schneider.lag6'\n",
       "62. 'Schneider.lag7'\n",
       "63. 'Schneider.lag8'\n",
       "64. 'Schneider.lag9'\n",
       "65. 'Schneider.lag10'\n",
       "66. 'Schneider.lag11'\n",
       "67. 'Schneider.lag12'\n",
       "68. 'Schneider.lag13'\n",
       "69. 'Schneider.lag14'\n",
       "70. 'Schneider.lag15'\n",
       "71. 'Schneider.lag16'\n",
       "72. 'Schneider.lag17'\n",
       "73. 'Schneider.lag18'\n",
       "74. 'Schneider.lag19'\n",
       "75. 'Schneider.lag20'\n",
       "76. 'Schneider.lag21'\n",
       "77. 'Schneider.lag22'\n",
       "78. 'Schneider.lag23'\n",
       "79. 'Schneider.lag24'\n",
       "80. 'Schneider.lag25'\n",
       "81. 'Schneider.lag26'\n",
       "82. 'Schneider.lag27'\n",
       "83. 'Schneider.lag28'\n",
       "84. 'Schneider.lag29'\n",
       "85. 'Schneider.lag30'\n",
       "86. 'Grantham.lag1'\n",
       "87. 'Grantham.lag2'\n",
       "88. 'Grantham.lag3'\n",
       "89. 'Grantham.lag4'\n",
       "90. 'Grantham.lag5'\n",
       "91. 'Grantham.lag6'\n",
       "92. 'Grantham.lag7'\n",
       "93. 'Grantham.lag8'\n",
       "94. 'Grantham.lag9'\n",
       "95. 'Grantham.lag10'\n",
       "96. 'Grantham.lag11'\n",
       "97. 'Grantham.lag12'\n",
       "98. 'Grantham.lag13'\n",
       "99. 'Grantham.lag14'\n",
       "100. 'Grantham.lag15'\n",
       "101. 'Grantham.lag16'\n",
       "102. 'Grantham.lag17'\n",
       "103. 'Grantham.lag18'\n",
       "104. 'Grantham.lag19'\n",
       "105. 'Grantham.lag20'\n",
       "106. 'Grantham.lag21'\n",
       "107. 'Grantham.lag22'\n",
       "108. 'Grantham.lag23'\n",
       "109. 'Grantham.lag24'\n",
       "110. 'Grantham.lag25'\n",
       "111. 'Grantham.lag26'\n",
       "112. 'Grantham.lag27'\n",
       "113. 'Grantham.lag28'\n",
       "114. 'Grantham.lag29'\n",
       "115. 'Grantham.lag30'\n",
       "116. 'HelixSS'\n",
       "117. 'StrandSS'\n",
       "118. 'OtherSS'\n",
       "119. 'DominantSSHelix'\n",
       "120. 'DominantSSOther'\n",
       "121. 'BuriedASA'\n",
       "122. 'ExposedASA'\n",
       "123. 'RatioASA'\n",
       "124. 'PocketASA'\n",
       "125. 'volume'\n",
       "126. 'ba'\n",
       "\n",
       "\n"
      ],
      "text/plain": [
       "  [1] \"WeightDescriptor\"              \"RuleOfFiveDescriptorV0\"       \n",
       "  [3] \"RuleOfFiveDescriptorV1\"        \"RuleOfFiveDescriptorV2\"       \n",
       "  [5] \"RuleOfFiveDescriptorV3\"        \"RuleOfFiveDescriptorV4\"       \n",
       "  [7] \"RuleOfFiveDescriptorV5\"        \"RotatableBondsCountDescriptor\"\n",
       "  [9] \"HBondDonorCountDescriptor\"     \"HBondAcceptorCountDescriptor\" \n",
       " [11] \"APolDescriptor\"                \"SmallRingDescriptor1\"         \n",
       " [13] \"SmallRingDescriptor2\"          \"SmallRingDescriptor3\"         \n",
       " [15] \"SmallRingDescriptor4\"          \"SmallRingDescriptor7\"         \n",
       " [17] \"SmallRingDescriptor8\"          \"SmallRingDescriptor9\"         \n",
       " [19] \"VABCDescriptor\"                \"TPSADescriptor\"               \n",
       " [21] \"FractionalPSADescriptor\"       \"MomentOfInertiaDescriptor1\"   \n",
       " [23] \"MomentOfInertiaDescriptor2\"    \"MomentOfInertiaDescriptor3\"   \n",
       " [25] \"MomentOfInertiaDescriptor4\"    \"MomentOfInertiaDescriptor5\"   \n",
       " [27] \"MomentOfInertiaDescriptor6\"    \"MomentOfInertiaDescriptor7\"   \n",
       " [29] \"AromaticAtomsCountDescriptor\"  \"AromaticBondsCountDescriptor\" \n",
       " [31] \"AtomCountDescriptor\"           \"XLogPDescriptor\"              \n",
       " [33] \"VAdjMaDescriptor\"              \"BasicGroupCountDescriptor\"    \n",
       " [35] \"TotalSurfaceArea\"              \"AlogPDescriptor1\"             \n",
       " [37] \"AlogPDescriptor2\"              \"AlogPDescriptor3\"             \n",
       " [39] \"JPlogPDescriptor\"              \"BCUTDescriptor1\"              \n",
       " [41] \"BCUTDescriptor2\"               \"BCUTDescriptor3\"              \n",
       " [43] \"BCUTDescriptor4\"               \"BCUTDescriptor5\"              \n",
       " [45] \"BCUTDescriptor6\"               \"AtomCountDescriptorN\"         \n",
       " [47] \"AtomCountDescriptorO\"          \"Electronegativity\"            \n",
       " [49] \"CarbonTypesDescriptor3\"        \"CarbonTypesDescriptor4\"       \n",
       " [51] \"CarbonTypesDescriptor5\"        \"CarbonTypesDescriptor6\"       \n",
       " [53] \"CarbonTypesDescriptor7\"        \"CarbonTypesDescriptor8\"       \n",
       " [55] \"CarbonTypesDescriptor9\"        \"Schneider.lag1\"               \n",
       " [57] \"Schneider.lag2\"                \"Schneider.lag3\"               \n",
       " [59] \"Schneider.lag4\"                \"Schneider.lag5\"               \n",
       " [61] \"Schneider.lag6\"                \"Schneider.lag7\"               \n",
       " [63] \"Schneider.lag8\"                \"Schneider.lag9\"               \n",
       " [65] \"Schneider.lag10\"               \"Schneider.lag11\"              \n",
       " [67] \"Schneider.lag12\"               \"Schneider.lag13\"              \n",
       " [69] \"Schneider.lag14\"               \"Schneider.lag15\"              \n",
       " [71] \"Schneider.lag16\"               \"Schneider.lag17\"              \n",
       " [73] \"Schneider.lag18\"               \"Schneider.lag19\"              \n",
       " [75] \"Schneider.lag20\"               \"Schneider.lag21\"              \n",
       " [77] \"Schneider.lag22\"               \"Schneider.lag23\"              \n",
       " [79] \"Schneider.lag24\"               \"Schneider.lag25\"              \n",
       " [81] \"Schneider.lag26\"               \"Schneider.lag27\"              \n",
       " [83] \"Schneider.lag28\"               \"Schneider.lag29\"              \n",
       " [85] \"Schneider.lag30\"               \"Grantham.lag1\"                \n",
       " [87] \"Grantham.lag2\"                 \"Grantham.lag3\"                \n",
       " [89] \"Grantham.lag4\"                 \"Grantham.lag5\"                \n",
       " [91] \"Grantham.lag6\"                 \"Grantham.lag7\"                \n",
       " [93] \"Grantham.lag8\"                 \"Grantham.lag9\"                \n",
       " [95] \"Grantham.lag10\"                \"Grantham.lag11\"               \n",
       " [97] \"Grantham.lag12\"                \"Grantham.lag13\"               \n",
       " [99] \"Grantham.lag14\"                \"Grantham.lag15\"               \n",
       "[101] \"Grantham.lag16\"                \"Grantham.lag17\"               \n",
       "[103] \"Grantham.lag18\"                \"Grantham.lag19\"               \n",
       "[105] \"Grantham.lag20\"                \"Grantham.lag21\"               \n",
       "[107] \"Grantham.lag22\"                \"Grantham.lag23\"               \n",
       "[109] \"Grantham.lag24\"                \"Grantham.lag25\"               \n",
       "[111] \"Grantham.lag26\"                \"Grantham.lag27\"               \n",
       "[113] \"Grantham.lag28\"                \"Grantham.lag29\"               \n",
       "[115] \"Grantham.lag30\"                \"HelixSS\"                      \n",
       "[117] \"StrandSS\"                      \"OtherSS\"                      \n",
       "[119] \"DominantSSHelix\"               \"DominantSSOther\"              \n",
       "[121] \"BuriedASA\"                     \"ExposedASA\"                   \n",
       "[123] \"RatioASA\"                      \"PocketASA\"                    \n",
       "[125] \"volume\"                        \"ba\"                           "
      ]
     },
     "metadata": {},
     "output_type": "display_data"
    }
   ],
   "source": [
    "colnames(results)"
   ]
  },
  {
   "cell_type": "markdown",
   "id": "2c99832d",
   "metadata": {},
   "source": [
    "#### Data splitting"
   ]
  },
  {
   "cell_type": "code",
   "execution_count": 38,
   "id": "0f09f501",
   "metadata": {},
   "outputs": [],
   "source": [
    "#### First Way ####\n",
    "\n",
    "train.index <- splitWithCategoricalCheck(results, results$ba)\n",
    "\n",
    "training_data <- results[train.index,]\n",
    "test_data <- results[-train.index,]\n",
    "\n",
    "training_meta <- results_meta[train.index,]\n",
    "test_meta <- results_meta[-train.index,]\n",
    "\n",
    "fwrite(training_data, file=\"work/training/dual-model/train-random.csv\", quote = FALSE, row.names = FALSE, col.names = TRUE, sep = \",\")\n",
    "fwrite(test_data, file=\"work/training/dual-model/test-random.csv\", quote = FALSE, row.names = FALSE, col.names = TRUE, sep = \",\")\n",
    "\n",
    "fwrite(training_meta, file=\"work/training/dual-model/train-meta-random.csv\", quote = FALSE, row.names = FALSE, col.names = TRUE, sep = \",\")\n",
    "fwrite(test_meta, file=\"work/training/dual-model/test-meta-random.csv\", quote = FALSE, row.names = FALSE, col.names = TRUE, sep = \",\")\n"
   ]
  },
  {
   "cell_type": "code",
   "execution_count": 39,
   "id": "01d25fe8",
   "metadata": {},
   "outputs": [],
   "source": [
    "#### Second way ####\n",
    "\n",
    "test.index.protein <- which(results_meta$pdb %in% c(\"2hb1\", \"2weg\", \"4wiv\", \"3b27\", \"3udh\"))\n",
    "\n",
    "training_data <- results[-test.index.protein,]\n",
    "test_data <- results[test.index.protein,]\n",
    "\n",
    "training_meta <- results_meta[-test.index.protein,]\n",
    "test_meta <- results_meta[test.index.protein,]\n",
    "\n",
    "fwrite(training_data, file=\"work/training/dual-model/train-protein.csv\", quote = FALSE, row.names = FALSE, col.names = TRUE, sep = \",\")\n",
    "fwrite(test_data, file=\"work/training/dual-model/test-protein.csv\", quote = FALSE, row.names = FALSE, col.names = TRUE, sep = \",\")\n",
    "\n",
    "fwrite(training_meta, file=\"work/training/dual-model/train-meta-protein.csv\", quote = FALSE, row.names = FALSE, col.names = TRUE, sep = \",\")\n",
    "fwrite(test_meta, file=\"work/training/dual-model/test-meta-protein.csv\", quote = FALSE, row.names = FALSE, col.names = TRUE, sep = \",\")\n"
   ]
  },
  {
   "cell_type": "code",
   "execution_count": 40,
   "id": "9cca3ce9",
   "metadata": {},
   "outputs": [],
   "source": [
    "#### Third way ####\n",
    "\n",
    "test.index.pocket <- which(results_meta$pdb %in% c(\"1owh\",\"5a7b\",\"3b5r\",\"4j21\",\"5c28\"))\n",
    "\n",
    "training_data <- results[-test.index.pocket,]\n",
    "test_data <- results[test.index.pocket,]\n",
    "\n",
    "training_meta <- results_meta[-test.index.pocket,]\n",
    "test_meta <- results_meta[test.index.pocket,]\n",
    "\n",
    "fwrite(training_data, file=\"work/training/dual-model/train-pocket.csv\", quote = FALSE, row.names = FALSE, col.names = TRUE, sep = \",\")\n",
    "fwrite(test_data, file=\"work/training/dual-model/test-pocket.csv\", quote = FALSE, row.names = FALSE, col.names = TRUE, sep = \",\")\n",
    "\n",
    "fwrite(training_meta, file=\"work/training/dual-model/train-meta-pocket.csv\", quote = FALSE, row.names = FALSE, col.names = TRUE, sep = \",\")\n",
    "fwrite(test_meta, file=\"work/training/dual-model/test-meta-pocket.csv\", quote = FALSE, row.names = FALSE, col.names = TRUE, sep = \",\")\n"
   ]
  },
  {
   "cell_type": "code",
   "execution_count": 41,
   "id": "e1bd82ae",
   "metadata": {},
   "outputs": [],
   "source": [
    "#### Fourth way ####\n",
    "\n",
    "pdba <- c(\"4crc\", pdb)\n",
    "\n",
    "train.index.weight <- getTrainSetByLigand(pdba, results_meta, by=\"weight\")\n",
    "\n",
    "training_data <- results[train.index.weight,]\n",
    "test_data <- results[-train.index.weight,]\n",
    "\n",
    "training_meta <- results_meta[train.index.weight,]\n",
    "test_meta <- results_meta[-train.index.weight,]\n",
    "\n",
    "fwrite(training_data, file=\"work/training/dual-model/train-ligand-weight.csv\", quote = FALSE, row.names = FALSE, col.names = TRUE, sep = \",\")\n",
    "fwrite(test_data, file=\"work/training/dual-model/test-ligand-weight.csv\", quote = FALSE, row.names = FALSE, col.names = TRUE, sep = \",\")\n",
    "\n",
    "fwrite(training_meta, file=\"work/training/dual-model/train-meta-ligand-weight.csv\", quote = FALSE, row.names = FALSE, col.names = TRUE, sep = \",\")\n",
    "fwrite(test_meta, file=\"work/training/dual-model/test-meta-ligand-weight.csv\", quote = FALSE, row.names = FALSE, col.names = TRUE, sep = \",\")\n"
   ]
  },
  {
   "cell_type": "code",
   "execution_count": 42,
   "id": "9bd3fb9b",
   "metadata": {},
   "outputs": [],
   "source": [
    "#### Fifth way ####\n",
    "\n",
    "train.index.tpsa <- getTrainSetByLigand(pdba, results_meta, by=\"tpsa\")\n",
    "\n",
    "training_data <- results[train.index.tpsa,]\n",
    "test_data <- results[-train.index.tpsa,]\n",
    "\n",
    "training_data <- results[train.index.tpsa,]\n",
    "test_data <- results[-train.index.tpsa,]\n",
    "\n",
    "fwrite(training_data, file=\"work/training/dual-model/train-ligand-tpsa.csv\", quote = FALSE, row.names = FALSE, col.names = TRUE, sep = \",\")\n",
    "fwrite(test_data, file=\"work/training/dual-model/test-ligand-tpsa.csv\", quote = FALSE, row.names = FALSE, col.names = TRUE, sep = \",\")\n",
    "\n",
    "fwrite(training_meta, file=\"work/training/dual-model/train-meta-ligand-tpsa.csv\", quote = FALSE, row.names = FALSE, col.names = TRUE, sep = \",\")\n",
    "fwrite(test_meta, file=\"work/training/dual-model/test-meta-ligand-tpsa.csv\", quote = FALSE, row.names = FALSE, col.names = TRUE, sep = \",\")\n"
   ]
  },
  {
   "cell_type": "code",
   "execution_count": 43,
   "id": "4f33ad57",
   "metadata": {},
   "outputs": [],
   "source": [
    "#### Sixth way ####\n",
    "\n",
    "train.index.volume <- getTrainSetByLigand(pdba, results_meta, by=\"volume\")\n",
    "\n",
    "training_data <- results[train.index.volume,]\n",
    "test_data <- results[-train.index.volume,]\n",
    "\n",
    "training_data <- results[train.index.volume,]\n",
    "test_data <- results[-train.index.volume,]\n",
    "\n",
    "fwrite(training_data, file=\"work/training/dual-model/train-ligand-volume.csv\", quote = FALSE, row.names = FALSE, col.names = TRUE, sep = \",\")\n",
    "fwrite(test_data, file=\"work/training/dual-model/test-ligand-volume.csv\", quote = FALSE, row.names = FALSE, col.names = TRUE, sep = \",\")\n",
    "\n",
    "fwrite(training_meta, file=\"work/training/dual-model/train-meta-ligand-volume.csv\", quote = FALSE, row.names = FALSE, col.names = TRUE, sep = \",\")\n",
    "fwrite(test_meta, file=\"work/training/dual-model/test-meta-ligand-volume.csv\", quote = FALSE, row.names = FALSE, col.names = TRUE, sep = \",\")\n"
   ]
  },
  {
   "cell_type": "markdown",
   "id": "9e9fa6f3",
   "metadata": {},
   "source": [
    "## Generate the mutation features dataset (random splitting)"
   ]
  },
  {
   "cell_type": "markdown",
   "id": "b3a8bf68",
   "metadata": {},
   "source": [
    "#### Data balancing"
   ]
  },
  {
   "cell_type": "code",
   "execution_count": 5,
   "id": "7ffb93b6",
   "metadata": {},
   "outputs": [],
   "source": [
    "training_data <- fread(file=\"work/training/dual-model/train-ligand-weight.csv\", quote = FALSE, sep = \",\")\n",
    "test_data <- fread(file=\"work/training/dual-model/test-ligand-weight.csv\", quote = FALSE, sep = \",\")\n",
    "\n",
    "training_meta <- fread(file=\"work/training/dual-model/train-meta-ligand-weight.csv\", quote = FALSE, sep = \",\")\n",
    "test_meta <- fread(file=\"work/training/dual-model/test-meta-ligand-weight.csv\", quote = FALSE, sep = \",\")"
   ]
  },
  {
   "cell_type": "code",
   "execution_count": 6,
   "id": "c83437af",
   "metadata": {},
   "outputs": [],
   "source": [
    "train_test_meta <- rbind(training_meta, test_meta)"
   ]
  },
  {
   "cell_type": "code",
   "execution_count": 7,
   "id": "57702e86",
   "metadata": {},
   "outputs": [],
   "source": [
    "pdb <- c(\"1owh\",\"2c3i\",\"2hb1\",\"2y5h\",\"3jvr\",\"4dli\",\"4e5w\",\"4jia\",\"4m0y\",\"4twp\",\n",
    "         \"5a7b\",\"3udh\",\"5c28\",\"4wiv\",\"3b5r\",\"3b27\",\"3fv1\",\"3pxf\",\"3u9q\",\"3up2\",\n",
    "         \"2pog\", \"2weg\", \"4gr0\", \"4j21\", \"3utu\")"
   ]
  },
  {
   "cell_type": "code",
   "execution_count": 8,
   "id": "6fc5dc33",
   "metadata": {},
   "outputs": [],
   "source": [
    "results <- prepareFeaturesMutations(\"4crc\", train_test_meta$ligand)"
   ]
  },
  {
   "cell_type": "code",
   "execution_count": 9,
   "id": "97f37583",
   "metadata": {},
   "outputs": [],
   "source": [
    "for(i in pdb){\n",
    "  results <- rbind(results,prepareFeaturesMutations(i, train_test_meta$ligand))\n",
    "}"
   ]
  },
  {
   "cell_type": "markdown",
   "id": "7ee8ba31",
   "metadata": {},
   "source": [
    "#### Data preprocessing"
   ]
  },
  {
   "cell_type": "code",
   "execution_count": null,
   "id": "fc05336a",
   "metadata": {},
   "outputs": [],
   "source": [
    "results <- results[results$ba < -4,]\n",
    "results <- results[results$ba >= -16,]\n",
    "\n",
    "results_meta <- results[,c(1:3)]\n",
    "results <- results[,c(4:ncol(results))]"
   ]
  },
  {
   "cell_type": "code",
   "execution_count": 10,
   "id": "aa4eba06",
   "metadata": {},
   "outputs": [
    {
     "name": "stdout",
     "output_type": "stream",
     "text": [
      "[1] \"Rows: 197925\"\n",
      "[1] \"Columns: 135\"\n"
     ]
    }
   ],
   "source": [
    "print(paste(\"Rows:\",nrow(results)))\n",
    "print(paste(\"Columns:\",ncol(results)))"
   ]
  },
  {
   "cell_type": "code",
   "execution_count": 11,
   "id": "23eba802",
   "metadata": {},
   "outputs": [
    {
     "data": {
      "text/html": [
       "<style>\n",
       ".list-inline {list-style: none; margin:0; padding: 0}\n",
       ".list-inline>li {display: inline-block}\n",
       ".list-inline>li:not(:last-child)::after {content: \"\\00b7\"; padding: 0 .5ex}\n",
       "</style>\n",
       "<ol class=list-inline><li>'Sidechain_Hbond'</li><li>'Electrostatics'</li><li>'sloop_entropy'</li><li>'mloop_entropy'</li><li>'cis_bond'</li><li>'helix_dipole'</li><li>'water_bridge'</li><li>'disulfide'</li><li>'electrostatic_kon'</li><li>'partial_covalent_bonds'</li><li>'energy_Ionisation'</li><li>'Entropy_Complex'</li></ol>\n"
      ],
      "text/latex": [
       "\\begin{enumerate*}\n",
       "\\item 'Sidechain\\_Hbond'\n",
       "\\item 'Electrostatics'\n",
       "\\item 'sloop\\_entropy'\n",
       "\\item 'mloop\\_entropy'\n",
       "\\item 'cis\\_bond'\n",
       "\\item 'helix\\_dipole'\n",
       "\\item 'water\\_bridge'\n",
       "\\item 'disulfide'\n",
       "\\item 'electrostatic\\_kon'\n",
       "\\item 'partial\\_covalent\\_bonds'\n",
       "\\item 'energy\\_Ionisation'\n",
       "\\item 'Entropy\\_Complex'\n",
       "\\end{enumerate*}\n"
      ],
      "text/markdown": [
       "1. 'Sidechain_Hbond'\n",
       "2. 'Electrostatics'\n",
       "3. 'sloop_entropy'\n",
       "4. 'mloop_entropy'\n",
       "5. 'cis_bond'\n",
       "6. 'helix_dipole'\n",
       "7. 'water_bridge'\n",
       "8. 'disulfide'\n",
       "9. 'electrostatic_kon'\n",
       "10. 'partial_covalent_bonds'\n",
       "11. 'energy_Ionisation'\n",
       "12. 'Entropy_Complex'\n",
       "\n",
       "\n"
      ],
      "text/plain": [
       " [1] \"Sidechain_Hbond\"        \"Electrostatics\"         \"sloop_entropy\"         \n",
       " [4] \"mloop_entropy\"          \"cis_bond\"               \"helix_dipole\"          \n",
       " [7] \"water_bridge\"           \"disulfide\"              \"electrostatic_kon\"     \n",
       "[10] \"partial_covalent_bonds\" \"energy_Ionisation\"      \"Entropy_Complex\"       "
      ]
     },
     "metadata": {},
     "output_type": "display_data"
    }
   ],
   "source": [
    "nzv_columns <- nearZeroVar(results)\n",
    "colnames(results)[nzv_columns]"
   ]
  },
  {
   "cell_type": "code",
   "execution_count": 12,
   "id": "276993ad",
   "metadata": {},
   "outputs": [],
   "source": [
    "results <- results[,-nzv_columns]"
   ]
  },
  {
   "cell_type": "code",
   "execution_count": 13,
   "id": "9d7cade2",
   "metadata": {},
   "outputs": [
    {
     "name": "stdout",
     "output_type": "stream",
     "text": [
      "[1] \"Rows: 197925\"\n",
      "[1] \"Columns: 123\"\n"
     ]
    }
   ],
   "source": [
    "print(paste(\"Rows:\",nrow(results)))\n",
    "print(paste(\"Columns:\",ncol(results)))"
   ]
  },
  {
   "cell_type": "code",
   "execution_count": 14,
   "id": "029279cf",
   "metadata": {},
   "outputs": [],
   "source": [
    "dummies <- dummyVars(ba ~ ., data = results)\n",
    "dummies_tmp <- predict(dummies, newdata = results)\n",
    "\n",
    "results <- cbind(dummies_tmp, results$ba)\n",
    "\n",
    "colnames(results)[length(colnames(results))] <- \"ba\"\n",
    "\n",
    "results <- as.data.frame(results)"
   ]
  },
  {
   "cell_type": "markdown",
   "id": "07f2b7b4",
   "metadata": {},
   "source": [
    "#### Data splitting"
   ]
  },
  {
   "cell_type": "code",
   "execution_count": 15,
   "id": "809ffbaa",
   "metadata": {},
   "outputs": [],
   "source": [
    "#### Random Split ####\n",
    "\n",
    "train.index <- createDataPartition(results$ba, p = .8, list = FALSE)\n",
    "\n",
    "training_data <- results[train.index,]\n",
    "test_data <- results[-train.index,]\n",
    "\n",
    "training_meta <- results_meta[train.index,]\n",
    "test_meta <- results_meta[-train.index,]\n",
    "\n",
    "fwrite(training_data, file=\"work/training/dual-model/train-mutations-random.csv\", quote = FALSE, row.names = FALSE, col.names = TRUE, sep = \",\")\n",
    "fwrite(test_data, file=\"work/training/dual-model/test-mutations-random.csv\", quote = FALSE, row.names = FALSE, col.names = TRUE, sep = \",\")\n",
    "\n",
    "fwrite(training_meta, file=\"work/training/dual-model/train-mutations-meta-random.csv\", quote = FALSE, row.names = FALSE, col.names = TRUE, sep = \",\")\n",
    "fwrite(test_meta, file=\"work/training/dual-model/test-mutations-meta-random.csv\", quote = FALSE, row.names = FALSE, col.names = TRUE, sep = \",\")\n"
   ]
  },
  {
   "cell_type": "code",
   "execution_count": 16,
   "id": "4782b33d",
   "metadata": {},
   "outputs": [
    {
     "data": {
      "text/html": [
       "<style>\n",
       ".list-inline {list-style: none; margin:0; padding: 0}\n",
       ".list-inline>li {display: inline-block}\n",
       ".list-inline>li:not(:last-child)::after {content: \"\\00b7\"; padding: 0 .5ex}\n",
       "</style>\n",
       "<ol class=list-inline><li>'secStruct3-10 Helix'</li><li>'secStructalpha Helix'</li><li>'secStructBend'</li><li>'secStructBridge'</li><li>'secStructCoil'</li><li>'secStructExtended'</li><li>'secStructTurn'</li><li>'secStructSimpleHelix'</li><li>'secStructSimpleOther'</li><li>'secStructSimpleStrand'</li><li>'CysteineMutationNO'</li><li>'CysteineMutationYES'</li><li>'GlycineMutationNO'</li><li>'GlycineMutationYES'</li><li>'ProlineMutationNO'</li><li>'ProlineMutationYES'</li><li>'ChargeGroupChangegroup1-group1'</li><li>'ChargeGroupChangegroup1-group2'</li><li>'ChargeGroupChangegroup1-group3'</li><li>'ChargeGroupChangegroup2-group1'</li><li>'ChargeGroupChangegroup2-group2'</li><li>'ChargeGroupChangegroup2-group3'</li><li>'ChargeGroupChangegroup3-group1'</li><li>'ChargeGroupChangegroup3-group2'</li><li>'ChargeGroupChangegroup3-group3'</li><li>'HydroGroupChangegroup1-group1'</li><li>'HydroGroupChangegroup1-group2'</li><li>'HydroGroupChangegroup1-group3'</li><li>'HydroGroupChangegroup2-group1'</li><li>'HydroGroupChangegroup2-group2'</li><li>'HydroGroupChangegroup2-group3'</li><li>'HydroGroupChangegroup3-group1'</li><li>'HydroGroupChangegroup3-group2'</li><li>'HydroGroupChangegroup3-group3'</li><li>'VanDerWaalsVolumeGroupChangegroup1-group1'</li><li>'VanDerWaalsVolumeGroupChangegroup1-group2'</li><li>'VanDerWaalsVolumeGroupChangegroup1-group3'</li><li>'VanDerWaalsVolumeGroupChangegroup2-group1'</li><li>'VanDerWaalsVolumeGroupChangegroup2-group2'</li><li>'VanDerWaalsVolumeGroupChangegroup2-group3'</li><li>'VanDerWaalsVolumeGroupChangegroup3-group1'</li><li>'VanDerWaalsVolumeGroupChangegroup3-group2'</li><li>'VanDerWaalsVolumeGroupChangegroup3-group3'</li><li>'PloarityGroupChangegroup1-group1'</li><li>'PloarityGroupChangegroup1-group2'</li><li>'PloarityGroupChangegroup1-group3'</li><li>'PloarityGroupChangegroup2-group1'</li><li>'PloarityGroupChangegroup2-group2'</li><li>'PloarityGroupChangegroup2-group3'</li><li>'PloarityGroupChangegroup3-group1'</li><li>'PloarityGroupChangegroup3-group2'</li><li>'PloarityGroupChangegroup3-group3'</li><li>'PolarizabilityGroupChangegroup1-group1'</li><li>'PolarizabilityGroupChangegroup1-group2'</li><li>'PolarizabilityGroupChangegroup1-group3'</li><li>'PolarizabilityGroupChangegroup2-group1'</li><li>'PolarizabilityGroupChangegroup2-group2'</li><li>'PolarizabilityGroupChangegroup2-group3'</li><li>'PolarizabilityGroupChangegroup3-group1'</li><li>'PolarizabilityGroupChangegroup3-group2'</li><li>'PolarizabilityGroupChangegroup3-group3'</li><li>'SSWTGroupChangegroup1-group1'</li><li>'SSWTGroupChangegroup1-group2'</li><li>'SSWTGroupChangegroup1-group3'</li><li>'SSWTGroupChangegroup2-group1'</li><li>'SSWTGroupChangegroup2-group2'</li><li>'SSWTGroupChangegroup2-group3'</li><li>'SSWTGroupChangegroup3-group1'</li><li>'SSWTGroupChangegroup3-group2'</li><li>'SSWTGroupChangegroup3-group3'</li><li>'AsaGroupChangegroup1-group1'</li><li>'AsaGroupChangegroup1-group2'</li><li>'AsaGroupChangegroup1-group3'</li><li>'AsaGroupChangegroup2-group1'</li><li>'AsaGroupChangegroup2-group2'</li><li>'AsaGroupChangegroup2-group3'</li><li>'AsaGroupChangegroup3-group1'</li><li>'AsaGroupChangegroup3-group2'</li><li>'AsaGroupChangegroup3-group3'</li><li>'AsaChange'</li><li>'mutationPhi'</li><li>'mutationPsi'</li><li>'compressibility'</li><li>'t_hydrophobicity'</li><li>'s_hydrophobicity'</li><li>'polarity'</li><li>'isoelectric_point'</li><li>'pk'</li><li>'mw'</li><li>'bulkiness'</li><li>'chromatographic_index'</li><li>'refractive_index'</li><li>'n_hydrophobicity'</li><li>'sm_nonbonded_energy'</li><li>'l_nonbonded_energy'</li><li>'total_nonbonded_energy'</li><li>'helix_tendency'</li><li>'sheet_tendency'</li><li>'turn_tendency'</li><li>'coil_tendency'</li><li>'helical_contact_area'</li><li>'fluctuational_displacement'</li><li>'buriedness'</li><li>'sa_reduction_ratio'</li><li>'avg_surrounding_residues'</li><li>'loc_n_helix_tendency'</li><li>'loc_c_helix_tendency'</li><li>'loc_m_helix_tendency'</li><li>'partial_specific_volume'</li><li>'avg_med_contacts'</li><li>'avg_long_contacts'</li><li>'surrounding_hydrophobicity'</li><li>'asa_denaturated'</li><li>'asa_native'</li><li>'asa_unfolding'</li><li>'delta_g_hydration_unfolding'</li><li>'delta_g_hydration_denaturated'</li><li>'delta_g_hydration_native'</li><li>'unfolding_enthalpy_change_hydration'</li><li>'unfolding_entropy_change_hydration'</li><li>'unfolding_hydration_heat_capacity_change'</li><li>'unfolding_gibbs_chain'</li><li>'unfolding_enthalpy_chain'</li><li>'unfolding_entropy_chain'</li><li>'unfolding_gibbs'</li><li>'unfolding_enthalpy'</li><li>'unfolding_entropy'</li><li>'volume'</li><li>'shape'</li><li>'flexibility'</li><li>'compressibilitySurrounding'</li><li>'t_hydrophobicitySurrounding'</li><li>'s_hydrophobicitySurrounding'</li><li>'polaritySurrounding'</li><li>'isoelectric_pointSurrounding'</li><li>'pkSurrounding'</li><li>'mwSurrounding'</li><li>'bulkinessSurrounding'</li><li>'chromatographic_indexSurrounding'</li><li>'refractive_indexSurrounding'</li><li>'n_hydrophobicitySurrounding'</li><li>'sm_nonbonded_energySurrounding'</li><li>'l_nonbonded_energySurrounding'</li><li>'total_nonbonded_energySurrounding'</li><li>'helix_tendencySurrounding'</li><li>'sheet_tendencySurrounding'</li><li>'turn_tendencySurrounding'</li><li>'coil_tendencySurrounding'</li><li>'helical_contact_areaSurrounding'</li><li>'fluctuational_displacementSurrounding'</li><li>'buriednessSurrounding'</li><li>'sa_reduction_ratioSurrounding'</li><li>'avg_surrounding_residuesSurrounding'</li><li>'loc_n_helix_tendencySurrounding'</li><li>'loc_c_helix_tendencySurrounding'</li><li>'loc_m_helix_tendencySurrounding'</li><li>'partial_specific_volumeSurrounding'</li><li>'avg_med_contactsSurrounding'</li><li>'avg_long_contactsSurrounding'</li><li>'surrounding_hydrophobicitySurrounding'</li><li>'asa_denaturatedSurrounding'</li><li>'asa_nativeSurrounding'</li><li>'asa_unfoldingSurrounding'</li><li>'delta_g_hydration_unfoldingSurrounding'</li><li>'delta_g_hydration_denaturatedSurrounding'</li><li>'delta_g_hydration_nativeSurrounding'</li><li>'unfolding_enthalpy_change_hydrationSurrounding'</li><li>'unfolding_entropy_change_hydrationSurrounding'</li><li>'unfolding_hydration_heat_capacity_changeSurrounding'</li><li>'unfolding_gibbs_chainSurrounding'</li><li>'unfolding_enthalpy_chainSurrounding'</li><li>'unfolding_entropy_chainSurrounding'</li><li>'unfolding_gibbsSurrounding'</li><li>'unfolding_enthalpySurrounding'</li><li>'unfolding_entropySurrounding'</li><li>'volumeSurrounding'</li><li>'shapeSurrounding'</li><li>'flexibilitySurrounding'</li><li>'total_energy'</li><li>'Backbone_Hbond'</li><li>'Van_der_Waals'</li><li>'Solvation_Polar'</li><li>'Solvation_Hydrophobic'</li><li>'Van_der_Waals_clashes'</li><li>'entropy_sidechain'</li><li>'entropy_mainchain'</li><li>'torsional_clash'</li><li>'backbone_clash'</li><li>'wt_ba'</li><li>'ba'</li></ol>\n"
      ],
      "text/latex": [
       "\\begin{enumerate*}\n",
       "\\item 'secStruct3-10 Helix'\n",
       "\\item 'secStructalpha Helix'\n",
       "\\item 'secStructBend'\n",
       "\\item 'secStructBridge'\n",
       "\\item 'secStructCoil'\n",
       "\\item 'secStructExtended'\n",
       "\\item 'secStructTurn'\n",
       "\\item 'secStructSimpleHelix'\n",
       "\\item 'secStructSimpleOther'\n",
       "\\item 'secStructSimpleStrand'\n",
       "\\item 'CysteineMutationNO'\n",
       "\\item 'CysteineMutationYES'\n",
       "\\item 'GlycineMutationNO'\n",
       "\\item 'GlycineMutationYES'\n",
       "\\item 'ProlineMutationNO'\n",
       "\\item 'ProlineMutationYES'\n",
       "\\item 'ChargeGroupChangegroup1-group1'\n",
       "\\item 'ChargeGroupChangegroup1-group2'\n",
       "\\item 'ChargeGroupChangegroup1-group3'\n",
       "\\item 'ChargeGroupChangegroup2-group1'\n",
       "\\item 'ChargeGroupChangegroup2-group2'\n",
       "\\item 'ChargeGroupChangegroup2-group3'\n",
       "\\item 'ChargeGroupChangegroup3-group1'\n",
       "\\item 'ChargeGroupChangegroup3-group2'\n",
       "\\item 'ChargeGroupChangegroup3-group3'\n",
       "\\item 'HydroGroupChangegroup1-group1'\n",
       "\\item 'HydroGroupChangegroup1-group2'\n",
       "\\item 'HydroGroupChangegroup1-group3'\n",
       "\\item 'HydroGroupChangegroup2-group1'\n",
       "\\item 'HydroGroupChangegroup2-group2'\n",
       "\\item 'HydroGroupChangegroup2-group3'\n",
       "\\item 'HydroGroupChangegroup3-group1'\n",
       "\\item 'HydroGroupChangegroup3-group2'\n",
       "\\item 'HydroGroupChangegroup3-group3'\n",
       "\\item 'VanDerWaalsVolumeGroupChangegroup1-group1'\n",
       "\\item 'VanDerWaalsVolumeGroupChangegroup1-group2'\n",
       "\\item 'VanDerWaalsVolumeGroupChangegroup1-group3'\n",
       "\\item 'VanDerWaalsVolumeGroupChangegroup2-group1'\n",
       "\\item 'VanDerWaalsVolumeGroupChangegroup2-group2'\n",
       "\\item 'VanDerWaalsVolumeGroupChangegroup2-group3'\n",
       "\\item 'VanDerWaalsVolumeGroupChangegroup3-group1'\n",
       "\\item 'VanDerWaalsVolumeGroupChangegroup3-group2'\n",
       "\\item 'VanDerWaalsVolumeGroupChangegroup3-group3'\n",
       "\\item 'PloarityGroupChangegroup1-group1'\n",
       "\\item 'PloarityGroupChangegroup1-group2'\n",
       "\\item 'PloarityGroupChangegroup1-group3'\n",
       "\\item 'PloarityGroupChangegroup2-group1'\n",
       "\\item 'PloarityGroupChangegroup2-group2'\n",
       "\\item 'PloarityGroupChangegroup2-group3'\n",
       "\\item 'PloarityGroupChangegroup3-group1'\n",
       "\\item 'PloarityGroupChangegroup3-group2'\n",
       "\\item 'PloarityGroupChangegroup3-group3'\n",
       "\\item 'PolarizabilityGroupChangegroup1-group1'\n",
       "\\item 'PolarizabilityGroupChangegroup1-group2'\n",
       "\\item 'PolarizabilityGroupChangegroup1-group3'\n",
       "\\item 'PolarizabilityGroupChangegroup2-group1'\n",
       "\\item 'PolarizabilityGroupChangegroup2-group2'\n",
       "\\item 'PolarizabilityGroupChangegroup2-group3'\n",
       "\\item 'PolarizabilityGroupChangegroup3-group1'\n",
       "\\item 'PolarizabilityGroupChangegroup3-group2'\n",
       "\\item 'PolarizabilityGroupChangegroup3-group3'\n",
       "\\item 'SSWTGroupChangegroup1-group1'\n",
       "\\item 'SSWTGroupChangegroup1-group2'\n",
       "\\item 'SSWTGroupChangegroup1-group3'\n",
       "\\item 'SSWTGroupChangegroup2-group1'\n",
       "\\item 'SSWTGroupChangegroup2-group2'\n",
       "\\item 'SSWTGroupChangegroup2-group3'\n",
       "\\item 'SSWTGroupChangegroup3-group1'\n",
       "\\item 'SSWTGroupChangegroup3-group2'\n",
       "\\item 'SSWTGroupChangegroup3-group3'\n",
       "\\item 'AsaGroupChangegroup1-group1'\n",
       "\\item 'AsaGroupChangegroup1-group2'\n",
       "\\item 'AsaGroupChangegroup1-group3'\n",
       "\\item 'AsaGroupChangegroup2-group1'\n",
       "\\item 'AsaGroupChangegroup2-group2'\n",
       "\\item 'AsaGroupChangegroup2-group3'\n",
       "\\item 'AsaGroupChangegroup3-group1'\n",
       "\\item 'AsaGroupChangegroup3-group2'\n",
       "\\item 'AsaGroupChangegroup3-group3'\n",
       "\\item 'AsaChange'\n",
       "\\item 'mutationPhi'\n",
       "\\item 'mutationPsi'\n",
       "\\item 'compressibility'\n",
       "\\item 't\\_hydrophobicity'\n",
       "\\item 's\\_hydrophobicity'\n",
       "\\item 'polarity'\n",
       "\\item 'isoelectric\\_point'\n",
       "\\item 'pk'\n",
       "\\item 'mw'\n",
       "\\item 'bulkiness'\n",
       "\\item 'chromatographic\\_index'\n",
       "\\item 'refractive\\_index'\n",
       "\\item 'n\\_hydrophobicity'\n",
       "\\item 'sm\\_nonbonded\\_energy'\n",
       "\\item 'l\\_nonbonded\\_energy'\n",
       "\\item 'total\\_nonbonded\\_energy'\n",
       "\\item 'helix\\_tendency'\n",
       "\\item 'sheet\\_tendency'\n",
       "\\item 'turn\\_tendency'\n",
       "\\item 'coil\\_tendency'\n",
       "\\item 'helical\\_contact\\_area'\n",
       "\\item 'fluctuational\\_displacement'\n",
       "\\item 'buriedness'\n",
       "\\item 'sa\\_reduction\\_ratio'\n",
       "\\item 'avg\\_surrounding\\_residues'\n",
       "\\item 'loc\\_n\\_helix\\_tendency'\n",
       "\\item 'loc\\_c\\_helix\\_tendency'\n",
       "\\item 'loc\\_m\\_helix\\_tendency'\n",
       "\\item 'partial\\_specific\\_volume'\n",
       "\\item 'avg\\_med\\_contacts'\n",
       "\\item 'avg\\_long\\_contacts'\n",
       "\\item 'surrounding\\_hydrophobicity'\n",
       "\\item 'asa\\_denaturated'\n",
       "\\item 'asa\\_native'\n",
       "\\item 'asa\\_unfolding'\n",
       "\\item 'delta\\_g\\_hydration\\_unfolding'\n",
       "\\item 'delta\\_g\\_hydration\\_denaturated'\n",
       "\\item 'delta\\_g\\_hydration\\_native'\n",
       "\\item 'unfolding\\_enthalpy\\_change\\_hydration'\n",
       "\\item 'unfolding\\_entropy\\_change\\_hydration'\n",
       "\\item 'unfolding\\_hydration\\_heat\\_capacity\\_change'\n",
       "\\item 'unfolding\\_gibbs\\_chain'\n",
       "\\item 'unfolding\\_enthalpy\\_chain'\n",
       "\\item 'unfolding\\_entropy\\_chain'\n",
       "\\item 'unfolding\\_gibbs'\n",
       "\\item 'unfolding\\_enthalpy'\n",
       "\\item 'unfolding\\_entropy'\n",
       "\\item 'volume'\n",
       "\\item 'shape'\n",
       "\\item 'flexibility'\n",
       "\\item 'compressibilitySurrounding'\n",
       "\\item 't\\_hydrophobicitySurrounding'\n",
       "\\item 's\\_hydrophobicitySurrounding'\n",
       "\\item 'polaritySurrounding'\n",
       "\\item 'isoelectric\\_pointSurrounding'\n",
       "\\item 'pkSurrounding'\n",
       "\\item 'mwSurrounding'\n",
       "\\item 'bulkinessSurrounding'\n",
       "\\item 'chromatographic\\_indexSurrounding'\n",
       "\\item 'refractive\\_indexSurrounding'\n",
       "\\item 'n\\_hydrophobicitySurrounding'\n",
       "\\item 'sm\\_nonbonded\\_energySurrounding'\n",
       "\\item 'l\\_nonbonded\\_energySurrounding'\n",
       "\\item 'total\\_nonbonded\\_energySurrounding'\n",
       "\\item 'helix\\_tendencySurrounding'\n",
       "\\item 'sheet\\_tendencySurrounding'\n",
       "\\item 'turn\\_tendencySurrounding'\n",
       "\\item 'coil\\_tendencySurrounding'\n",
       "\\item 'helical\\_contact\\_areaSurrounding'\n",
       "\\item 'fluctuational\\_displacementSurrounding'\n",
       "\\item 'buriednessSurrounding'\n",
       "\\item 'sa\\_reduction\\_ratioSurrounding'\n",
       "\\item 'avg\\_surrounding\\_residuesSurrounding'\n",
       "\\item 'loc\\_n\\_helix\\_tendencySurrounding'\n",
       "\\item 'loc\\_c\\_helix\\_tendencySurrounding'\n",
       "\\item 'loc\\_m\\_helix\\_tendencySurrounding'\n",
       "\\item 'partial\\_specific\\_volumeSurrounding'\n",
       "\\item 'avg\\_med\\_contactsSurrounding'\n",
       "\\item 'avg\\_long\\_contactsSurrounding'\n",
       "\\item 'surrounding\\_hydrophobicitySurrounding'\n",
       "\\item 'asa\\_denaturatedSurrounding'\n",
       "\\item 'asa\\_nativeSurrounding'\n",
       "\\item 'asa\\_unfoldingSurrounding'\n",
       "\\item 'delta\\_g\\_hydration\\_unfoldingSurrounding'\n",
       "\\item 'delta\\_g\\_hydration\\_denaturatedSurrounding'\n",
       "\\item 'delta\\_g\\_hydration\\_nativeSurrounding'\n",
       "\\item 'unfolding\\_enthalpy\\_change\\_hydrationSurrounding'\n",
       "\\item 'unfolding\\_entropy\\_change\\_hydrationSurrounding'\n",
       "\\item 'unfolding\\_hydration\\_heat\\_capacity\\_changeSurrounding'\n",
       "\\item 'unfolding\\_gibbs\\_chainSurrounding'\n",
       "\\item 'unfolding\\_enthalpy\\_chainSurrounding'\n",
       "\\item 'unfolding\\_entropy\\_chainSurrounding'\n",
       "\\item 'unfolding\\_gibbsSurrounding'\n",
       "\\item 'unfolding\\_enthalpySurrounding'\n",
       "\\item 'unfolding\\_entropySurrounding'\n",
       "\\item 'volumeSurrounding'\n",
       "\\item 'shapeSurrounding'\n",
       "\\item 'flexibilitySurrounding'\n",
       "\\item 'total\\_energy'\n",
       "\\item 'Backbone\\_Hbond'\n",
       "\\item 'Van\\_der\\_Waals'\n",
       "\\item 'Solvation\\_Polar'\n",
       "\\item 'Solvation\\_Hydrophobic'\n",
       "\\item 'Van\\_der\\_Waals\\_clashes'\n",
       "\\item 'entropy\\_sidechain'\n",
       "\\item 'entropy\\_mainchain'\n",
       "\\item 'torsional\\_clash'\n",
       "\\item 'backbone\\_clash'\n",
       "\\item 'wt\\_ba'\n",
       "\\item 'ba'\n",
       "\\end{enumerate*}\n"
      ],
      "text/markdown": [
       "1. 'secStruct3-10 Helix'\n",
       "2. 'secStructalpha Helix'\n",
       "3. 'secStructBend'\n",
       "4. 'secStructBridge'\n",
       "5. 'secStructCoil'\n",
       "6. 'secStructExtended'\n",
       "7. 'secStructTurn'\n",
       "8. 'secStructSimpleHelix'\n",
       "9. 'secStructSimpleOther'\n",
       "10. 'secStructSimpleStrand'\n",
       "11. 'CysteineMutationNO'\n",
       "12. 'CysteineMutationYES'\n",
       "13. 'GlycineMutationNO'\n",
       "14. 'GlycineMutationYES'\n",
       "15. 'ProlineMutationNO'\n",
       "16. 'ProlineMutationYES'\n",
       "17. 'ChargeGroupChangegroup1-group1'\n",
       "18. 'ChargeGroupChangegroup1-group2'\n",
       "19. 'ChargeGroupChangegroup1-group3'\n",
       "20. 'ChargeGroupChangegroup2-group1'\n",
       "21. 'ChargeGroupChangegroup2-group2'\n",
       "22. 'ChargeGroupChangegroup2-group3'\n",
       "23. 'ChargeGroupChangegroup3-group1'\n",
       "24. 'ChargeGroupChangegroup3-group2'\n",
       "25. 'ChargeGroupChangegroup3-group3'\n",
       "26. 'HydroGroupChangegroup1-group1'\n",
       "27. 'HydroGroupChangegroup1-group2'\n",
       "28. 'HydroGroupChangegroup1-group3'\n",
       "29. 'HydroGroupChangegroup2-group1'\n",
       "30. 'HydroGroupChangegroup2-group2'\n",
       "31. 'HydroGroupChangegroup2-group3'\n",
       "32. 'HydroGroupChangegroup3-group1'\n",
       "33. 'HydroGroupChangegroup3-group2'\n",
       "34. 'HydroGroupChangegroup3-group3'\n",
       "35. 'VanDerWaalsVolumeGroupChangegroup1-group1'\n",
       "36. 'VanDerWaalsVolumeGroupChangegroup1-group2'\n",
       "37. 'VanDerWaalsVolumeGroupChangegroup1-group3'\n",
       "38. 'VanDerWaalsVolumeGroupChangegroup2-group1'\n",
       "39. 'VanDerWaalsVolumeGroupChangegroup2-group2'\n",
       "40. 'VanDerWaalsVolumeGroupChangegroup2-group3'\n",
       "41. 'VanDerWaalsVolumeGroupChangegroup3-group1'\n",
       "42. 'VanDerWaalsVolumeGroupChangegroup3-group2'\n",
       "43. 'VanDerWaalsVolumeGroupChangegroup3-group3'\n",
       "44. 'PloarityGroupChangegroup1-group1'\n",
       "45. 'PloarityGroupChangegroup1-group2'\n",
       "46. 'PloarityGroupChangegroup1-group3'\n",
       "47. 'PloarityGroupChangegroup2-group1'\n",
       "48. 'PloarityGroupChangegroup2-group2'\n",
       "49. 'PloarityGroupChangegroup2-group3'\n",
       "50. 'PloarityGroupChangegroup3-group1'\n",
       "51. 'PloarityGroupChangegroup3-group2'\n",
       "52. 'PloarityGroupChangegroup3-group3'\n",
       "53. 'PolarizabilityGroupChangegroup1-group1'\n",
       "54. 'PolarizabilityGroupChangegroup1-group2'\n",
       "55. 'PolarizabilityGroupChangegroup1-group3'\n",
       "56. 'PolarizabilityGroupChangegroup2-group1'\n",
       "57. 'PolarizabilityGroupChangegroup2-group2'\n",
       "58. 'PolarizabilityGroupChangegroup2-group3'\n",
       "59. 'PolarizabilityGroupChangegroup3-group1'\n",
       "60. 'PolarizabilityGroupChangegroup3-group2'\n",
       "61. 'PolarizabilityGroupChangegroup3-group3'\n",
       "62. 'SSWTGroupChangegroup1-group1'\n",
       "63. 'SSWTGroupChangegroup1-group2'\n",
       "64. 'SSWTGroupChangegroup1-group3'\n",
       "65. 'SSWTGroupChangegroup2-group1'\n",
       "66. 'SSWTGroupChangegroup2-group2'\n",
       "67. 'SSWTGroupChangegroup2-group3'\n",
       "68. 'SSWTGroupChangegroup3-group1'\n",
       "69. 'SSWTGroupChangegroup3-group2'\n",
       "70. 'SSWTGroupChangegroup3-group3'\n",
       "71. 'AsaGroupChangegroup1-group1'\n",
       "72. 'AsaGroupChangegroup1-group2'\n",
       "73. 'AsaGroupChangegroup1-group3'\n",
       "74. 'AsaGroupChangegroup2-group1'\n",
       "75. 'AsaGroupChangegroup2-group2'\n",
       "76. 'AsaGroupChangegroup2-group3'\n",
       "77. 'AsaGroupChangegroup3-group1'\n",
       "78. 'AsaGroupChangegroup3-group2'\n",
       "79. 'AsaGroupChangegroup3-group3'\n",
       "80. 'AsaChange'\n",
       "81. 'mutationPhi'\n",
       "82. 'mutationPsi'\n",
       "83. 'compressibility'\n",
       "84. 't_hydrophobicity'\n",
       "85. 's_hydrophobicity'\n",
       "86. 'polarity'\n",
       "87. 'isoelectric_point'\n",
       "88. 'pk'\n",
       "89. 'mw'\n",
       "90. 'bulkiness'\n",
       "91. 'chromatographic_index'\n",
       "92. 'refractive_index'\n",
       "93. 'n_hydrophobicity'\n",
       "94. 'sm_nonbonded_energy'\n",
       "95. 'l_nonbonded_energy'\n",
       "96. 'total_nonbonded_energy'\n",
       "97. 'helix_tendency'\n",
       "98. 'sheet_tendency'\n",
       "99. 'turn_tendency'\n",
       "100. 'coil_tendency'\n",
       "101. 'helical_contact_area'\n",
       "102. 'fluctuational_displacement'\n",
       "103. 'buriedness'\n",
       "104. 'sa_reduction_ratio'\n",
       "105. 'avg_surrounding_residues'\n",
       "106. 'loc_n_helix_tendency'\n",
       "107. 'loc_c_helix_tendency'\n",
       "108. 'loc_m_helix_tendency'\n",
       "109. 'partial_specific_volume'\n",
       "110. 'avg_med_contacts'\n",
       "111. 'avg_long_contacts'\n",
       "112. 'surrounding_hydrophobicity'\n",
       "113. 'asa_denaturated'\n",
       "114. 'asa_native'\n",
       "115. 'asa_unfolding'\n",
       "116. 'delta_g_hydration_unfolding'\n",
       "117. 'delta_g_hydration_denaturated'\n",
       "118. 'delta_g_hydration_native'\n",
       "119. 'unfolding_enthalpy_change_hydration'\n",
       "120. 'unfolding_entropy_change_hydration'\n",
       "121. 'unfolding_hydration_heat_capacity_change'\n",
       "122. 'unfolding_gibbs_chain'\n",
       "123. 'unfolding_enthalpy_chain'\n",
       "124. 'unfolding_entropy_chain'\n",
       "125. 'unfolding_gibbs'\n",
       "126. 'unfolding_enthalpy'\n",
       "127. 'unfolding_entropy'\n",
       "128. 'volume'\n",
       "129. 'shape'\n",
       "130. 'flexibility'\n",
       "131. 'compressibilitySurrounding'\n",
       "132. 't_hydrophobicitySurrounding'\n",
       "133. 's_hydrophobicitySurrounding'\n",
       "134. 'polaritySurrounding'\n",
       "135. 'isoelectric_pointSurrounding'\n",
       "136. 'pkSurrounding'\n",
       "137. 'mwSurrounding'\n",
       "138. 'bulkinessSurrounding'\n",
       "139. 'chromatographic_indexSurrounding'\n",
       "140. 'refractive_indexSurrounding'\n",
       "141. 'n_hydrophobicitySurrounding'\n",
       "142. 'sm_nonbonded_energySurrounding'\n",
       "143. 'l_nonbonded_energySurrounding'\n",
       "144. 'total_nonbonded_energySurrounding'\n",
       "145. 'helix_tendencySurrounding'\n",
       "146. 'sheet_tendencySurrounding'\n",
       "147. 'turn_tendencySurrounding'\n",
       "148. 'coil_tendencySurrounding'\n",
       "149. 'helical_contact_areaSurrounding'\n",
       "150. 'fluctuational_displacementSurrounding'\n",
       "151. 'buriednessSurrounding'\n",
       "152. 'sa_reduction_ratioSurrounding'\n",
       "153. 'avg_surrounding_residuesSurrounding'\n",
       "154. 'loc_n_helix_tendencySurrounding'\n",
       "155. 'loc_c_helix_tendencySurrounding'\n",
       "156. 'loc_m_helix_tendencySurrounding'\n",
       "157. 'partial_specific_volumeSurrounding'\n",
       "158. 'avg_med_contactsSurrounding'\n",
       "159. 'avg_long_contactsSurrounding'\n",
       "160. 'surrounding_hydrophobicitySurrounding'\n",
       "161. 'asa_denaturatedSurrounding'\n",
       "162. 'asa_nativeSurrounding'\n",
       "163. 'asa_unfoldingSurrounding'\n",
       "164. 'delta_g_hydration_unfoldingSurrounding'\n",
       "165. 'delta_g_hydration_denaturatedSurrounding'\n",
       "166. 'delta_g_hydration_nativeSurrounding'\n",
       "167. 'unfolding_enthalpy_change_hydrationSurrounding'\n",
       "168. 'unfolding_entropy_change_hydrationSurrounding'\n",
       "169. 'unfolding_hydration_heat_capacity_changeSurrounding'\n",
       "170. 'unfolding_gibbs_chainSurrounding'\n",
       "171. 'unfolding_enthalpy_chainSurrounding'\n",
       "172. 'unfolding_entropy_chainSurrounding'\n",
       "173. 'unfolding_gibbsSurrounding'\n",
       "174. 'unfolding_enthalpySurrounding'\n",
       "175. 'unfolding_entropySurrounding'\n",
       "176. 'volumeSurrounding'\n",
       "177. 'shapeSurrounding'\n",
       "178. 'flexibilitySurrounding'\n",
       "179. 'total_energy'\n",
       "180. 'Backbone_Hbond'\n",
       "181. 'Van_der_Waals'\n",
       "182. 'Solvation_Polar'\n",
       "183. 'Solvation_Hydrophobic'\n",
       "184. 'Van_der_Waals_clashes'\n",
       "185. 'entropy_sidechain'\n",
       "186. 'entropy_mainchain'\n",
       "187. 'torsional_clash'\n",
       "188. 'backbone_clash'\n",
       "189. 'wt_ba'\n",
       "190. 'ba'\n",
       "\n",
       "\n"
      ],
      "text/plain": [
       "  [1] \"secStruct3-10 Helix\"                                \n",
       "  [2] \"secStructalpha Helix\"                               \n",
       "  [3] \"secStructBend\"                                      \n",
       "  [4] \"secStructBridge\"                                    \n",
       "  [5] \"secStructCoil\"                                      \n",
       "  [6] \"secStructExtended\"                                  \n",
       "  [7] \"secStructTurn\"                                      \n",
       "  [8] \"secStructSimpleHelix\"                               \n",
       "  [9] \"secStructSimpleOther\"                               \n",
       " [10] \"secStructSimpleStrand\"                              \n",
       " [11] \"CysteineMutationNO\"                                 \n",
       " [12] \"CysteineMutationYES\"                                \n",
       " [13] \"GlycineMutationNO\"                                  \n",
       " [14] \"GlycineMutationYES\"                                 \n",
       " [15] \"ProlineMutationNO\"                                  \n",
       " [16] \"ProlineMutationYES\"                                 \n",
       " [17] \"ChargeGroupChangegroup1-group1\"                     \n",
       " [18] \"ChargeGroupChangegroup1-group2\"                     \n",
       " [19] \"ChargeGroupChangegroup1-group3\"                     \n",
       " [20] \"ChargeGroupChangegroup2-group1\"                     \n",
       " [21] \"ChargeGroupChangegroup2-group2\"                     \n",
       " [22] \"ChargeGroupChangegroup2-group3\"                     \n",
       " [23] \"ChargeGroupChangegroup3-group1\"                     \n",
       " [24] \"ChargeGroupChangegroup3-group2\"                     \n",
       " [25] \"ChargeGroupChangegroup3-group3\"                     \n",
       " [26] \"HydroGroupChangegroup1-group1\"                      \n",
       " [27] \"HydroGroupChangegroup1-group2\"                      \n",
       " [28] \"HydroGroupChangegroup1-group3\"                      \n",
       " [29] \"HydroGroupChangegroup2-group1\"                      \n",
       " [30] \"HydroGroupChangegroup2-group2\"                      \n",
       " [31] \"HydroGroupChangegroup2-group3\"                      \n",
       " [32] \"HydroGroupChangegroup3-group1\"                      \n",
       " [33] \"HydroGroupChangegroup3-group2\"                      \n",
       " [34] \"HydroGroupChangegroup3-group3\"                      \n",
       " [35] \"VanDerWaalsVolumeGroupChangegroup1-group1\"          \n",
       " [36] \"VanDerWaalsVolumeGroupChangegroup1-group2\"          \n",
       " [37] \"VanDerWaalsVolumeGroupChangegroup1-group3\"          \n",
       " [38] \"VanDerWaalsVolumeGroupChangegroup2-group1\"          \n",
       " [39] \"VanDerWaalsVolumeGroupChangegroup2-group2\"          \n",
       " [40] \"VanDerWaalsVolumeGroupChangegroup2-group3\"          \n",
       " [41] \"VanDerWaalsVolumeGroupChangegroup3-group1\"          \n",
       " [42] \"VanDerWaalsVolumeGroupChangegroup3-group2\"          \n",
       " [43] \"VanDerWaalsVolumeGroupChangegroup3-group3\"          \n",
       " [44] \"PloarityGroupChangegroup1-group1\"                   \n",
       " [45] \"PloarityGroupChangegroup1-group2\"                   \n",
       " [46] \"PloarityGroupChangegroup1-group3\"                   \n",
       " [47] \"PloarityGroupChangegroup2-group1\"                   \n",
       " [48] \"PloarityGroupChangegroup2-group2\"                   \n",
       " [49] \"PloarityGroupChangegroup2-group3\"                   \n",
       " [50] \"PloarityGroupChangegroup3-group1\"                   \n",
       " [51] \"PloarityGroupChangegroup3-group2\"                   \n",
       " [52] \"PloarityGroupChangegroup3-group3\"                   \n",
       " [53] \"PolarizabilityGroupChangegroup1-group1\"             \n",
       " [54] \"PolarizabilityGroupChangegroup1-group2\"             \n",
       " [55] \"PolarizabilityGroupChangegroup1-group3\"             \n",
       " [56] \"PolarizabilityGroupChangegroup2-group1\"             \n",
       " [57] \"PolarizabilityGroupChangegroup2-group2\"             \n",
       " [58] \"PolarizabilityGroupChangegroup2-group3\"             \n",
       " [59] \"PolarizabilityGroupChangegroup3-group1\"             \n",
       " [60] \"PolarizabilityGroupChangegroup3-group2\"             \n",
       " [61] \"PolarizabilityGroupChangegroup3-group3\"             \n",
       " [62] \"SSWTGroupChangegroup1-group1\"                       \n",
       " [63] \"SSWTGroupChangegroup1-group2\"                       \n",
       " [64] \"SSWTGroupChangegroup1-group3\"                       \n",
       " [65] \"SSWTGroupChangegroup2-group1\"                       \n",
       " [66] \"SSWTGroupChangegroup2-group2\"                       \n",
       " [67] \"SSWTGroupChangegroup2-group3\"                       \n",
       " [68] \"SSWTGroupChangegroup3-group1\"                       \n",
       " [69] \"SSWTGroupChangegroup3-group2\"                       \n",
       " [70] \"SSWTGroupChangegroup3-group3\"                       \n",
       " [71] \"AsaGroupChangegroup1-group1\"                        \n",
       " [72] \"AsaGroupChangegroup1-group2\"                        \n",
       " [73] \"AsaGroupChangegroup1-group3\"                        \n",
       " [74] \"AsaGroupChangegroup2-group1\"                        \n",
       " [75] \"AsaGroupChangegroup2-group2\"                        \n",
       " [76] \"AsaGroupChangegroup2-group3\"                        \n",
       " [77] \"AsaGroupChangegroup3-group1\"                        \n",
       " [78] \"AsaGroupChangegroup3-group2\"                        \n",
       " [79] \"AsaGroupChangegroup3-group3\"                        \n",
       " [80] \"AsaChange\"                                          \n",
       " [81] \"mutationPhi\"                                        \n",
       " [82] \"mutationPsi\"                                        \n",
       " [83] \"compressibility\"                                    \n",
       " [84] \"t_hydrophobicity\"                                   \n",
       " [85] \"s_hydrophobicity\"                                   \n",
       " [86] \"polarity\"                                           \n",
       " [87] \"isoelectric_point\"                                  \n",
       " [88] \"pk\"                                                 \n",
       " [89] \"mw\"                                                 \n",
       " [90] \"bulkiness\"                                          \n",
       " [91] \"chromatographic_index\"                              \n",
       " [92] \"refractive_index\"                                   \n",
       " [93] \"n_hydrophobicity\"                                   \n",
       " [94] \"sm_nonbonded_energy\"                                \n",
       " [95] \"l_nonbonded_energy\"                                 \n",
       " [96] \"total_nonbonded_energy\"                             \n",
       " [97] \"helix_tendency\"                                     \n",
       " [98] \"sheet_tendency\"                                     \n",
       " [99] \"turn_tendency\"                                      \n",
       "[100] \"coil_tendency\"                                      \n",
       "[101] \"helical_contact_area\"                               \n",
       "[102] \"fluctuational_displacement\"                         \n",
       "[103] \"buriedness\"                                         \n",
       "[104] \"sa_reduction_ratio\"                                 \n",
       "[105] \"avg_surrounding_residues\"                           \n",
       "[106] \"loc_n_helix_tendency\"                               \n",
       "[107] \"loc_c_helix_tendency\"                               \n",
       "[108] \"loc_m_helix_tendency\"                               \n",
       "[109] \"partial_specific_volume\"                            \n",
       "[110] \"avg_med_contacts\"                                   \n",
       "[111] \"avg_long_contacts\"                                  \n",
       "[112] \"surrounding_hydrophobicity\"                         \n",
       "[113] \"asa_denaturated\"                                    \n",
       "[114] \"asa_native\"                                         \n",
       "[115] \"asa_unfolding\"                                      \n",
       "[116] \"delta_g_hydration_unfolding\"                        \n",
       "[117] \"delta_g_hydration_denaturated\"                      \n",
       "[118] \"delta_g_hydration_native\"                           \n",
       "[119] \"unfolding_enthalpy_change_hydration\"                \n",
       "[120] \"unfolding_entropy_change_hydration\"                 \n",
       "[121] \"unfolding_hydration_heat_capacity_change\"           \n",
       "[122] \"unfolding_gibbs_chain\"                              \n",
       "[123] \"unfolding_enthalpy_chain\"                           \n",
       "[124] \"unfolding_entropy_chain\"                            \n",
       "[125] \"unfolding_gibbs\"                                    \n",
       "[126] \"unfolding_enthalpy\"                                 \n",
       "[127] \"unfolding_entropy\"                                  \n",
       "[128] \"volume\"                                             \n",
       "[129] \"shape\"                                              \n",
       "[130] \"flexibility\"                                        \n",
       "[131] \"compressibilitySurrounding\"                         \n",
       "[132] \"t_hydrophobicitySurrounding\"                        \n",
       "[133] \"s_hydrophobicitySurrounding\"                        \n",
       "[134] \"polaritySurrounding\"                                \n",
       "[135] \"isoelectric_pointSurrounding\"                       \n",
       "[136] \"pkSurrounding\"                                      \n",
       "[137] \"mwSurrounding\"                                      \n",
       "[138] \"bulkinessSurrounding\"                               \n",
       "[139] \"chromatographic_indexSurrounding\"                   \n",
       "[140] \"refractive_indexSurrounding\"                        \n",
       "[141] \"n_hydrophobicitySurrounding\"                        \n",
       "[142] \"sm_nonbonded_energySurrounding\"                     \n",
       "[143] \"l_nonbonded_energySurrounding\"                      \n",
       "[144] \"total_nonbonded_energySurrounding\"                  \n",
       "[145] \"helix_tendencySurrounding\"                          \n",
       "[146] \"sheet_tendencySurrounding\"                          \n",
       "[147] \"turn_tendencySurrounding\"                           \n",
       "[148] \"coil_tendencySurrounding\"                           \n",
       "[149] \"helical_contact_areaSurrounding\"                    \n",
       "[150] \"fluctuational_displacementSurrounding\"              \n",
       "[151] \"buriednessSurrounding\"                              \n",
       "[152] \"sa_reduction_ratioSurrounding\"                      \n",
       "[153] \"avg_surrounding_residuesSurrounding\"                \n",
       "[154] \"loc_n_helix_tendencySurrounding\"                    \n",
       "[155] \"loc_c_helix_tendencySurrounding\"                    \n",
       "[156] \"loc_m_helix_tendencySurrounding\"                    \n",
       "[157] \"partial_specific_volumeSurrounding\"                 \n",
       "[158] \"avg_med_contactsSurrounding\"                        \n",
       "[159] \"avg_long_contactsSurrounding\"                       \n",
       "[160] \"surrounding_hydrophobicitySurrounding\"              \n",
       "[161] \"asa_denaturatedSurrounding\"                         \n",
       "[162] \"asa_nativeSurrounding\"                              \n",
       "[163] \"asa_unfoldingSurrounding\"                           \n",
       "[164] \"delta_g_hydration_unfoldingSurrounding\"             \n",
       "[165] \"delta_g_hydration_denaturatedSurrounding\"           \n",
       "[166] \"delta_g_hydration_nativeSurrounding\"                \n",
       "[167] \"unfolding_enthalpy_change_hydrationSurrounding\"     \n",
       "[168] \"unfolding_entropy_change_hydrationSurrounding\"      \n",
       "[169] \"unfolding_hydration_heat_capacity_changeSurrounding\"\n",
       "[170] \"unfolding_gibbs_chainSurrounding\"                   \n",
       "[171] \"unfolding_enthalpy_chainSurrounding\"                \n",
       "[172] \"unfolding_entropy_chainSurrounding\"                 \n",
       "[173] \"unfolding_gibbsSurrounding\"                         \n",
       "[174] \"unfolding_enthalpySurrounding\"                      \n",
       "[175] \"unfolding_entropySurrounding\"                       \n",
       "[176] \"volumeSurrounding\"                                  \n",
       "[177] \"shapeSurrounding\"                                   \n",
       "[178] \"flexibilitySurrounding\"                             \n",
       "[179] \"total_energy\"                                       \n",
       "[180] \"Backbone_Hbond\"                                     \n",
       "[181] \"Van_der_Waals\"                                      \n",
       "[182] \"Solvation_Polar\"                                    \n",
       "[183] \"Solvation_Hydrophobic\"                              \n",
       "[184] \"Van_der_Waals_clashes\"                              \n",
       "[185] \"entropy_sidechain\"                                  \n",
       "[186] \"entropy_mainchain\"                                  \n",
       "[187] \"torsional_clash\"                                    \n",
       "[188] \"backbone_clash\"                                     \n",
       "[189] \"wt_ba\"                                              \n",
       "[190] \"ba\"                                                 "
      ]
     },
     "metadata": {},
     "output_type": "display_data"
    }
   ],
   "source": [
    "colnames(results)"
   ]
  },
  {
   "cell_type": "markdown",
   "id": "beda5d47",
   "metadata": {},
   "source": [
    "# Molecular Properties Visualization"
   ]
  },
  {
   "cell_type": "code",
   "execution_count": 61,
   "id": "9156f7a0",
   "metadata": {},
   "outputs": [],
   "source": [
    "training_data <- fread(file=\"work/training/dual-model/train-ligand-weight.csv\", quote = FALSE, sep = \",\")\n",
    "test_data <- fread(file=\"work/training/dual-model/test-ligand-weight.csv\", quote = FALSE, sep = \",\")\n",
    "\n",
    "training_meta <- fread(file=\"work/training/dual-model/train-meta-ligand-weight.csv\", quote = FALSE, sep = \",\")\n",
    "test_meta <- fread(file=\"work/training/dual-model/test-meta-ligand-weight.csv\", quote = FALSE, sep = \",\")"
   ]
  },
  {
   "cell_type": "code",
   "execution_count": 62,
   "id": "5186922b",
   "metadata": {
    "scrolled": true
   },
   "outputs": [
    {
     "data": {
      "text/html": [
       "<style>\n",
       ".list-inline {list-style: none; margin:0; padding: 0}\n",
       ".list-inline>li {display: inline-block}\n",
       ".list-inline>li:not(:last-child)::after {content: \"\\00b7\"; padding: 0 .5ex}\n",
       "</style>\n",
       "<ol class=list-inline><li>6770</li><li>126</li></ol>\n"
      ],
      "text/latex": [
       "\\begin{enumerate*}\n",
       "\\item 6770\n",
       "\\item 126\n",
       "\\end{enumerate*}\n"
      ],
      "text/markdown": [
       "1. 6770\n",
       "2. 126\n",
       "\n",
       "\n"
      ],
      "text/plain": [
       "[1] 6770  126"
      ]
     },
     "metadata": {},
     "output_type": "display_data"
    },
    {
     "data": {
      "text/html": [
       "<style>\n",
       ".list-inline {list-style: none; margin:0; padding: 0}\n",
       ".list-inline>li {display: inline-block}\n",
       ".list-inline>li:not(:last-child)::after {content: \"\\00b7\"; padding: 0 .5ex}\n",
       "</style>\n",
       "<ol class=list-inline><li>1651</li><li>126</li></ol>\n"
      ],
      "text/latex": [
       "\\begin{enumerate*}\n",
       "\\item 1651\n",
       "\\item 126\n",
       "\\end{enumerate*}\n"
      ],
      "text/markdown": [
       "1. 1651\n",
       "2. 126\n",
       "\n",
       "\n"
      ],
      "text/plain": [
       "[1] 1651  126"
      ]
     },
     "metadata": {},
     "output_type": "display_data"
    }
   ],
   "source": [
    "dim(training_data)\n",
    "dim(test_data)"
   ]
  },
  {
   "cell_type": "code",
   "execution_count": 63,
   "id": "5b56cbcd",
   "metadata": {},
   "outputs": [],
   "source": [
    "results <- rbind(training_data, test_data)"
   ]
  },
  {
   "cell_type": "code",
   "execution_count": 64,
   "id": "92ef90e9",
   "metadata": {},
   "outputs": [
    {
     "name": "stderr",
     "output_type": "stream",
     "text": [
      "`geom_smooth()` using formula 'y ~ x'\n",
      "\n",
      "`geom_smooth()` using formula 'y ~ x'\n",
      "\n",
      "`geom_smooth()` using formula 'y ~ x'\n",
      "\n",
      "`geom_smooth()` using formula 'y ~ x'\n",
      "\n",
      "`geom_smooth()` using formula 'y ~ x'\n",
      "\n",
      "`geom_smooth()` using formula 'y ~ x'\n",
      "\n"
     ]
    },
    {
     "data": {
      "text/html": [
       "<strong>png:</strong> 2"
      ],
      "text/latex": [
       "\\textbf{png:} 2"
      ],
      "text/markdown": [
       "**png:** 2"
      ],
      "text/plain": [
       "png \n",
       "  2 "
      ]
     },
     "metadata": {},
     "output_type": "display_data"
    }
   ],
   "source": [
    "png(\"images/properties/summary.png\", width = 1600, height = 1600, res = 150, units = \"px\")\n",
    "\n",
    "\n",
    "plot1 <- qplot(results$HBondAcceptorCountDescriptor,\n",
    "               geom=\"histogram\", \n",
    "               xlab = \"H-bond acceptor count\",\n",
    "               ylab = \"Frequency\",\n",
    "               binwidth=1)\n",
    "\n",
    "plot2 <-qplot(results$RotatableBondsCountDescriptor,\n",
    "              geom=\"histogram\", \n",
    "              xlab = \"Rotatable bonds count\",\n",
    "              ylab = \"Frequency\",\n",
    "              binwidth=1)\n",
    "\n",
    "plot3 <- qplot(results$XLogPDescriptor,\n",
    "               geom=\"histogram\", \n",
    "               xlab = \"XlogP\",\n",
    "               ylab = \"Frequency\",\n",
    "               binwidth=1)\n",
    "\n",
    "plot4 <- ggscatter(results, x = \"ba\", y = \"HBondAcceptorCountDescriptor\", \n",
    "                   add = \"reg.line\", conf.int = TRUE, \n",
    "                   cor.coef = TRUE, cor.method = \"pearson\",\n",
    "                   xlab = \"H-bond acceptor count\", ylab = \"Binding affinity\")\n",
    "\n",
    "plot5 <- ggscatter(results, x = \"ba\", y = \"RotatableBondsCountDescriptor\", \n",
    "                   add = \"reg.line\", conf.int = TRUE, \n",
    "                   cor.coef = TRUE, cor.method = \"pearson\",\n",
    "                   xlab = \"Binding affinity\", ylab = \"Rotatable bonds count\")\n",
    "\n",
    "plot6 <- ggscatter(results, x = \"ba\", y = \"XLogPDescriptor\", \n",
    "                   add = \"reg.line\", conf.int = TRUE, \n",
    "                   cor.coef = TRUE, cor.method = \"pearson\",\n",
    "                   xlab = \"XLogP\", ylab = \"Binding affinity\")\n",
    "\n",
    "plot7 <- qplot(results$WeightDescriptor,\n",
    "               geom=\"histogram\", \n",
    "               xlab = \"Molecular weight\",\n",
    "               ylab = \"Frequency\",\n",
    "               binwidth=10)\n",
    "\n",
    "\n",
    "plot8 <- qplot(results$TPSADescriptor,\n",
    "               geom=\"histogram\",\n",
    "               xlab = \"Topologial polar surface area\",\n",
    "               ylab = \"Frequency\",\n",
    "               binwidth=10)\n",
    "\n",
    "plot9 <- qplot(results$VABCDescriptor,\n",
    "               geom=\"histogram\", \n",
    "               xlab = \"Ligand volume\",\n",
    "               ylab = \"Frequency\",\n",
    "               binwidth=10)\n",
    "\n",
    "plot10 <- ggscatter(results, x = \"ba\", y = \"WeightDescriptor\", \n",
    "                    add = \"reg.line\", conf.int = TRUE, \n",
    "                    cor.coef = TRUE, cor.method = \"pearson\",\n",
    "                    xlab = \"Binding affinity\", ylab = \"Molecular Weight\")\n",
    "\n",
    "plot11 <- ggscatter(results, x = \"ba\", y = \"TPSADescriptor\", \n",
    "                    add = \"reg.line\", conf.int = TRUE, \n",
    "                    cor.coef = TRUE, cor.method = \"pearson\",\n",
    "                    xlab = \"Binding affinity\", ylab = \"TPSA\")\n",
    "\n",
    "plot12 <- ggscatter(results, x = \"ba\", y = \"VABCDescriptor\", \n",
    "                    add = \"reg.line\", conf.int = TRUE, \n",
    "                    cor.coef = TRUE, cor.method = \"pearson\",\n",
    "                    xlab = \"Binding affinity\", ylab = \"Volume\")\n",
    "\n",
    "grid.arrange(plot1, \n",
    "             plot2,\n",
    "             plot3,\n",
    "             plot4,\n",
    "             plot5,\n",
    "             plot6,\n",
    "             plot7,\n",
    "             plot8,\n",
    "             plot9,\n",
    "             plot10,\n",
    "             plot11,\n",
    "             plot12,ncol=3)\n",
    "\n",
    "dev.off()"
   ]
  },
  {
   "cell_type": "code",
   "execution_count": 65,
   "id": "6a539bcb",
   "metadata": {},
   "outputs": [
    {
     "data": {
      "text/html": [
       "<strong>png:</strong> 2"
      ],
      "text/latex": [
       "\\textbf{png:} 2"
      ],
      "text/markdown": [
       "**png:** 2"
      ],
      "text/plain": [
       "png \n",
       "  2 "
      ]
     },
     "metadata": {},
     "output_type": "display_data"
    }
   ],
   "source": [
    "png(\"images/properties/ba_histogram.png\", width = 1800, height = 1200, res = 200, units = \"px\")\n",
    "\n",
    "hist(training_data$ba, \n",
    "     freq=TRUE, \n",
    "     xlim=c(-16,-4), \n",
    "     ylim=c(0,1000), \n",
    "     breaks = seq(-16,-4, by=0.5),\n",
    "     main = \"Histogram of binding affinty values\",\n",
    "     xlab = expression(paste(\"Binding Affinity (kcal/\",\"mol\"^\"-1\",\")\")),\n",
    "     ylab = \"Frequency\", col=rgb(0,0,1,1/4),\n",
    "     xaxt='n')\n",
    "\n",
    "hist(test_data$ba, \n",
    "     freq=TRUE, \n",
    "     xlim=c(-16,-4), \n",
    "     ylim=c(0,1000), \n",
    "     breaks = seq(-16,-4, by=0.5),\n",
    "     main = \"Histogram of binding affinty\",\n",
    "     xlab = parse(text='Binding Affinity (kcal/mol^-1*)'),\n",
    "     ylab = \"Frequency\",col=rgb(1,0,0,1/4),\n",
    "     xaxt='n', add=TRUE)\n",
    "\n",
    "axis(side=1, at=seq(-16,-4, 1), labels=seq(-16,-4, 1))\n",
    "\n",
    "legend(\"topleft\", inset=.02, legend=c(\"Train set\", \"Test set\"),\n",
    "       fill=c(col=rgb(0,0,1,1/4), col=rgb(1,0,1,1/4)), cex=0.8)\n",
    "\n",
    "dev.off()"
   ]
  },
  {
   "cell_type": "code",
   "execution_count": 66,
   "id": "b467c351",
   "metadata": {},
   "outputs": [],
   "source": [
    "train_data_for_pca = data.frame(training_data)\n",
    "test_data_for_pca = data.frame(test_data)\n",
    "\n",
    "train_data_for_pca[,\"label\"] <- \"train\"\n",
    "test_data_for_pca[,\"label\"] <- \"test\"\n",
    "\n",
    "results_for_pca_full <- rbind(train_data_for_pca, test_data_for_pca)\n",
    "results_for_pca <- results_for_pca_full[,-grep(\"label\",colnames(results_for_pca_full))]\n",
    "results_for_pca <- results_for_pca[,-grep(\"RuleOfFiveDescriptor\",colnames(results_for_pca))]\n",
    "results_for_pca <- results_for_pca[,1:grep(\"CarbonTypesDescriptor9\", colnames(results_for_pca))]\n",
    "\n",
    "pca_res <- prcomp(results_for_pca, scale. = TRUE)"
   ]
  },
  {
   "cell_type": "code",
   "execution_count": 68,
   "id": "444f2c3c",
   "metadata": {},
   "outputs": [
    {
     "data": {
      "text/html": [
       "49"
      ],
      "text/latex": [
       "49"
      ],
      "text/markdown": [
       "49"
      ],
      "text/plain": [
       "[1] 49"
      ]
     },
     "metadata": {},
     "output_type": "display_data"
    }
   ],
   "source": [
    "length(results_for_pca)"
   ]
  },
  {
   "cell_type": "code",
   "execution_count": 69,
   "id": "478f9095",
   "metadata": {},
   "outputs": [
    {
     "data": {
      "text/html": [
       "<strong>png:</strong> 2"
      ],
      "text/latex": [
       "\\textbf{png:} 2"
      ],
      "text/markdown": [
       "**png:** 2"
      ],
      "text/plain": [
       "png \n",
       "  2 "
      ]
     },
     "metadata": {},
     "output_type": "display_data"
    },
    {
     "data": {
      "text/html": [
       "<strong>png:</strong> 2"
      ],
      "text/latex": [
       "\\textbf{png:} 2"
      ],
      "text/markdown": [
       "**png:** 2"
      ],
      "text/plain": [
       "png \n",
       "  2 "
      ]
     },
     "metadata": {},
     "output_type": "display_data"
    }
   ],
   "source": [
    "png(\"images/properties/ligand_features_pca12.png\", width = 1800, height = 1200, res = 300, units = \"px\")\n",
    "\n",
    "autoplot(pca_res, data = as.matrix(results_for_pca_full) , colour = 'label')\n",
    "\n",
    "dev.off()\n",
    "\n",
    "png(\"images/properties/ligand_features_pca23.png\", width = 1800, height = 1200, res = 300, units = \"px\")\n",
    "\n",
    "autoplot(pca_res, data = as.matrix(results_for_pca_full) , colour = 'label', x = 2, y = 3)\n",
    "\n",
    "dev.off()"
   ]
  },
  {
   "cell_type": "code",
   "execution_count": 70,
   "id": "c17c2533",
   "metadata": {},
   "outputs": [
    {
     "data": {
      "text/html": [
       "<strong>png:</strong> 2"
      ],
      "text/latex": [
       "\\textbf{png:} 2"
      ],
      "text/markdown": [
       "**png:** 2"
      ],
      "text/plain": [
       "png \n",
       "  2 "
      ]
     },
     "metadata": {},
     "output_type": "display_data"
    }
   ],
   "source": [
    "png(\"images/properties/mol_weight_vs_xlogp.png\", width = 1800, height = 1200, res = 200, units = \"px\")\n",
    "\n",
    "plot(train_data_for_pca$WeightDescriptor, train_data_for_pca$XLogPDescriptor, pch=20,\n",
    "     main=\"XLogP vs. Molecular weight\", \n",
    "     ylab=\"XLogP\", \n",
    "     xlab=\"Molecular Weight\",\n",
    "     ylim=c(-10,15),\n",
    "     xlim=c(0,1400),\n",
    "     cex=2 , col=rgb(0,0,1,1/4))\n",
    "\n",
    "par(new=TRUE)\n",
    "\n",
    "plot(test_data_for_pca$WeightDescriptor, test_data_for_pca$XLogPDescriptor, pch=20,\n",
    "     main=\"XLogP vs. Molecular weight\", \n",
    "     ylab=\"XLogP\", \n",
    "     xlab=\"Molecular Weight\",\n",
    "     ylim=c(-10,15),\n",
    "     xlim=c(0,1400),\n",
    "     cex=2 , col=rgb(1,0,1,1/4))\n",
    "\n",
    "legend(\"topleft\", inset=.02, legend=c(\"Train set\", \"Test set\"),\n",
    "       fill=c(col=rgb(0,0,1,1/4), col=rgb(1,0,1,1/4)), cex=0.8)\n",
    "\n",
    "dev.off()"
   ]
  },
  {
   "cell_type": "markdown",
   "id": "e749225b",
   "metadata": {},
   "source": [
    "# PSnpBind Docking Results Analysis"
   ]
  },
  {
   "cell_type": "markdown",
   "id": "73d2ae10",
   "metadata": {},
   "source": [
    "### Get the ligands with most variable binding affinity across protein variants"
   ]
  },
  {
   "cell_type": "code",
   "execution_count": 8,
   "id": "a5a97823",
   "metadata": {},
   "outputs": [
    {
     "data": {
      "image/png": "[encoded data removed]",
      "text/plain": [
       "Plot with title “Box Plot 2c3i”"
      ]
     },
     "metadata": {
      "image/png": {
       "height": 420,
       "width": 420
      }
     },
     "output_type": "display_data"
    }
   ],
   "source": [
    "### absolute difference > 2.0 kcal/mol\n",
    "\n",
    "root_dir <- \"work/data\"\n",
    "\n",
    "data_ba <- analyzeProtein(root=root_dir,\"2c3i\",2.0)"
   ]
  },
  {
   "cell_type": "code",
   "execution_count": 10,
   "id": "f971cd0c",
   "metadata": {},
   "outputs": [
    {
     "data": {
      "image/png": "[encoded data removed]",
      "text/plain": [
       "Plot with title “Box Plot 4crc”"
      ]
     },
     "metadata": {
      "image/png": {
       "height": 420,
       "width": 420
      }
     },
     "output_type": "display_data"
    }
   ],
   "source": [
    "data_ba <- analyzeProtein(root=root_dir,\"4crc\",2.0)"
   ]
  }
 ],
 "metadata": {
  "kernelspec": {
   "display_name": "R",
   "language": "R",
   "name": "ir"
  },
  "language_info": {
   "codemirror_mode": "r",
   "file_extension": ".r",
   "mimetype": "text/x-r-source",
   "name": "R",
   "pygments_lexer": "r",
   "version": "4.1.2"
  }
 },
 "nbformat": 4,
 "nbformat_minor": 5
}
