{
 "cells": [
  {
   "cell_type": "markdown",
   "id": "7f71d4f2",
   "metadata": {},
   "source": [
    "# Installing and Importing packages"
   ]
  },
  {
   "cell_type": "code",
   "execution_count": 1,
   "id": "9fd55392",
   "metadata": {},
   "outputs": [],
   "source": [
    ".libPaths( c( \"/tempr\" , .libPaths() ) )"
   ]
  },
  {
   "cell_type": "code",
   "execution_count": 2,
   "id": "145db28d",
   "metadata": {},
   "outputs": [],
   "source": [
    "requiredPackages <- c(\"dplyr\", # Data manipulation library\n",
    "                      \"data.table\", # Fast processing of large data\n",
    "                      \"protr\", # Generating numerical representation of protein sequences\n",
    "                      \"ggplot2\", # Plotting Data package\n",
    "                      \"gplots\",  # Plotting Data package\n",
    "                      \"RColorBrewer\",  # Ready-to-use color palettes for graphics\n",
    "                      \"ggpubr\",\n",
    "                      \"caret\",\n",
    "                      \"gridExtra\",\n",
    "                      \"BiocManager\",\n",
    "                      \"ggfortify\")\n",
    "\n",
    "for (pkg in requiredPackages) { \n",
    "    if(! pkg %in% row.names(installed.packages())) install.packages(pkg)\n",
    "}\n",
    "\n",
    "if(! \"pcaMethods\" %in% row.names(installed.packages()))\n",
    "    BiocManager::install(\"pcaMethods\", warning=stop)"
   ]
  },
  {
   "cell_type": "code",
   "execution_count": 4,
   "id": "aab6e478",
   "metadata": {},
   "outputs": [],
   "source": [
    "library(dplyr)\n",
    "library(data.table)\n",
    "library(protr)\n",
    "library(ggplot2)\n",
    "library(gplots)\n",
    "library(RColorBrewer)\n",
    "library(ggpubr)\n",
    "library(caret)\n",
    "library(gridExtra)\n",
    "library(pcaMethods)\n",
    "library(ggfortify)\n",
    "\n",
    "source(\"functions.R\")\n",
    "\n",
    "options(stringsAsFactors = FALSE)\n",
    "\n",
    "set.seed(123) \n",
    "\n",
    "options(repr.matrix.max.cols=150, repr.matrix.max.rows=200)"
   ]
  },
  {
   "cell_type": "markdown",
   "id": "18b812b2",
   "metadata": {},
   "source": [
    "# Create ten datasets (y-randomization) for model validation"
   ]
  },
  {
   "cell_type": "code",
   "execution_count": 44,
   "id": "481f6a38",
   "metadata": {},
   "outputs": [],
   "source": [
    "train <- fread(\"work/training/dual-model/train-ligand-weight.csv\", header=TRUE, sep=\",\")\n",
    "test <- fread(\"work/training/dual-model/test-ligand-weight.csv\", header=TRUE, sep=\",\")"
   ]
  },
  {
   "cell_type": "code",
   "execution_count": 45,
   "id": "6bc33346",
   "metadata": {},
   "outputs": [],
   "source": [
    "set.seed(123)\n",
    "\n",
    "y_scramble_1 <- sample(train$ba)\n",
    "y_scramble_2 <- sample(train$ba)\n",
    "y_scramble_3 <- sample(train$ba)\n",
    "y_scramble_4 <- sample(train$ba)\n",
    "y_scramble_5 <- sample(train$ba)\n",
    "y_scramble_6 <- sample(train$ba)\n",
    "y_scramble_7 <- sample(train$ba)\n",
    "y_scramble_8 <- sample(train$ba)\n",
    "y_scramble_9 <- sample(train$ba)\n",
    "y_scramble_10 <- sample(train$ba)"
   ]
  },
  {
   "cell_type": "code",
   "execution_count": 32,
   "id": "26857c74",
   "metadata": {},
   "outputs": [
    {
     "data": {
      "text/html": [
       "6770"
      ],
      "text/latex": [
       "6770"
      ],
      "text/markdown": [
       "6770"
      ],
      "text/plain": [
       "[1] 6770"
      ]
     },
     "metadata": {},
     "output_type": "display_data"
    }
   ],
   "source": [
    "length(y_scramble_1)"
   ]
  },
  {
   "cell_type": "code",
   "execution_count": 33,
   "id": "721bf093",
   "metadata": {},
   "outputs": [
    {
     "data": {
      "text/html": [
       "<style>\n",
       ".list-inline {list-style: none; margin:0; padding: 0}\n",
       ".list-inline>li {display: inline-block}\n",
       ".list-inline>li:not(:last-child)::after {content: \"\\00b7\"; padding: 0 .5ex}\n",
       "</style>\n",
       "<ol class=list-inline><li>6770</li><li>126</li></ol>\n"
      ],
      "text/latex": [
       "\\begin{enumerate*}\n",
       "\\item 6770\n",
       "\\item 126\n",
       "\\end{enumerate*}\n"
      ],
      "text/markdown": [
       "1. 6770\n",
       "2. 126\n",
       "\n",
       "\n"
      ],
      "text/plain": [
       "[1] 6770  126"
      ]
     },
     "metadata": {},
     "output_type": "display_data"
    }
   ],
   "source": [
    "dim(train)"
   ]
  },
  {
   "cell_type": "code",
   "execution_count": 43,
   "id": "49512eb1",
   "metadata": {},
   "outputs": [],
   "source": [
    "write.table(cbind(train[,1:(length(train)-1)],y_scramble_1), file=\"work/training/randomization/randomization_y1.csv\", quote = FALSE, row.names = FALSE, col.names = TRUE, sep = \",\")\n",
    "write.table(cbind(train[,1:(length(train)-1)],y_scramble_2), file=\"work/training/randomization/randomization_y2.csv\", quote = FALSE, row.names = FALSE, col.names = TRUE, sep = \",\")\n",
    "write.table(cbind(train[,1:(length(train)-1)],y_scramble_3), file=\"work/training/randomization/randomization_y3.csv\", quote = FALSE, row.names = FALSE, col.names = TRUE, sep = \",\")\n",
    "write.table(cbind(train[,1:(length(train)-1)],y_scramble_4), file=\"work/training/randomization/randomization_y4.csv\", quote = FALSE, row.names = FALSE, col.names = TRUE, sep = \",\")\n",
    "write.table(cbind(train[,1:(length(train)-1)],y_scramble_5), file=\"work/training/randomization/randomization_y5.csv\", quote = FALSE, row.names = FALSE, col.names = TRUE, sep = \",\")\n",
    "write.table(cbind(train[,1:(length(train)-1)],y_scramble_6), file=\"work/training/randomization/randomization_y6.csv\", quote = FALSE, row.names = FALSE, col.names = TRUE, sep = \",\")\n",
    "write.table(cbind(train[,1:(length(train)-1)],y_scramble_7), file=\"work/training/randomization/randomization_y7.csv\", quote = FALSE, row.names = FALSE, col.names = TRUE, sep = \",\")\n",
    "write.table(cbind(train[,1:(length(train)-1)],y_scramble_8), file=\"work/training/randomization/randomization_y8.csv\", quote = FALSE, row.names = FALSE, col.names = TRUE, sep = \",\")\n",
    "write.table(cbind(train[,1:(length(train)-1)],y_scramble_9), file=\"work/training/randomization/randomization_y9.csv\", quote = FALSE, row.names = FALSE, col.names = TRUE, sep = \",\")\n",
    "write.table(cbind(train[,1:(length(train)-1)],y_scramble_10), file=\"work/training/randomization/randomization_y10.csv\", quote = FALSE, row.names = FALSE, col.names = TRUE, sep = \",\")"
   ]
  },
  {
   "cell_type": "code",
   "execution_count": null,
   "id": "73aae49e",
   "metadata": {},
   "outputs": [],
   "source": []
  }
 ],
 "metadata": {
  "kernelspec": {
   "display_name": "R",
   "language": "R",
   "name": "ir"
  },
  "language_info": {
   "codemirror_mode": "r",
   "file_extension": ".r",
   "mimetype": "text/x-r-source",
   "name": "R",
   "pygments_lexer": "r",
   "version": "4.1.2"
  }
 },
 "nbformat": 4,
 "nbformat_minor": 5
}
