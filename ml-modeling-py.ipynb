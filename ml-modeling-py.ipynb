{
 "cells": [
  {
   "cell_type": "code",
   "execution_count": 2,
   "id": "7d909141-9b45-4941-848e-c9693623a8bb",
   "metadata": {},
   "outputs": [],
   "source": [
    "from sklearn.tree import DecisionTreeRegressor \n",
    "from sklearn.ensemble import RandomForestRegressor\n",
    "from sklearn.model_selection import RandomizedSearchCV\n",
    "from sklearn.model_selection import cross_val_score\n",
    "from sklearn.model_selection import cross_validate\n",
    "from sklearn import metrics",
    "import pandas as pd\n",
    "import numpy as np\n",
    "import scipy\n",
    "import multiprocessing\n",
    "import pickle\n"
   ]
  },
  {
   "cell_type": "code",
   "execution_count": 3,
   "id": "ac2278c5-032e-40e0-ba76-671eefa40cec",
   "metadata": {},
   "outputs": [
    {
     "data": {
      "text/plain": [
       "128"
      ]
     },
     "execution_count": 3,
     "metadata": {},
     "output_type": "execute_result"
    }
   ],
   "source": [
    "multiprocessing.cpu_count()"
   ]
  },
  {
   "cell_type": "code",
   "execution_count": 4,
   "id": "0ea6f548-2d25-45ce-b9a6-677d004cbd21",
   "metadata": {},
   "outputs": [],
   "source": [
    "def prepareDataFrame(df, categorical_features):\n",
    "    \n",
    "    for ft in categorical_features:\n",
    "        \n",
    "        cat_ft = pd.get_dummies(df[ft], prefix='cat')\n",
    "        df = pd.concat([df,cat_ft], axis=1)\n",
    "        df = df.drop(ft, 1)\n",
    "    \n",
    "        \n",
    "    print(\"Dataframe after dummy variables:\")\n",
    "    print(df.shape)\n",
    "\n",
    "    Y = df[['ba']] \n",
    "    Y = Y.values.ravel()\n",
    "    \n",
    "    X = df.drop('ba', axis=1)\n",
    "    \n",
    "    return X, Y"
   ]
  },
  {
   "cell_type": "code",
   "execution_count": 5,
   "id": "1e51c21e-b00d-4ebc-9567-a5afac37c6dd",
   "metadata": {},
   "outputs": [],
   "source": [
    "def evaluate(model, test_features, test_labels, model_type):\n",
    "    \n",
    "    predictions = model.predict(test_features)\n",
    "    \n",
    "    pred_dict = {'observed':test_labels,'predicted':predictions}\n",
    "    \n",
    "    pred_df = pd.DataFrame(pred_dict)\n",
    "    pred_df.to_csv(\"work/predictions/\"+model_type+\".csv\", encoding=\"utf-8\", index=False)\n",
    "    \n",
    "    pearson_r = scipy.stats.pearsonr(test_labels, predictions)\n",
    "    print('Pearson R: ', pearson_r)\n",
    "    print('Pearson R squared: ', pearson_r[0]**2)\n",
    "\n",
    "    print('R Squared Error:', metrics.r2_score(test_labels, predictions))\n",
    "    print('Mean Absolute Error:', metrics.mean_absolute_error(test_labels, predictions))\n",
    "    print('Mean Squared Error:', metrics.mean_squared_error(test_labels, predictions))\n",
    "    print('Root Mean Squared Error:', np.sqrt(metrics.mean_squared_error(test_labels, predictions)))"
   ]
  },
  {
   "cell_type": "code",
   "execution_count": 8,
   "id": "f74173b8-004e-4bfb-b409-e2be3bddf567",
   "metadata": {},
   "outputs": [],
   "source": [
    "def train_test(model_type):\n",
    "    \n",
    "    categorical_features = []\n",
    "    \n",
    "    if(model_type == \"first_approach_unbalanced\"):\n",
    "        \n",
    "        train = pd.read_csv(\"work/training/first-approach/train-random-unbalanced.csv\", sep=\",\", encoding=\"utf-8\")\n",
    "        test = pd.read_csv(\"work/training/first-approach/test-random-unbalanced.csv\", sep=\",\", encoding=\"utf-8\")\n",
    "        \n",
    "    elif(model_type == \"first_approach_balanced\"):\n",
    "        \n",
    "        train = pd.read_csv(\"work/training/first-approach/train-random-balanced.csv\", sep=\",\", encoding=\"utf-8\")\n",
    "        test = pd.read_csv(\"work/training/first-approach/test-random-balanced.csv\", sep=\",\", encoding=\"utf-8\")\n",
    "                \n",
    "    elif(model_type == \"second_approach_pl_split_random\"):\n",
    "     \n",
    "        train = pd.read_csv(\"work/training/second-approach/train-random.csv\", sep=\",\", encoding=\"utf-8\")\n",
    "        test = pd.read_csv(\"work/training/second-approach/test-random.csv\", sep=\",\", encoding=\"utf-8\")\n",
    "        \n",
    "    elif(model_type == \"second_approach_pl_split_protein\"):\n",
    "     \n",
    "        train = pd.read_csv(\"work/training/second-approach/train-protein.csv\", sep=\",\", encoding=\"utf-8\")\n",
    "        test = pd.read_csv(\"work/training/second-approach/test-protein.csv\", sep=\",\", encoding=\"utf-8\")\n",
    "        \n",
    "    elif(model_type == \"second_approach_pl_split_pocket\"):\n",
    "     \n",
    "        train = pd.read_csv(\"work/training/second-approach/train-pocket.csv\", sep=\",\", encoding=\"utf-8\")\n",
    "        test = pd.read_csv(\"work/training/second-approach/test-pocket.csv\", sep=\",\", encoding=\"utf-8\")\n",
    "                \n",
    "    elif(model_type == \"second_approach_pl_split_ligand_weight\"):\n",
    "     \n",
    "        train = pd.read_csv(\"work/training/second-approach/train-ligand-weight.csv\", sep=\",\", encoding=\"utf-8\")\n",
    "        test = pd.read_csv(\"work/training/second-approach/test-ligand-weight.csv\", sep=\",\", encoding=\"utf-8\")\n",
    "                \n",
    "    elif(model_type == \"second_approach_pl_split_ligand_tpsa\"):\n",
    "     \n",
    "        train = pd.read_csv(\"work/training/second-approach/train-ligand-tpsa.csv\", sep=\",\", encoding=\"utf-8\")\n",
    "        test = pd.read_csv(\"work/training/second-approach/test-ligand-tpsa.csv\", sep=\",\", encoding=\"utf-8\")\n",
    "                \n",
    "    elif(model_type == \"second_approach_pl_split_ligand_volume\"):\n",
    "     \n",
    "        train = pd.read_csv(\"work/training/second-approach/train-ligand-volume.csv\", sep=\",\", encoding=\"utf-8\")\n",
    "        test = pd.read_csv(\"work/training/second-approach/test-ligand-volume.csv\", sep=\",\", encoding=\"utf-8\")\n",
    "            \n",
    "        \n",
    "    print(train.shape)\n",
    "    print(test.shape)\n",
    "    \n",
    "    train_X, train_Y = prepareDataFrame(train, categorical_features)\n",
    "    test_X, test_Y = prepareDataFrame(test, categorical_features)\n",
    "    \n",
    "    num_of_features = round(train_X.shape[1]/2)\n",
    "    \n",
    "    regressor = RandomForestRegressor(n_jobs=-1, max_features=num_of_features, n_estimators=500, random_state = 123, criterion= 'mse') \n",
    "\n",
    "    cv_scores = cross_validate(regressor, train_X, train_Y, cv=10, scoring=('r2', 'neg_mean_absolute_error', 'neg_mean_squared_error', 'neg_root_mean_squared_error', 'explained_variance'))\n",
    "    \n",
    "    print(\"CV score r2: \", end = ' ')\n",
    "    print(*cv_scores['test_r2'], sep=', ')\n",
    "    \n",
    "    print(\"CV score neg_mean_absolute_error: \", end = ' ')\n",
    "    print(*cv_scores['test_neg_mean_absolute_error'], sep=', ')\n",
    "    \n",
    "    print(\"CV score neg_mean_squared_error: \", end = ' ')\n",
    "    print(*cv_scores['test_neg_mean_squared_error'], sep=', ')\n",
    "    \n",
    "    print(\"CV score neg_root_mean_squared_error: \", end = ' ')\n",
    "    print(*cv_scores['test_neg_root_mean_squared_error'], sep=', ')\n",
    "    \n",
    "    print(\"CV score explained_variance: \", end = ' ')\n",
    "    print(*cv_scores['test_explained_variance'], sep=', ')\n",
    "\n",
    "    \n",
    "\n",
    "    print(\"CV score mean r2: \", end = ' ')\n",
    "    print(cv_scores['test_r2'].mean())\n",
    "    \n",
    "    print(\"CV score mean neg_mean_absolute_error: \", end = ' ')\n",
    "    print(cv_scores['test_neg_mean_absolute_error'].mean())\n",
    "    \n",
    "    print(\"CV score mean neg_mean_squared_error: \", end = ' ')\n",
    "    print(cv_scores['test_neg_mean_squared_error'].mean())\n",
    "    \n",
    "    print(\"CV score mean neg_root_mean_squared_error: \", end = ' ')\n",
    "    print(cv_scores['test_neg_root_mean_squared_error'].mean())\n",
    "    \n",
    "    print(\"CV score mean explained_variance: \", end = ' ')\n",
    "    print(cv_scores['test_explained_variance'].mean())\n",
    "    \n",
    "    regressor.fit(train_X, train_Y)\n",
    "    \n",
    "    print(\"Evaluation with the test set: \")\n",
    "    evaluate(regressor, test_X, test_Y, model_type)\n",
    "    \n",
    "    pickle.dump(regressor, open(\"work/models/\"+model_type+\".mdl\", 'wb'))\n",
    "    \n",
    "    return cv_scores, regressor"
   ]
  },
  {
   "cell_type": "code",
   "execution_count": null,
   "id": "af8f4c34-3c4b-4263-bf6a-91d217e55903",
   "metadata": {},
   "outputs": [],
   "source": []
  },
  {
   "cell_type": "code",
   "execution_count": 9,
   "id": "b64918b1-0d29-4cec-ae72-8a6ca619040e",
   "metadata": {},
   "outputs": [
    {
     "name": "stdout",
     "output_type": "stream",
     "text": [
      "(6738, 126)\n",
      "(1683, 126)\n",
      "Dataframe after dummy variables:\n",
      "(6738, 126)\n",
      "Dataframe after dummy variables:\n",
      "(1683, 126)\n",
      "CV score r2:  0.6864927396581418, 0.7230096353021711, -6.652715506560543, 0.6810978703360895, 0.02785232098244883, 0.3462333396971847, 0.4966275862922771, 0.45688684280651026, 0.6265104516978208, -0.3929889006452123\n",
      "CV score neg_mean_absolute_error:  -0.6496356083086062, -0.610859050445104, -2.2038, -0.516787537091989, -1.0997937685459924, -0.6054940652818988, -0.7636673590504447, -0.7425961424332339, -0.6838062407132238, -1.2818517087667167\n",
      "CV score neg_mean_squared_error:  -0.6444556929376861, -0.6769075357270041, -6.323589446172102, -0.477021870979229, -1.920891190919877, -0.6588598335311567, -1.0342933297922814, -1.0504193262314534, -0.7958237343239234, -3.310004141396732\n",
      "CV score neg_root_mean_squared_error:  -0.8027799779128065, -0.8227439065268147, -2.5146748191708808, -0.6906676993889529, -1.3859621895707968, -0.8117018131870575, -1.017002128705875, -1.024899666421769, -0.8920895326837567, -1.8193416780244254\n",
      "CV score explained_variance:  0.7139231988229731, 0.724318731106657, -1.0827149319338507, 0.7000244178763717, 0.16543385986618153, 0.4081067395422393, 0.5906114268239702, 0.5751670879227819, 0.6265114771206703, -0.0028782595766281283\n",
      "CV score mean r2:  -0.30009936204331106\n",
      "CV score mean neg_mean_absolute_error:  -0.9158291480637211\n",
      "CV score mean neg_mean_squared_error:  -1.6892266102011444\n",
      "CV score mean neg_root_mean_squared_error:  -1.1781863411593134\n",
      "CV score mean explained_variance:  0.3418503747571366\n",
      "Evaluation with the test set: \n",
      "Pearson R:  (0.9321436427463227, 0.0)\n",
      "Pearson R squared:  0.868891770712384\n",
      "R Squared Error: 0.8671290619537905\n",
      "Mean Absolute Error: 0.40136244800950693\n",
      "Mean Squared Error: 0.30246556922162887\n",
      "Root Mean Squared Error: 0.5499686984016716\n"
     ]
    }
   ],
   "source": [
    "cv_scores, reg_model = train_test(\"second_approach_pl_split_random\")"
   ]
  },
  {
   "cell_type": "code",
   "execution_count": 10,
   "id": "504d2ca3-192e-46b5-b456-014834ff8f55",
   "metadata": {},
   "outputs": [
    {
     "name": "stdout",
     "output_type": "stream",
     "text": [
      "(6969, 126)\n",
      "(1452, 126)\n",
      "Dataframe after dummy variables:\n",
      "(6969, 126)\n",
      "Dataframe after dummy variables:\n",
      "(1452, 126)\n",
      "CV score r2:  0.40352648399338975, 0.15004876661415045, -2.444870464331055, 0.6380331700206532, 0.5623689392424559, 0.5685172709419508, 0.6115883982638934, 0.5354296989110889, 0.4073982337312245, -0.8647858461177498\n",
      "CV score neg_mean_absolute_error:  -0.8502530846484945, -1.0576436154949787, -1.370372453371592, -0.5199876614060256, -0.5471015781922524, -0.5056846484935444, -0.809379340028699, -0.732271736011477, -0.773889526542324, -1.857600862068964\n",
      "CV score neg_mean_squared_error:  -1.0828140806886661, -1.6278896618651364, -2.714491185423242, -0.4630004360975601, -0.5415906003443327, -0.48992861985652914, -1.0805739338307108, -0.928983810215206, -1.1402829063414628, -4.987456429712637\n",
      "CV score neg_root_mean_squared_error:  -1.040583528933966, -1.275887793603002, -1.6475712990408766, -0.6804413539002168, -0.7359283934897014, -0.6999490123262759, -1.0395065819083162, -0.9638380622361861, -1.0678403000174992, -2.2332613885778434\n",
      "CV score explained_variance:  0.5082776494938267, 0.318294580727433, -0.5205683994505064, 0.6380419319592459, 0.6218198929419456, 0.5755314450397679, 0.6710239104160454, 0.6305098832055915, 0.4578400642794175, 0.3593049756967913\n",
      "CV score mean r2:  0.05672546512700023\n",
      "CV score mean neg_mean_absolute_error:  -0.902418450625835\n",
      "CV score mean neg_mean_squared_error:  -1.5057011664375484\n",
      "CV score mean neg_root_mean_squared_error:  -1.1384807714033882\n",
      "CV score mean explained_variance:  0.42600759343095584\n",
      "Evaluation with the test set: \n",
      "Pearson R:  (0.5318876117837603, 7.726084104267749e-107)\n",
      "Pearson R squared:  0.2829044315690321\n",
      "R Squared Error: 0.2485707648145905\n",
      "Mean Absolute Error: 0.8591214876033066\n",
      "Mean Squared Error: 1.1148497339393952\n",
      "Root Mean Squared Error: 1.0558644486577788\n"
     ]
    }
   ],
   "source": [
    "cv_scores, reg_model = train_test(\"second_approach_pl_split_pocket\")"
   ]
  },
  {
   "cell_type": "code",
   "execution_count": 11,
   "id": "ee8f1370-4524-450c-8b0f-ac0e0907d087",
   "metadata": {},
   "outputs": [
    {
     "name": "stdout",
     "output_type": "stream",
     "text": [
      "(6731, 126)\n",
      "(1690, 126)\n",
      "Dataframe after dummy variables:\n",
      "(6731, 126)\n",
      "Dataframe after dummy variables:\n",
      "(1690, 126)\n",
      "CV score r2:  0.6383132787298564, 0.45468208033275037, -2.850677814763661, -0.028875456807887945, 0.5310062580744853, -0.32825214452819984, -0.10058954299371736, 0.7626687817875597, -0.5663566461199243, -0.421139618984947\n",
      "CV score neg_mean_absolute_error:  -0.6113724035608309, -0.8063693907875182, -1.6113634472511145, -0.8639069836552764, -0.7976998514115907, -1.0365878157503696, -1.4525426448736984, -0.5226445765230315, -1.1843227340267473, -1.3759200594353638\n",
      "CV score neg_mean_squared_error:  -0.6422017259940646, -1.0283579224368504, -4.507481132243688, -1.2173488287072838, -1.0660522686478473, -1.706298296344722, -3.182698005349177, -0.4692192693610701, -1.9956057137592895, -3.607807263774146\n",
      "CV score neg_root_mean_squared_error:  -0.801374897282205, -1.014079840267447, -2.1230829310801047, -1.1033353201576046, -1.0324980719826296, -1.306253534481236, -1.7840117727608125, -0.6849958170391044, -1.4126590932561505, -1.8994228765006875\n",
      "CV score explained_variance:  0.6405096792425808, 0.5428064525066608, -0.9446833017232652, 0.40024719774670614, 0.5318756891304336, 0.22545589064564686, 0.31408822738636377, 0.7725331594098529, 0.08009502355906317, -0.2180155934485848\n",
      "CV score mean r2:  -0.19092208252736853\n",
      "CV score mean neg_mean_absolute_error:  -1.0262729907275543\n",
      "CV score mean neg_mean_squared_error:  -1.9423070426618139\n",
      "CV score mean neg_root_mean_squared_error:  -1.3161714154807982\n",
      "CV score mean explained_variance:  0.2344912424455458\n",
      "Evaluation with the test set: \n",
      "Pearson R:  (0.720035271528119, 3.7959907190592465e-270)\n",
      "Pearson R squared:  0.518450792244572\n",
      "R Squared Error: 0.41521960841286343\n",
      "Mean Absolute Error: 0.7777157396449698\n",
      "Mean Squared Error: 1.004536188686389\n",
      "Root Mean Squared Error: 1.002265528034557\n"
     ]
    }
   ],
   "source": [
    "cv_scores, reg_model = train_test(\"second_approach_pl_split_protein\")"
   ]
  },
  {
   "cell_type": "code",
   "execution_count": 12,
   "id": "2eb1e34c-78ff-4b3b-9f58-4c2716f1b9d8",
   "metadata": {},
   "outputs": [
    {
     "name": "stdout",
     "output_type": "stream",
     "text": [
      "(6770, 126)\n",
      "(1651, 126)\n",
      "Dataframe after dummy variables:\n",
      "(6770, 126)\n",
      "Dataframe after dummy variables:\n",
      "(1651, 126)\n",
      "CV score r2:  0.6855807941917444, 0.6246312530696403, -6.665967378545494, 0.6842139465079209, 0.16684011424503742, 0.3260868561029593, 0.4899033799026127, 0.3740334726258313, 0.596014438947789, -0.3777304492944369\n",
      "CV score neg_mean_absolute_error:  -0.6569503692762197, -0.6918035450516997, -2.104182274741505, -0.5128215657311656, -1.0044132939438692, -0.6082936484490402, -0.8124691285081248, -0.7830590841949776, -0.7016977843426887, -1.2681456425406192\n",
      "CV score neg_mean_squared_error:  -0.6567048375184648, -0.9053475932053209, -5.902417712319042, -0.4665993196454923, -1.6197473901920214, -0.6545250528803557, -1.1601021648449044, -1.145204088094535, -0.8448945116100457, -3.1848393920827145\n",
      "CV score neg_root_mean_squared_error:  -0.8103732704861784, -0.9514975529160971, -2.4294891875287368, -0.6830807563132578, -1.2726929677624612, -0.8090272262911525, -1.077080389221206, -1.0701420878063506, -0.9191814356317504, -1.7846118323273312\n",
      "CV score explained_variance:  0.7104517364845704, 0.6276237499810562, -1.301071074046873, 0.6960163866184313, 0.2699039985851125, 0.40240408959113516, 0.5902130652180531, 0.5437805613354356, 0.5960405012800496, 0.02087626450573099\n",
      "CV score mean r2:  -0.30963935722463953\n",
      "CV score mean neg_mean_absolute_error:  -0.9143836336779909\n",
      "CV score mean neg_mean_squared_error:  -1.6540382062392893\n",
      "CV score mean neg_root_mean_squared_error:  -1.1807176706284523\n",
      "CV score mean explained_variance:  0.31562392795527017\n",
      "Evaluation with the test set: \n",
      "Pearson R:  (0.9311295929536413, 0.0)\n",
      "Pearson R squared:  0.8670023188740137\n",
      "R Squared Error: 0.8664236759625299\n",
      "Mean Absolute Error: 0.4067153240460329\n",
      "Mean Squared Error: 0.3120652414052097\n",
      "Root Mean Squared Error: 0.5586279991239337\n"
     ]
    }
   ],
   "source": [
    "cv_scores, reg_model = train_test(\"second_approach_pl_split_ligand_weight\")"
   ]
  },
  {
   "cell_type": "code",
   "execution_count": 13,
   "id": "67666dc8-5363-411e-b8cf-c0a9c3bf6cde",
   "metadata": {},
   "outputs": [
    {
     "name": "stdout",
     "output_type": "stream",
     "text": [
      "(6765, 126)\n",
      "(1656, 126)\n",
      "Dataframe after dummy variables:\n",
      "(6765, 126)\n",
      "Dataframe after dummy variables:\n",
      "(1656, 126)\n",
      "CV score r2:  0.6812975356879218, 0.7467927998838304, -7.334141156545673, 0.7052342130368852, 0.07410219848792465, 0.3804430116477693, 0.4766870230020295, 0.4213288473385215, 0.6444480114252992, -0.3785376838635197\n",
      "CV score neg_mean_absolute_error:  -0.6378679468242255, -0.612768389955687, -2.287734416543574, -0.5092428360413583, -1.0779161004431315, -0.5785775147929, -0.8368772189349118, -0.7512982248520703, -0.6663340236686386, -1.2912275147928993\n",
      "CV score neg_mean_squared_error:  -0.6454260849039885, -0.5947554046085672, -6.751518974239282, -0.45474102670605493, -1.867640483663219, -0.5996446553846159, -1.2229642511834335, -1.0989329454437853, -0.7531337987573963, -3.264678152485207\n",
      "CV score neg_root_mean_squared_error:  -0.8033841452904011, -0.7712038670861079, -2.598368521638007, -0.6743448870615503, -1.3666164361894741, -0.7743672613073308, -1.1058771410891146, -1.0483000264446172, -0.8678328172853319, -1.8068420386091328\n",
      "CV score explained_variance:  0.7000122484120495, 0.7698314142304534, -1.1842178805220738, 0.7196945055837223, 0.21465308228372804, 0.42609375208533273, 0.5676580033521461, 0.5630358215065162, 0.6445632017666725, 0.024001122894322102\n",
      "CV score mean r2:  -0.35823451998990113\n",
      "CV score mean neg_mean_absolute_error:  -0.9249844186849397\n",
      "CV score mean neg_mean_squared_error:  -1.725343577737555\n",
      "CV score mean neg_root_mean_squared_error:  -1.1817137142001068\n",
      "CV score mean explained_variance:  0.3445325271592869\n",
      "Evaluation with the test set: \n",
      "Pearson R:  (0.9177243839503038, 0.0)\n",
      "Pearson R squared:  0.8422180448969645\n",
      "R Squared Error: 0.8411442943636551\n",
      "Mean Absolute Error: 0.42402499999999976\n",
      "Mean Squared Error: 0.35141057876811554\n",
      "Root Mean Squared Error: 0.5927989362069702\n"
     ]
    }
   ],
   "source": [
    "cv_scores, reg_model = train_test(\"second_approach_pl_split_ligand_tpsa\")"
   ]
  },
  {
   "cell_type": "code",
   "execution_count": 14,
   "id": "2eb0e5ea-4543-4dec-8078-ad0226b74c54",
   "metadata": {},
   "outputs": [
    {
     "name": "stdout",
     "output_type": "stream",
     "text": [
      "(6770, 126)\n",
      "(1651, 126)\n",
      "Dataframe after dummy variables:\n",
      "(6770, 126)\n",
      "Dataframe after dummy variables:\n",
      "(1651, 126)\n",
      "CV score r2:  0.6745252651858239, 0.7467564476362836, -6.859239410299979, 0.6899926270346375, -0.046141538504187896, 0.29848590942814146, 0.4283538856921103, 0.46351061775462266, 0.5627837018443873, -0.366856481829158\n",
      "CV score neg_mean_absolute_error:  -0.6640853766617436, -0.6001867060561299, -2.1970289512555374, -0.4994644017725256, -1.13690457902511, -0.6056818316100442, -0.8129926144756275, -0.7476023633677991, -0.7140974889217144, -1.2177923190546533\n",
      "CV score neg_mean_squared_error:  -0.6726583615361891, -0.6116785605908418, -6.236484095420961, -0.44743190599704546, -2.04183773116691, -0.6639595485376664, -1.2116663318168366, -1.0607439987001472, -0.9075057304579074, -2.88514153601182\n",
      "CV score neg_root_mean_squared_error:  -0.8201575223920031, -0.7820988176636261, -2.4972953560644284, -0.6689035102292747, -1.4289288754752316, -0.8148371300681299, -1.1007571629641284, -1.0299242684295518, -0.9526309518685121, -1.6985704389314622\n",
      "CV score explained_variance:  0.694459567570795, 0.7522474079903151, -1.0929194551287265, 0.6933206019176192, 0.14827348090268655, 0.3589216369489757, 0.5534416028797521, 0.6185006522646237, 0.5650902511364617, 0.02642654821161794\n",
      "CV score mean r2:  -0.3407828976057319\n",
      "CV score mean neg_mean_absolute_error:  -0.9195836632200886\n",
      "CV score mean neg_mean_squared_error:  -1.6739107800236326\n",
      "CV score mean neg_root_mean_squared_error:  -1.1794104034086348\n",
      "CV score mean explained_variance:  0.3317762294694121\n",
      "Evaluation with the test set: \n",
      "Pearson R:  (0.9322320187915425, 0.0)\n",
      "Pearson R squared:  0.8690565368601548\n",
      "R Squared Error: 0.8675394216068888\n",
      "Mean Absolute Error: 0.40391338582677144\n",
      "Mean Squared Error: 0.3138169781950334\n",
      "Root Mean Squared Error: 0.560193697032583\n"
     ]
    }
   ],
   "source": [
    "cv_scores, reg_model = train_test(\"second_approach_pl_split_ligand_volume\")"
   ]
  },
  {
   "cell_type": "code",
   "execution_count": 15,
   "id": "b907ee5e-4f6e-4b7f-9692-564ac69a4fa6",
   "metadata": {},
   "outputs": [
    {
     "name": "stdout",
     "output_type": "stream",
     "text": [
      "(317513, 270)\n",
      "(79377, 270)\n",
      "Dataframe after dummy variables:\n",
      "(317513, 270)\n",
      "Dataframe after dummy variables:\n",
      "(79377, 270)\n",
      "CV score r2:  0.6702865699669326, 0.7755924157290957, -0.41850719681210746, 0.7175648925625067, 0.6547247847595441, 0.4054792806711177, 0.8339498275533521, 0.45286421697296775, 0.6747178518589102, -0.28418843549044337\n",
      "CV score neg_mean_absolute_error:  -0.6462290375409425, -0.5046733497102549, -1.3607678193499633, -0.6270197978016447, -0.5789030077792824, -0.514250826745615, -0.41768061478378576, -0.8720773707914714, -0.6461129980158108, -1.1827276369248207\n",
      "CV score neg_mean_squared_error:  -0.6694494218594105, -0.47798553228646995, -3.1842254417876084, -0.7262072160398109, -0.6486161140890073, -0.4992692951251927, -0.31036179222071764, -1.4030917928040065, -0.7081521136279174, -2.7970863965053057\n",
      "CV score neg_root_mean_squared_error:  -0.8181988889380201, -0.6913649776250385, -1.784439811758191, -0.8521779251070817, -0.8053670679193478, -0.7065899059038366, -0.5571012405485358, -1.1845217569990036, -0.8415177440957008, -1.6724492209048698\n",
      "CV score explained_variance:  0.6741416046164039, 0.7907452204962949, -0.21651101570561804, 0.7720141703442469, 0.6942845822914305, 0.40876107846349297, 0.8343115976488753, 0.4575438948105739, 0.6849356052949296, 0.07692022034380308\n",
      "CV score mean r2:  0.4482484207771876\n",
      "CV score mean neg_mean_absolute_error:  -0.7350442459443591\n",
      "CV score mean neg_mean_squared_error:  -1.1424445116345445\n",
      "CV score mean neg_root_mean_squared_error:  -0.9913728539799627\n",
      "CV score mean explained_variance:  0.5177146958604434\n",
      "Evaluation with the test set: \n",
      "Pearson R:  (0.9841602913760498, 0.0)\n",
      "Pearson R squared:  0.9685714791213912\n",
      "R Squared Error: 0.9685653947975986\n",
      "Mean Absolute Error: 0.14507822669035242\n",
      "Mean Squared Error: 0.07599557207856177\n",
      "Root Mean Squared Error: 0.275672944045225\n"
     ]
    }
   ],
   "source": [
    "cv_scores, reg_model = train_test(\"first_approach_balanced\")"
   ]
  },
  {
   "cell_type": "code",
   "execution_count": null,
   "id": "9c2e4666-7a0b-4829-9e01-03fef25bda54",
   "metadata": {},
   "outputs": [
    {
     "name": "stdout",
     "output_type": "stream",
     "text": [
      "(847815, 278)\n",
      "(211953, 278)\n",
      "Dataframe after dummy variables:\n",
      "(847815, 278)\n",
      "Dataframe after dummy variables:\n",
      "(211953, 278)\n"
     ]
    }
   ],
   "source": [
    "cv_scores, reg_model = train_test(\"first_approach_unbalanced\")"
   ]
  },
  {
   "cell_type": "code",
   "execution_count": null,
   "id": "585907f3-a678-4790-a1ac-f3712f3a06fc",
   "metadata": {},
   "outputs": [],
   "source": []
  },
  {
   "cell_type": "code",
   "execution_count": 57,
   "id": "a4476b21-eafe-40de-8d33-c45de325fff9",
   "metadata": {},
   "outputs": [
    {
     "name": "stdout",
     "output_type": "stream",
     "text": [
      "{'n_estimators': [200, 242, 285, 328, 371, 414, 457, 500, 542, 585, 628, 671, 714, 757, 800], 'max_features': ['auto', 'sqrt', 98, 65, 49], 'max_depth': [10, 20, 30, 40, 50, 60, 70, 80, 90, 100, 110, None], 'min_samples_split': [2, 5, 10], 'min_samples_leaf': [1, 2, 4], 'bootstrap': [True, False]}\n"
     ]
    }
   ],
   "source": [
    "\n",
    "# Number of trees in random forest\n",
    "n_estimators = [int(x) for x in np.linspace(start = 200, stop = 800, num = 15)]\n",
    "# Number of features to consider at every split\n",
    "max_features = ['auto', 'sqrt', round(train_X.shape[1]/2), round(train_X.shape[1]/3), round(train_X.shape[1]/4)]\n",
    "# Maximum number of levels in tree\n",
    "max_depth = [int(x) for x in np.linspace(10, 110, num = 11)]\n",
    "max_depth.append(None)\n",
    "# Minimum number of samples required to split a node\n",
    "min_samples_split = [2, 5, 10]\n",
    "# Minimum number of samples required at each leaf node\n",
    "min_samples_leaf = [1, 2, 4]\n",
    "# Method of selecting samples for training each tree\n",
    "bootstrap = [True, False]\n",
    "# Create the random grid\n",
    "random_grid = {'n_estimators': n_estimators,\n",
    "               'max_features': max_features,\n",
    "               'max_depth': max_depth,\n",
    "               'min_samples_split': min_samples_split,\n",
    "               'min_samples_leaf': min_samples_leaf,\n",
    "               'bootstrap': bootstrap}\n",
    "print(random_grid)"
   ]
  },
  {
   "cell_type": "code",
   "execution_count": 58,
   "id": "73d06252-b76b-4afe-8237-cae54de72a64",
   "metadata": {},
   "outputs": [
    {
     "name": "stdout",
     "output_type": "stream",
     "text": [
      "Fitting 3 folds for each of 100 candidates, totalling 300 fits\n"
     ]
    },
    {
     "data": {
      "text/plain": [
       "RandomizedSearchCV(cv=3, estimator=RandomForestRegressor(), n_iter=100,\n",
       "                   n_jobs=-1,\n",
       "                   param_distributions={'bootstrap': [True, False],\n",
       "                                        'max_depth': [10, 20, 30, 40, 50, 60,\n",
       "                                                      70, 80, 90, 100, 110,\n",
       "                                                      None],\n",
       "                                        'max_features': ['auto', 'sqrt', 98, 65,\n",
       "                                                         49],\n",
       "                                        'min_samples_leaf': [1, 2, 4],\n",
       "                                        'min_samples_split': [2, 5, 10],\n",
       "                                        'n_estimators': [200, 242, 285, 328,\n",
       "                                                         371, 414, 457, 500,\n",
       "                                                         542, 585, 628, 671,\n",
       "                                                         714, 757, 800]},\n",
       "                   random_state=123, verbose=2)"
      ]
     },
     "execution_count": 58,
     "metadata": {},
     "output_type": "execute_result"
    }
   ],
   "source": [
    "# Use the random grid to search for best hyperparameters\n",
    "# First create the base model to tune\n",
    "rf = RandomForestRegressor()\n",
    "# Random search of parameters, using 3 fold cross validation, \n",
    "# search across 100 different combinations, and use all available cores\n",
    "rf_random = RandomizedSearchCV(estimator = rf, param_distributions = random_grid, n_iter = 100, cv = 3, verbose=2, random_state=123, n_jobs = -1)\n",
    "# Fit the random search model\n",
    "rf_random.fit(train_X, train_Y)"
   ]
  },
  {
   "cell_type": "code",
   "execution_count": 140,
   "id": "cc656028-8d6c-4e53-bcb7-e388ad6c58eb",
   "metadata": {},
   "outputs": [
    {
     "data": {
      "text/plain": [
       "{'n_estimators': 457,\n",
       " 'min_samples_split': 10,\n",
       " 'min_samples_leaf': 1,\n",
       " 'max_features': 'sqrt',\n",
       " 'max_depth': 60,\n",
       " 'bootstrap': False}"
      ]
     },
     "execution_count": 140,
     "metadata": {},
     "output_type": "execute_result"
    }
   ],
   "source": [
    "rf_random.best_params_"
   ]
  },
  {
   "cell_type": "code",
   "execution_count": 61,
   "id": "a3643724-1aa5-449e-8b73-b5ffb6924451",
   "metadata": {},
   "outputs": [
    {
     "name": "stdout",
     "output_type": "stream",
     "text": [
      "Mean Absolute Error: 0.41645679037006417\n",
      "Mean Squared Error: 0.32449833562823804\n",
      "R Squared Error: 0.8611018175740554\n",
      "Root Mean Squared Error: 0.5696475538683881\n"
     ]
    }
   ],
   "source": [
    "best_random = rf_random.best_estimator_\n",
    "random_accuracy = evaluate(best_random, test_X, test_Y)"
   ]
  },
  {
   "cell_type": "code",
   "execution_count": null,
   "id": "3ecb8b6a-d6a0-48a0-9390-e631cf0782c4",
   "metadata": {},
   "outputs": [],
   "source": []
  },
  {
   "cell_type": "code",
   "execution_count": 129,
   "id": "a20fe8d2-34c3-421a-9da1-f7862f3b1152",
   "metadata": {},
   "outputs": [
    {
     "name": "stdout",
     "output_type": "stream",
     "text": [
      "GridSearchCV(cv=3, estimator=RandomForestRegressor(), n_jobs=-1,\n",
      "             param_grid={'bootstrap': [True], 'max_depth': [None, 60, 80, 90],\n",
      "                         'max_features': [160, 80, 107],\n",
      "                         'min_samples_leaf': [1, 2, 4],\n",
      "                         'min_samples_split': [2, 5, 10],\n",
      "                         'n_estimators': [300, 400, 500, 800]},\n",
      "             verbose=2)\n"
     ]
    }
   ],
   "source": [
    "from sklearn.model_selection import GridSearchCV\n",
    "# Create the parameter grid based on the results of random search \n",
    "param_grid = {\n",
    "    'bootstrap': [True],\n",
    "    'max_depth': [None, 60, 80, 90],\n",
    "    'max_features': [round(train_X.shape[1]/2), round(train_X.shape[1]/4), round(train_X.shape[1]/3)],\n",
    "    'min_samples_leaf': [1, 2, 4],\n",
    "    'min_samples_split': [2, 5, 10],\n",
    "    'n_estimators': [300, 400, 500, 800]\n",
    "}\n",
    "# Create a based model\n",
    "rf = RandomForestRegressor()\n",
    "# Instantiate the grid search model\n",
    "grid_search = GridSearchCV(estimator = rf, param_grid = param_grid, \n",
    "                          cv = 3, n_jobs = -1, verbose = 2)\n",
    "\n",
    "print(grid_search)"
   ]
  },
  {
   "cell_type": "code",
   "execution_count": null,
   "id": "ca58ac78-6a87-475f-88de-8cc4d7757376",
   "metadata": {},
   "outputs": [
    {
     "name": "stdout",
     "output_type": "stream",
     "text": [
      "Fitting 3 folds for each of 432 candidates, totalling 1296 fits\n"
     ]
    }
   ],
   "source": [
    "grid_search.fit(train_X, train_Y)"
   ]
  },
  {
   "cell_type": "code",
   "execution_count": 137,
   "id": "8d7a7635-3388-4ea5-9f3a-7c7f3458a991",
   "metadata": {},
   "outputs": [
    {
     "data": {
      "text/plain": [
       "RandomForestRegressor(max_depth=60, max_features=107, min_samples_leaf=4,\n",
       "                      min_samples_split=5, n_estimators=300)"
      ]
     },
     "execution_count": 137,
     "metadata": {},
     "output_type": "execute_result"
    }
   ],
   "source": [
    "grid_search.best_estimator_"
   ]
  },
  {
   "cell_type": "code",
   "execution_count": 156,
   "id": "ade8062f-1793-4f40-892e-8867def9c8a2",
   "metadata": {},
   "outputs": [
    {
     "name": "stdout",
     "output_type": "stream",
     "text": [
      "Pearson R:  (0.9820782493152663, 0.0)\n",
      "Pearson R squared:  0.9644776877781384\n",
      "NumPy Pearson correlation:  [[1.         0.98207825]\n",
      " [0.98207825 1.        ]]\n",
      "Mean Absolute Error: 0.15549328930528236\n",
      "Mean Squared Error: 0.08323586487391017\n",
      "R Squared Error: 0.9644602037287737\n",
      "Root Mean Squared Error: 0.28850626487809616\n"
     ]
    }
   ],
   "source": [
    "best_grid = grid_search.best_estimator_\n",
    "evaluate(grid_search, test_X, test_Y)"
   ]
  },
  {
   "cell_type": "code",
   "execution_count": 136,
   "id": "9e2acb36-edf0-4039-a8e8-3daf81a38aeb",
   "metadata": {},
   "outputs": [
    {
     "name": "stdout",
     "output_type": "stream",
     "text": [
      "done\n"
     ]
    }
   ],
   "source": [
    "print(\"done\")"
   ]
  }
 ],
 "metadata": {
  "kernelspec": {
   "display_name": "Python 3",
   "language": "python",
   "name": "python3"
  },
  "language_info": {
   "codemirror_mode": {
    "name": "ipython",
    "version": 3
   },
   "file_extension": ".py",
   "mimetype": "text/x-python",
   "name": "python",
   "nbconvert_exporter": "python",
   "pygments_lexer": "ipython3",
   "version": "3.8.8"
  }
 },
 "nbformat": 4,
 "nbformat_minor": 5
}
