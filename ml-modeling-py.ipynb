{
 "cells": [
  {
   "cell_type": "code",
   "execution_count": 72,
   "id": "7d909141-9b45-4941-848e-c9693623a8bb",
   "metadata": {},
   "outputs": [],
   "source": [
    "from sklearn.tree import DecisionTreeRegressor \n",
    "from sklearn.ensemble import RandomForestRegressor\n",
    "import pandas as pd\n",
    "import numpy as np\n",
    "from sklearn.model_selection import RandomizedSearchCV\n",
    "from sklearn.model_selection import cross_val_score\n",
    "from sklearn.model_selection import cross_validate\n",
    "import scipy\n",
    "import multiprocessing\n",
    "import pickle\n",
    "from sklearn import metrics"
   ]
  },
  {
   "cell_type": "code",
   "execution_count": 73,
   "id": "ac2278c5-032e-40e0-ba76-671eefa40cec",
   "metadata": {},
   "outputs": [
    {
     "data": {
      "text/plain": [
       "128"
      ]
     },
     "execution_count": 73,
     "metadata": {},
     "output_type": "execute_result"
    }
   ],
   "source": [
    "multiprocessing.cpu_count()"
   ]
  },
  {
   "cell_type": "code",
   "execution_count": 74,
   "id": "0ea6f548-2d25-45ce-b9a6-677d004cbd21",
   "metadata": {},
   "outputs": [],
   "source": [
    "def prepareDataFrame(df, categorical_features):\n",
    "    \n",
    "    for ft in categorical_features:\n",
    "        \n",
    "        cat_ft = pd.get_dummies(df[ft], prefix='cat')\n",
    "        df = pd.concat([df,cat_ft], axis=1)\n",
    "        df = df.drop(ft, 1)\n",
    "    \n",
    "        \n",
    "    print(\"Dataframe after dummy variables:\")\n",
    "    print(df.shape)\n",
    "\n",
    "    Y = df[['ba']] \n",
    "    Y = Y.values.ravel()\n",
    "    \n",
    "    X = df.drop('ba', axis=1)\n",
    "    \n",
    "    return X, Y"
   ]
  },
  {
   "cell_type": "code",
   "execution_count": 75,
   "id": "1e51c21e-b00d-4ebc-9567-a5afac37c6dd",
   "metadata": {},
   "outputs": [],
   "source": [
    "def evaluate(model, test_features, test_labels, model_type):\n",
    "    \n",
    "    predictions = model.predict(test_features)\n",
    "    \n",
    "    pred_dict = {'observed':test_labels,'predicted':predictions}\n",
    "    \n",
    "    pred_df = pd.DataFrame(pred_dict)\n",
    "    pred_df.to_csv(\"work/predictions/\"+model_type+\".csv\", encoding=\"utf-8\", index=False)\n",
    "    \n",
    "    pearson_r = scipy.stats.pearsonr(test_labels, predictions)\n",
    "    print('Pearson R: ', pearson_r)\n",
    "    print('Pearson R squared: ', pearson_r[0]**2)\n",
    "\n",
    "    print('R Squared Error:', metrics.r2_score(test_labels, predictions))\n",
    "    print('Mean Absolute Error:', metrics.mean_absolute_error(test_labels, predictions))\n",
    "    print('Mean Squared Error:', metrics.mean_squared_error(test_labels, predictions))\n",
    "    print('Root Mean Squared Error:', np.sqrt(metrics.mean_squared_error(test_labels, predictions)))"
   ]
  },
  {
   "cell_type": "code",
   "execution_count": 76,
   "id": "f74173b8-004e-4bfb-b409-e2be3bddf567",
   "metadata": {},
   "outputs": [],
   "source": [
    "def train_test(model_type):\n",
    "    \n",
    "    if(model_type == \"first_approach_unbalanced\"):\n",
    "        \n",
    "        train = pd.read_csv(\"work/training/first-approach/train-random-unbalanced.csv\", sep=\",\", encoding=\"utf-8\")\n",
    "        test = pd.read_csv(\"work/training/first-approach/test-random-unbalanced.csv\", sep=\",\", encoding=\"utf-8\")\n",
    "        \n",
    "        categorical_features = [\"secStruct\", \"secStructSimple\", \"CysteineMutation\", \"GlycineMutation\", \"ProlineMutation\", \"ChargeGroupChange\", \"HydroGroupChange\", \"VanDerWaalsVolumeGroupChange\",\n",
    "                       \"PloarityGroupChange\", \"PolarizabilityGroupChange\",  \"SSWTGroupChange\", \"AsaGroupChange\", \"DominantSS\", \"RuleOfFiveDescriptor\"]\n",
    "        \n",
    "    elif(model_type == \"first_approach_balanced\"):\n",
    "        \n",
    "        train = pd.read_csv(\"work/training/first-approach/train-random-balanced.csv\", sep=\",\", encoding=\"utf-8\")\n",
    "        test = pd.read_csv(\"work/training/first-approach/test-random-balanced.csv\", sep=\",\", encoding=\"utf-8\")\n",
    "        \n",
    "        categorical_features = [\"secStruct\", \"secStructSimple\", \"CysteineMutation\", \"GlycineMutation\", \"ProlineMutation\", \"ChargeGroupChange\", \"HydroGroupChange\", \"VanDerWaalsVolumeGroupChange\",\n",
    "                       \"PloarityGroupChange\", \"PolarizabilityGroupChange\",  \"SSWTGroupChange\", \"AsaGroupChange\", \"DominantSS\", \"RuleOfFiveDescriptor\"]  \n",
    "        \n",
    "    elif(model_type == \"second_approach_pl_split_random\"):\n",
    "     \n",
    "        train = pd.read_csv(\"work/training/second-approach/train-random.csv\", sep=\",\", encoding=\"utf-8\")\n",
    "        test = pd.read_csv(\"work/training/second-approach/test-random.csv\", sep=\",\", encoding=\"utf-8\")\n",
    "        \n",
    "        categorical_features = [\"RuleOfFiveDescriptor\", \"DominantSS\"] \n",
    "\n",
    "    elif(model_type == \"second_approach_pl_split_protein\"):\n",
    "     \n",
    "        train = pd.read_csv(\"work/training/second-approach/train-protein.csv\", sep=\",\", encoding=\"utf-8\")\n",
    "        test = pd.read_csv(\"work/training/second-approach/test-protein.csv\", sep=\",\", encoding=\"utf-8\")\n",
    "        \n",
    "        categorical_features = [\"RuleOfFiveDescriptor\", \"DominantSS\"]\n",
    "\n",
    "    elif(model_type == \"second_approach_pl_split_pocket\"):\n",
    "     \n",
    "        train = pd.read_csv(\"work/training/second-approach/train-pocket.csv\", sep=\",\", encoding=\"utf-8\")\n",
    "        test = pd.read_csv(\"work/training/second-approach/test-pocket.csv\", sep=\",\", encoding=\"utf-8\")\n",
    "        \n",
    "        categorical_features = [\"RuleOfFiveDescriptor\", \"DominantSS\"]\n",
    "        \n",
    "    elif(model_type == \"second_approach_pl_split_ligand_weight\"):\n",
    "     \n",
    "        train = pd.read_csv(\"work/training/second-approach/train-ligand-weight.csv\", sep=\",\", encoding=\"utf-8\")\n",
    "        test = pd.read_csv(\"work/training/second-approach/test-ligand-weight.csv\", sep=\",\", encoding=\"utf-8\")\n",
    "        \n",
    "        categorical_features = [\"RuleOfFiveDescriptor\", \"DominantSS\"]\n",
    "        \n",
    "    elif(model_type == \"second_approach_pl_split_ligand_tpsa\"):\n",
    "     \n",
    "        train = pd.read_csv(\"work/training/second-approach/train-ligand-tpsa.csv\", sep=\",\", encoding=\"utf-8\")\n",
    "        test = pd.read_csv(\"work/training/second-approach/test-ligand-tpsa.csv\", sep=\",\", encoding=\"utf-8\")\n",
    "        \n",
    "        categorical_features = [\"RuleOfFiveDescriptor\", \"DominantSS\"]\n",
    "        \n",
    "    elif(model_type == \"second_approach_pl_split_ligand_volume\"):\n",
    "     \n",
    "        train = pd.read_csv(\"work/training/second-approach/train-ligand-volume.csv\", sep=\",\", encoding=\"utf-8\")\n",
    "        test = pd.read_csv(\"work/training/second-approach/test-ligand-volume.csv\", sep=\",\", encoding=\"utf-8\")\n",
    "        \n",
    "        categorical_features = [\"RuleOfFiveDescriptor\", \"DominantSS\"]\n",
    "        \n",
    "        \n",
    "    print(train.shape)\n",
    "    \n",
    "    train_X, train_Y = prepareDataFrame(train, categorical_features)\n",
    "    test_X, test_Y = prepareDataFrame(test, categorical_features)\n",
    "    \n",
    "    num_of_features = round(train_X.shape[1]/2)\n",
    "    \n",
    "    regressor = RandomForestRegressor(n_jobs=-1, max_features=num_of_features, n_estimators=500, random_state = 123, criterion= 'mse') \n",
    "\n",
    "    cv_scores = cross_validate(regressor, train_X, train_Y, cv=10, scoring=('r2', 'neg_mean_absolute_error', 'neg_mean_squared_error', 'neg_root_mean_squared_error', 'explained_variance'))\n",
    "    \n",
    "    print(\"CV score r2: \", end = ' ')\n",
    "    print(*cv_scores['test_r2'], sep=', ')\n",
    "    \n",
    "    print(\"CV score neg_mean_absolute_error: \", end = ' ')\n",
    "    print(*cv_scores['test_neg_mean_absolute_error'], sep=', ')\n",
    "    \n",
    "    print(\"CV score neg_mean_squared_error: \", end = ' ')\n",
    "    print(*cv_scores['test_neg_mean_squared_error'], sep=', ')\n",
    "    \n",
    "    print(\"CV score neg_root_mean_squared_error: \", end = ' ')\n",
    "    print(*cv_scores['test_neg_root_mean_squared_error'], sep=', ')\n",
    "    \n",
    "    print(\"CV score explained_variance: \", end = ' ')\n",
    "    print(*cv_scores['test_explained_variance'], sep=', ')\n",
    "\n",
    "    \n",
    "\n",
    "    print(\"CV score mean r2: \", end = ' ')\n",
    "    print(cv_scores['test_r2'].mean())\n",
    "    \n",
    "    print(\"CV score mean neg_mean_absolute_error: \", end = ' ')\n",
    "    print(cv_scores['test_neg_mean_absolute_error'].mean())\n",
    "    \n",
    "    print(\"CV score mean neg_mean_squared_error: \", end = ' ')\n",
    "    print(cv_scores['test_neg_mean_squared_error'].mean())\n",
    "    \n",
    "    print(\"CV score mean neg_root_mean_squared_error: \", end = ' ')\n",
    "    print(cv_scores['test_neg_root_mean_squared_error'].mean())\n",
    "    \n",
    "    print(\"CV score mean explained_variance: \", end = ' ')\n",
    "    print(cv_scores['test_explained_variance'].mean())\n",
    "    \n",
    "    regressor.fit(train_X, train_Y)\n",
    "    \n",
    "    print(\"Evaluation with the test set: \")\n",
    "    evaluate(regressor, test_X, test_Y, model_type)\n",
    "    \n",
    "    pickle.dump(regressor, open(\"work/models/\"+model_type+\".mdl\", 'wb'))\n",
    "    \n",
    "    return cv_scores, regressor"
   ]
  },
  {
   "cell_type": "code",
   "execution_count": null,
   "id": "af8f4c34-3c4b-4263-bf6a-91d217e55903",
   "metadata": {},
   "outputs": [],
   "source": []
  },
  {
   "cell_type": "code",
   "execution_count": 77,
   "id": "b64918b1-0d29-4cec-ae72-8a6ca619040e",
   "metadata": {},
   "outputs": [
    {
     "name": "stdout",
     "output_type": "stream",
     "text": [
      "(6738, 190)\n",
      "Dataframe after dummy variables:\n",
      "(6738, 196)\n",
      "Dataframe after dummy variables:\n",
      "(1683, 196)\n",
      "CV score r2:  0.6931258025525306, 0.7207699516224186, -6.519387188799307, 0.6642552861186667, 0.022891502602585767, 0.35062214382489443, 0.41775111182640134, 0.46006343564151186, 0.6192721013328832, -0.38916680139209214\n",
      "CV score neg_mean_absolute_error:  -0.6476587537091997, -0.6178801186943627, -2.1974195845697317, -0.5277091988130573, -1.1052548961424322, -0.6015967359050447, -0.8182083086053422, -0.7459979228486645, -0.6952493313521536, -1.2848332838038634\n",
      "CV score neg_mean_squared_error:  -0.6308205537091996, -0.6823808624332351, -6.213417632997022, -0.5022154344213656, -1.930693397448069, -0.6544368383976265, -1.1963630205341258, -1.0442755706231441, -0.8112470602080226, -3.3009221132838036\n",
      "CV score neg_root_mean_squared_error:  -0.7942421253680767, -0.8260634736103728, -2.4926727889951823, -0.7086715984300243, -1.3894939357363416, -0.8089727055949579, -1.0937838088644967, -1.0218980235929338, -0.9006925447720896, -1.816843998059218\n",
      "CV score explained_variance:  0.704697500847011, 0.7216184790778095, -0.9770101114654788, 0.6788360623858515, 0.17151704897460363, 0.3891389123302713, 0.5401628383231114, 0.5806214617232872, 0.6193005043421478, 0.013479307068042234\n",
      "CV score mean r2:  -0.29598026546695066\n",
      "CV score mean neg_mean_absolute_error:  -0.9241808134443852\n",
      "CV score mean neg_mean_squared_error:  -1.6966772484055617\n",
      "CV score mean neg_root_mean_squared_error:  -1.1853335003023695\n",
      "CV score mean explained_variance:  0.34423620036066566\n",
      "Evaluation with the test set: \n",
      "Pearson R:  (0.9283189836076053, 0.0)\n",
      "Pearson R squared:  0.8617761353262574\n",
      "R Squared Error: 0.8586072940096271\n",
      "Mean Absolute Error: 0.41948758169934647\n",
      "Mean Squared Error: 0.3218644041354728\n",
      "Root Mean Squared Error: 0.5673309476271083\n"
     ]
    }
   ],
   "source": [
    "cv_scores, reg_model = train_test(\"second_approach_pl_split_random\")"
   ]
  },
  {
   "cell_type": "code",
   "execution_count": 78,
   "id": "504d2ca3-192e-46b5-b456-014834ff8f55",
   "metadata": {},
   "outputs": [
    {
     "name": "stdout",
     "output_type": "stream",
     "text": [
      "(6969, 190)\n",
      "Dataframe after dummy variables:\n",
      "(6969, 196)\n",
      "Dataframe after dummy variables:\n",
      "(1452, 194)\n",
      "CV score r2:  0.36426875175193174, 0.1138727762807511, -2.61393423838692, 0.5929485830271909, 0.5447921177146389, 0.5488211256434978, 0.5723306252474132, 0.532058366471192, 0.3940538131267032, -0.8472359600929313\n",
      "CV score neg_mean_absolute_error:  -0.8788837876614063, -1.0783939741750355, -1.4077569583931129, -0.5518140602582501, -0.5648849354375904, -0.5200895265423251, -0.8581724533715955, -0.7438593974175036, -0.7843753228120515, -1.8471497126436764\n",
      "CV score neg_mean_squared_error:  -1.1540809921377322, -1.697176602525107, -2.8477101639598263, -0.5206692104447632, -0.5633428071162135, -0.5122926790243909, -1.189790357934007, -0.9357253372740315, -1.1659602086657104, -4.940518443735625\n",
      "CV score neg_root_mean_squared_error:  -1.074281616773615, -1.30275730760764, -1.6875159744310055, -0.72157411985517, -0.7505616611020134, -0.7157462392666768, -1.0907751179477863, -0.9673289705545014, -1.0797963737046492, -2.222727703461588\n",
      "CV score explained_variance:  0.4863740561559602, 0.28838335487826394, -0.6208126900617166, 0.5944705006493622, 0.6084896978381913, 0.5557647972721769, 0.6393614484368557, 0.6323010850584343, 0.43858867154101633, 0.3639820936841195\n",
      "CV score mean r2:  0.020197596078346747\n",
      "CV score mean neg_mean_absolute_error:  -0.9235380128712547\n",
      "CV score mean neg_mean_squared_error:  -1.5527266802817408\n",
      "CV score mean neg_root_mean_squared_error:  -1.1613065084704646\n",
      "CV score mean explained_variance:  0.3986903015452664\n",
      "Evaluation with the test set: \n"
     ]
    },
    {
     "ename": "ValueError",
     "evalue": "X has 193 features, but DecisionTreeRegressor is expecting 195 features as input.",
     "output_type": "error",
     "traceback": [
      "\u001b[0;31m---------------------------------------------------------------------------\u001b[0m",
      "\u001b[0;31mValueError\u001b[0m                                Traceback (most recent call last)",
      "\u001b[0;32m<ipython-input-78-692b5e50f98b>\u001b[0m in \u001b[0;36m<module>\u001b[0;34m\u001b[0m\n\u001b[0;32m----> 1\u001b[0;31m \u001b[0mcv_scores\u001b[0m\u001b[0;34m,\u001b[0m \u001b[0mreg_model\u001b[0m \u001b[0;34m=\u001b[0m \u001b[0mtrain_test\u001b[0m\u001b[0;34m(\u001b[0m\u001b[0;34m\"second_approach_pl_split_pocket\"\u001b[0m\u001b[0;34m)\u001b[0m\u001b[0;34m\u001b[0m\u001b[0;34m\u001b[0m\u001b[0m\n\u001b[0m",
      "\u001b[0;32m<ipython-input-76-6dd6284aae04>\u001b[0m in \u001b[0;36mtrain_test\u001b[0;34m(model_type)\u001b[0m\n\u001b[1;32m    106\u001b[0m \u001b[0;34m\u001b[0m\u001b[0m\n\u001b[1;32m    107\u001b[0m     \u001b[0mprint\u001b[0m\u001b[0;34m(\u001b[0m\u001b[0;34m\"Evaluation with the test set: \"\u001b[0m\u001b[0;34m)\u001b[0m\u001b[0;34m\u001b[0m\u001b[0;34m\u001b[0m\u001b[0m\n\u001b[0;32m--> 108\u001b[0;31m     \u001b[0mevaluate\u001b[0m\u001b[0;34m(\u001b[0m\u001b[0mregressor\u001b[0m\u001b[0;34m,\u001b[0m \u001b[0mtest_X\u001b[0m\u001b[0;34m,\u001b[0m \u001b[0mtest_Y\u001b[0m\u001b[0;34m,\u001b[0m \u001b[0mmodel_type\u001b[0m\u001b[0;34m)\u001b[0m\u001b[0;34m\u001b[0m\u001b[0;34m\u001b[0m\u001b[0m\n\u001b[0m\u001b[1;32m    109\u001b[0m \u001b[0;34m\u001b[0m\u001b[0m\n\u001b[1;32m    110\u001b[0m     \u001b[0mpickle\u001b[0m\u001b[0;34m.\u001b[0m\u001b[0mdump\u001b[0m\u001b[0;34m(\u001b[0m\u001b[0mregressor\u001b[0m\u001b[0;34m,\u001b[0m \u001b[0mopen\u001b[0m\u001b[0;34m(\u001b[0m\u001b[0;34m\"work/models/\"\u001b[0m\u001b[0;34m+\u001b[0m\u001b[0mmodel_type\u001b[0m\u001b[0;34m+\u001b[0m\u001b[0;34m\".mdl\"\u001b[0m\u001b[0;34m,\u001b[0m \u001b[0;34m'wb'\u001b[0m\u001b[0;34m)\u001b[0m\u001b[0;34m)\u001b[0m\u001b[0;34m\u001b[0m\u001b[0;34m\u001b[0m\u001b[0m\n",
      "\u001b[0;32m<ipython-input-75-0f3b361c167c>\u001b[0m in \u001b[0;36mevaluate\u001b[0;34m(model, test_features, test_labels, model_type)\u001b[0m\n\u001b[1;32m      1\u001b[0m \u001b[0;32mdef\u001b[0m \u001b[0mevaluate\u001b[0m\u001b[0;34m(\u001b[0m\u001b[0mmodel\u001b[0m\u001b[0;34m,\u001b[0m \u001b[0mtest_features\u001b[0m\u001b[0;34m,\u001b[0m \u001b[0mtest_labels\u001b[0m\u001b[0;34m,\u001b[0m \u001b[0mmodel_type\u001b[0m\u001b[0;34m)\u001b[0m\u001b[0;34m:\u001b[0m\u001b[0;34m\u001b[0m\u001b[0;34m\u001b[0m\u001b[0m\n\u001b[1;32m      2\u001b[0m \u001b[0;34m\u001b[0m\u001b[0m\n\u001b[0;32m----> 3\u001b[0;31m     \u001b[0mpredictions\u001b[0m \u001b[0;34m=\u001b[0m \u001b[0mmodel\u001b[0m\u001b[0;34m.\u001b[0m\u001b[0mpredict\u001b[0m\u001b[0;34m(\u001b[0m\u001b[0mtest_features\u001b[0m\u001b[0;34m)\u001b[0m\u001b[0;34m\u001b[0m\u001b[0;34m\u001b[0m\u001b[0m\n\u001b[0m\u001b[1;32m      4\u001b[0m \u001b[0;34m\u001b[0m\u001b[0m\n\u001b[1;32m      5\u001b[0m     \u001b[0mpred_dict\u001b[0m \u001b[0;34m=\u001b[0m \u001b[0;34m{\u001b[0m\u001b[0;34m'observed'\u001b[0m\u001b[0;34m:\u001b[0m\u001b[0mtest_labels\u001b[0m\u001b[0;34m,\u001b[0m\u001b[0;34m'predicted'\u001b[0m\u001b[0;34m:\u001b[0m\u001b[0mpredictions\u001b[0m\u001b[0;34m}\u001b[0m\u001b[0;34m\u001b[0m\u001b[0;34m\u001b[0m\u001b[0m\n",
      "\u001b[0;32m/opt/conda/lib/python3.8/site-packages/sklearn/ensemble/_forest.py\u001b[0m in \u001b[0;36mpredict\u001b[0;34m(self, X)\u001b[0m\n\u001b[1;32m    782\u001b[0m         \u001b[0mcheck_is_fitted\u001b[0m\u001b[0;34m(\u001b[0m\u001b[0mself\u001b[0m\u001b[0;34m)\u001b[0m\u001b[0;34m\u001b[0m\u001b[0;34m\u001b[0m\u001b[0m\n\u001b[1;32m    783\u001b[0m         \u001b[0;31m# Check data\u001b[0m\u001b[0;34m\u001b[0m\u001b[0;34m\u001b[0m\u001b[0;34m\u001b[0m\u001b[0m\n\u001b[0;32m--> 784\u001b[0;31m         \u001b[0mX\u001b[0m \u001b[0;34m=\u001b[0m \u001b[0mself\u001b[0m\u001b[0;34m.\u001b[0m\u001b[0m_validate_X_predict\u001b[0m\u001b[0;34m(\u001b[0m\u001b[0mX\u001b[0m\u001b[0;34m)\u001b[0m\u001b[0;34m\u001b[0m\u001b[0;34m\u001b[0m\u001b[0m\n\u001b[0m\u001b[1;32m    785\u001b[0m \u001b[0;34m\u001b[0m\u001b[0m\n\u001b[1;32m    786\u001b[0m         \u001b[0;31m# Assign chunk of trees to jobs\u001b[0m\u001b[0;34m\u001b[0m\u001b[0;34m\u001b[0m\u001b[0;34m\u001b[0m\u001b[0m\n",
      "\u001b[0;32m/opt/conda/lib/python3.8/site-packages/sklearn/ensemble/_forest.py\u001b[0m in \u001b[0;36m_validate_X_predict\u001b[0;34m(self, X)\u001b[0m\n\u001b[1;32m    420\u001b[0m         \u001b[0mcheck_is_fitted\u001b[0m\u001b[0;34m(\u001b[0m\u001b[0mself\u001b[0m\u001b[0;34m)\u001b[0m\u001b[0;34m\u001b[0m\u001b[0;34m\u001b[0m\u001b[0m\n\u001b[1;32m    421\u001b[0m \u001b[0;34m\u001b[0m\u001b[0m\n\u001b[0;32m--> 422\u001b[0;31m         \u001b[0;32mreturn\u001b[0m \u001b[0mself\u001b[0m\u001b[0;34m.\u001b[0m\u001b[0mestimators_\u001b[0m\u001b[0;34m[\u001b[0m\u001b[0;36m0\u001b[0m\u001b[0;34m]\u001b[0m\u001b[0;34m.\u001b[0m\u001b[0m_validate_X_predict\u001b[0m\u001b[0;34m(\u001b[0m\u001b[0mX\u001b[0m\u001b[0;34m,\u001b[0m \u001b[0mcheck_input\u001b[0m\u001b[0;34m=\u001b[0m\u001b[0;32mTrue\u001b[0m\u001b[0;34m)\u001b[0m\u001b[0;34m\u001b[0m\u001b[0;34m\u001b[0m\u001b[0m\n\u001b[0m\u001b[1;32m    423\u001b[0m \u001b[0;34m\u001b[0m\u001b[0m\n\u001b[1;32m    424\u001b[0m     \u001b[0;34m@\u001b[0m\u001b[0mproperty\u001b[0m\u001b[0;34m\u001b[0m\u001b[0;34m\u001b[0m\u001b[0m\n",
      "\u001b[0;32m/opt/conda/lib/python3.8/site-packages/sklearn/tree/_classes.py\u001b[0m in \u001b[0;36m_validate_X_predict\u001b[0;34m(self, X, check_input)\u001b[0m\n\u001b[1;32m    405\u001b[0m         \u001b[0;34m\"\"\"Validate the training data on predict (probabilities).\"\"\"\u001b[0m\u001b[0;34m\u001b[0m\u001b[0;34m\u001b[0m\u001b[0m\n\u001b[1;32m    406\u001b[0m         \u001b[0;32mif\u001b[0m \u001b[0mcheck_input\u001b[0m\u001b[0;34m:\u001b[0m\u001b[0;34m\u001b[0m\u001b[0;34m\u001b[0m\u001b[0m\n\u001b[0;32m--> 407\u001b[0;31m             X = self._validate_data(X, dtype=DTYPE, accept_sparse=\"csr\",\n\u001b[0m\u001b[1;32m    408\u001b[0m                                     reset=False)\n\u001b[1;32m    409\u001b[0m             if issparse(X) and (X.indices.dtype != np.intc or\n",
      "\u001b[0;32m/opt/conda/lib/python3.8/site-packages/sklearn/base.py\u001b[0m in \u001b[0;36m_validate_data\u001b[0;34m(self, X, y, reset, validate_separately, **check_params)\u001b[0m\n\u001b[1;32m    435\u001b[0m \u001b[0;34m\u001b[0m\u001b[0m\n\u001b[1;32m    436\u001b[0m         \u001b[0;32mif\u001b[0m \u001b[0mcheck_params\u001b[0m\u001b[0;34m.\u001b[0m\u001b[0mget\u001b[0m\u001b[0;34m(\u001b[0m\u001b[0;34m'ensure_2d'\u001b[0m\u001b[0;34m,\u001b[0m \u001b[0;32mTrue\u001b[0m\u001b[0;34m)\u001b[0m\u001b[0;34m:\u001b[0m\u001b[0;34m\u001b[0m\u001b[0;34m\u001b[0m\u001b[0m\n\u001b[0;32m--> 437\u001b[0;31m             \u001b[0mself\u001b[0m\u001b[0;34m.\u001b[0m\u001b[0m_check_n_features\u001b[0m\u001b[0;34m(\u001b[0m\u001b[0mX\u001b[0m\u001b[0;34m,\u001b[0m \u001b[0mreset\u001b[0m\u001b[0;34m=\u001b[0m\u001b[0mreset\u001b[0m\u001b[0;34m)\u001b[0m\u001b[0;34m\u001b[0m\u001b[0;34m\u001b[0m\u001b[0m\n\u001b[0m\u001b[1;32m    438\u001b[0m \u001b[0;34m\u001b[0m\u001b[0m\n\u001b[1;32m    439\u001b[0m         \u001b[0;32mreturn\u001b[0m \u001b[0mout\u001b[0m\u001b[0;34m\u001b[0m\u001b[0;34m\u001b[0m\u001b[0m\n",
      "\u001b[0;32m/opt/conda/lib/python3.8/site-packages/sklearn/base.py\u001b[0m in \u001b[0;36m_check_n_features\u001b[0;34m(self, X, reset)\u001b[0m\n\u001b[1;32m    363\u001b[0m \u001b[0;34m\u001b[0m\u001b[0m\n\u001b[1;32m    364\u001b[0m         \u001b[0;32mif\u001b[0m \u001b[0mn_features\u001b[0m \u001b[0;34m!=\u001b[0m \u001b[0mself\u001b[0m\u001b[0;34m.\u001b[0m\u001b[0mn_features_in_\u001b[0m\u001b[0;34m:\u001b[0m\u001b[0;34m\u001b[0m\u001b[0;34m\u001b[0m\u001b[0m\n\u001b[0;32m--> 365\u001b[0;31m             raise ValueError(\n\u001b[0m\u001b[1;32m    366\u001b[0m                 \u001b[0;34mf\"X has {n_features} features, but {self.__class__.__name__} \"\u001b[0m\u001b[0;34m\u001b[0m\u001b[0;34m\u001b[0m\u001b[0m\n\u001b[1;32m    367\u001b[0m                 f\"is expecting {self.n_features_in_} features as input.\")\n",
      "\u001b[0;31mValueError\u001b[0m: X has 193 features, but DecisionTreeRegressor is expecting 195 features as input."
     ]
    }
   ],
   "source": [
    "cv_scores, reg_model = train_test(\"second_approach_pl_split_pocket\")"
   ]
  },
  {
   "cell_type": "code",
   "execution_count": null,
   "id": "ee8f1370-4524-450c-8b0f-ac0e0907d087",
   "metadata": {},
   "outputs": [],
   "source": [
    "cv_scores, reg_model = train_test(\"second_approach_pl_split_protein\")"
   ]
  },
  {
   "cell_type": "code",
   "execution_count": null,
   "id": "2eb1e34c-78ff-4b3b-9f58-4c2716f1b9d8",
   "metadata": {},
   "outputs": [],
   "source": [
    "cv_scores, reg_model = train_test(\"second_approach_pl_split_ligand_weight\")"
   ]
  },
  {
   "cell_type": "code",
   "execution_count": null,
   "id": "67666dc8-5363-411e-b8cf-c0a9c3bf6cde",
   "metadata": {},
   "outputs": [],
   "source": [
    "cv_scores, reg_model = train_test(\"second_approach_pl_split_ligand_tpsa\")"
   ]
  },
  {
   "cell_type": "code",
   "execution_count": null,
   "id": "2eb0e5ea-4543-4dec-8078-ad0226b74c54",
   "metadata": {},
   "outputs": [],
   "source": [
    "cv_scores, reg_model = train_test(\"second_approach_pl_split_ligand_volume\")"
   ]
  },
  {
   "cell_type": "code",
   "execution_count": null,
   "id": "585907f3-a678-4790-a1ac-f3712f3a06fc",
   "metadata": {},
   "outputs": [],
   "source": []
  },
  {
   "cell_type": "code",
   "execution_count": 57,
   "id": "a4476b21-eafe-40de-8d33-c45de325fff9",
   "metadata": {},
   "outputs": [
    {
     "name": "stdout",
     "output_type": "stream",
     "text": [
      "{'n_estimators': [200, 242, 285, 328, 371, 414, 457, 500, 542, 585, 628, 671, 714, 757, 800], 'max_features': ['auto', 'sqrt', 98, 65, 49], 'max_depth': [10, 20, 30, 40, 50, 60, 70, 80, 90, 100, 110, None], 'min_samples_split': [2, 5, 10], 'min_samples_leaf': [1, 2, 4], 'bootstrap': [True, False]}\n"
     ]
    }
   ],
   "source": [
    "\n",
    "# Number of trees in random forest\n",
    "n_estimators = [int(x) for x in np.linspace(start = 200, stop = 800, num = 15)]\n",
    "# Number of features to consider at every split\n",
    "max_features = ['auto', 'sqrt', round(train_X.shape[1]/2), round(train_X.shape[1]/3), round(train_X.shape[1]/4)]\n",
    "# Maximum number of levels in tree\n",
    "max_depth = [int(x) for x in np.linspace(10, 110, num = 11)]\n",
    "max_depth.append(None)\n",
    "# Minimum number of samples required to split a node\n",
    "min_samples_split = [2, 5, 10]\n",
    "# Minimum number of samples required at each leaf node\n",
    "min_samples_leaf = [1, 2, 4]\n",
    "# Method of selecting samples for training each tree\n",
    "bootstrap = [True, False]\n",
    "# Create the random grid\n",
    "random_grid = {'n_estimators': n_estimators,\n",
    "               'max_features': max_features,\n",
    "               'max_depth': max_depth,\n",
    "               'min_samples_split': min_samples_split,\n",
    "               'min_samples_leaf': min_samples_leaf,\n",
    "               'bootstrap': bootstrap}\n",
    "print(random_grid)"
   ]
  },
  {
   "cell_type": "code",
   "execution_count": 58,
   "id": "73d06252-b76b-4afe-8237-cae54de72a64",
   "metadata": {},
   "outputs": [
    {
     "name": "stdout",
     "output_type": "stream",
     "text": [
      "Fitting 3 folds for each of 100 candidates, totalling 300 fits\n"
     ]
    },
    {
     "data": {
      "text/plain": [
       "RandomizedSearchCV(cv=3, estimator=RandomForestRegressor(), n_iter=100,\n",
       "                   n_jobs=-1,\n",
       "                   param_distributions={'bootstrap': [True, False],\n",
       "                                        'max_depth': [10, 20, 30, 40, 50, 60,\n",
       "                                                      70, 80, 90, 100, 110,\n",
       "                                                      None],\n",
       "                                        'max_features': ['auto', 'sqrt', 98, 65,\n",
       "                                                         49],\n",
       "                                        'min_samples_leaf': [1, 2, 4],\n",
       "                                        'min_samples_split': [2, 5, 10],\n",
       "                                        'n_estimators': [200, 242, 285, 328,\n",
       "                                                         371, 414, 457, 500,\n",
       "                                                         542, 585, 628, 671,\n",
       "                                                         714, 757, 800]},\n",
       "                   random_state=123, verbose=2)"
      ]
     },
     "execution_count": 58,
     "metadata": {},
     "output_type": "execute_result"
    }
   ],
   "source": [
    "# Use the random grid to search for best hyperparameters\n",
    "# First create the base model to tune\n",
    "rf = RandomForestRegressor()\n",
    "# Random search of parameters, using 3 fold cross validation, \n",
    "# search across 100 different combinations, and use all available cores\n",
    "rf_random = RandomizedSearchCV(estimator = rf, param_distributions = random_grid, n_iter = 100, cv = 3, verbose=2, random_state=123, n_jobs = -1)\n",
    "# Fit the random search model\n",
    "rf_random.fit(train_X, train_Y)"
   ]
  },
  {
   "cell_type": "code",
   "execution_count": 140,
   "id": "cc656028-8d6c-4e53-bcb7-e388ad6c58eb",
   "metadata": {},
   "outputs": [
    {
     "data": {
      "text/plain": [
       "{'n_estimators': 457,\n",
       " 'min_samples_split': 10,\n",
       " 'min_samples_leaf': 1,\n",
       " 'max_features': 'sqrt',\n",
       " 'max_depth': 60,\n",
       " 'bootstrap': False}"
      ]
     },
     "execution_count": 140,
     "metadata": {},
     "output_type": "execute_result"
    }
   ],
   "source": [
    "rf_random.best_params_"
   ]
  },
  {
   "cell_type": "code",
   "execution_count": 61,
   "id": "a3643724-1aa5-449e-8b73-b5ffb6924451",
   "metadata": {},
   "outputs": [
    {
     "name": "stdout",
     "output_type": "stream",
     "text": [
      "Mean Absolute Error: 0.41645679037006417\n",
      "Mean Squared Error: 0.32449833562823804\n",
      "R Squared Error: 0.8611018175740554\n",
      "Root Mean Squared Error: 0.5696475538683881\n"
     ]
    }
   ],
   "source": [
    "best_random = rf_random.best_estimator_\n",
    "random_accuracy = evaluate(best_random, test_X, test_Y)"
   ]
  },
  {
   "cell_type": "code",
   "execution_count": null,
   "id": "3ecb8b6a-d6a0-48a0-9390-e631cf0782c4",
   "metadata": {},
   "outputs": [],
   "source": []
  },
  {
   "cell_type": "code",
   "execution_count": 129,
   "id": "a20fe8d2-34c3-421a-9da1-f7862f3b1152",
   "metadata": {},
   "outputs": [
    {
     "name": "stdout",
     "output_type": "stream",
     "text": [
      "GridSearchCV(cv=3, estimator=RandomForestRegressor(), n_jobs=-1,\n",
      "             param_grid={'bootstrap': [True], 'max_depth': [None, 60, 80, 90],\n",
      "                         'max_features': [160, 80, 107],\n",
      "                         'min_samples_leaf': [1, 2, 4],\n",
      "                         'min_samples_split': [2, 5, 10],\n",
      "                         'n_estimators': [300, 400, 500, 800]},\n",
      "             verbose=2)\n"
     ]
    }
   ],
   "source": [
    "from sklearn.model_selection import GridSearchCV\n",
    "# Create the parameter grid based on the results of random search \n",
    "param_grid = {\n",
    "    'bootstrap': [True],\n",
    "    'max_depth': [None, 60, 80, 90],\n",
    "    'max_features': [round(train_X.shape[1]/2), round(train_X.shape[1]/4), round(train_X.shape[1]/3)],\n",
    "    'min_samples_leaf': [1, 2, 4],\n",
    "    'min_samples_split': [2, 5, 10],\n",
    "    'n_estimators': [300, 400, 500, 800]\n",
    "}\n",
    "# Create a based model\n",
    "rf = RandomForestRegressor()\n",
    "# Instantiate the grid search model\n",
    "grid_search = GridSearchCV(estimator = rf, param_grid = param_grid, \n",
    "                          cv = 3, n_jobs = -1, verbose = 2)\n",
    "\n",
    "print(grid_search)"
   ]
  },
  {
   "cell_type": "code",
   "execution_count": null,
   "id": "ca58ac78-6a87-475f-88de-8cc4d7757376",
   "metadata": {},
   "outputs": [
    {
     "name": "stdout",
     "output_type": "stream",
     "text": [
      "Fitting 3 folds for each of 432 candidates, totalling 1296 fits\n"
     ]
    }
   ],
   "source": [
    "grid_search.fit(train_X, train_Y)"
   ]
  },
  {
   "cell_type": "code",
   "execution_count": 137,
   "id": "8d7a7635-3388-4ea5-9f3a-7c7f3458a991",
   "metadata": {},
   "outputs": [
    {
     "data": {
      "text/plain": [
       "RandomForestRegressor(max_depth=60, max_features=107, min_samples_leaf=4,\n",
       "                      min_samples_split=5, n_estimators=300)"
      ]
     },
     "execution_count": 137,
     "metadata": {},
     "output_type": "execute_result"
    }
   ],
   "source": [
    "grid_search.best_estimator_"
   ]
  },
  {
   "cell_type": "code",
   "execution_count": null,
   "id": "be97ce29-e613-407a-a8ce-7b255a187413",
   "metadata": {},
   "outputs": [],
   "source": [
    "grid_search."
   ]
  },
  {
   "cell_type": "code",
   "execution_count": 150,
   "id": "d2192a0c-694b-45e8-8563-5dea6322acd6",
   "metadata": {},
   "outputs": [
    {
     "data": {
      "text/plain": [
       "array([ 5549.10518901,  6378.27942157,  8798.03574951, 12620.05044993,\n",
       "        4638.24831621,  6121.86386291,  8680.99602811, 13116.78823797,\n",
       "        3775.53101643,  5024.54086709,  6414.86339696, 11533.12431598,\n",
       "        3969.33918317,  5193.83567921,  6407.63299362, 11787.14106822,\n",
       "        5225.03930863,  6999.11755784,  7356.44456697, 10446.1521647 ,\n",
       "        4458.91054551,  5140.4910202 ,  7326.96681897, 10141.34237297,\n",
       "        4435.03293101,  4944.5830694 ,  6048.85737824,  9817.01047166,\n",
       "        3584.05753342,  5735.45569324,  6024.13991435, 11288.15585677,\n",
       "        3729.40168834,  4972.93275277,  7080.05846628,  9898.68486516,\n",
       "        2093.06616743,  2862.69705137,  3416.07099287,  6494.51300263,\n",
       "        1998.5945584 ,  2733.98084219,  3370.05164123,  5393.83623195,\n",
       "        1973.96410481,  2706.57173514,  3261.83661485,  5222.81320079,\n",
       "        1962.41946634,  2631.33160694,  3365.42564527,  5328.55077195,\n",
       "        1976.95033534,  2691.48537906,  3401.24896399,  5468.76827844,\n",
       "        1962.51083859,  2596.29158258,  3213.37498522,  5369.9329083 ,\n",
       "        1913.08228024,  2575.89000734,  3191.9204065 ,  5157.23290769,\n",
       "        1905.19789433,  2504.54527187,  3562.04663801,  5463.86759202,\n",
       "        2118.92278639,  2514.1379687 ,  3163.15714494,  5553.23511966,\n",
       "        3181.11061645,  4033.03140346,  4846.64520009,  7519.70675389,\n",
       "        2714.66712252,  3798.22566334,  4755.97822301,  7766.17254806,\n",
       "        2665.05783979,  3771.26737404,  4754.76867334,  7341.59863742,\n",
       "        2849.56215827,  3758.20949189,  5122.45662832,  7653.74233786,\n",
       "        2809.9849836 ,  3606.89603353,  4384.29850459,  7513.60102264,\n",
       "        2609.27178764,  3447.34195304,  4567.95197527,  7352.02464588,\n",
       "        2577.09870768,  3472.96459627,  4177.63683701,  6802.69786485,\n",
       "        2777.24681274,  3265.65518792,  4273.76063546,  7316.37208509,\n",
       "        2771.2984635 ,  3528.00540471,  4546.7641631 ,  6760.4266963 ,\n",
       "        4419.95573314,  5896.85176841,  6988.05310019, 10869.46700811,\n",
       "        4298.29248754,  5751.58580748,  6668.22931655, 10791.50269532,\n",
       "        4572.45833842,  5612.72242395,  7139.86733325, 10905.66764839,\n",
       "        4277.493138  ,  5985.48657227,  6945.35427268, 10596.50796604,\n",
       "        4230.03354724,  5673.56391462,  7299.36486578, 10596.38848209,\n",
       "        4128.95809245,  5883.9155616 ,  6864.27763629, 10512.96933834,\n",
       "        3975.4964567 ,  5433.92943072,  6304.74243911, 11273.50278958,\n",
       "        3685.01363794,  5341.64915117,  7006.45702434, 11545.63490907,\n",
       "        3734.28691371,  4844.90053066,  6771.21169678, 11502.9845984 ,\n",
       "        2347.56096514,  3492.34093372,  4078.62436024,  5930.63608416,\n",
       "        2111.65657608,  3005.58266981,  3324.55114484,  5705.03291456,\n",
       "        2149.05455152,  2954.13617349,  3548.55189578,  5280.96315368,\n",
       "        2392.19101032,  3484.96600405,  3557.67765665,  5621.71754464,\n",
       "        2325.60586826,  2648.35528914,  3462.9288137 ,  5180.48114777,\n",
       "        2209.16513928,  3149.12636383,  3871.50030605,  5326.23419348,\n",
       "        1889.06265831,  2601.33802565,  3250.22895177,  5094.03447978,\n",
       "        2057.73591177,  2496.54751317,  3855.93707649,  5059.40408166,\n",
       "        1879.90499147,  3122.77335771,  3448.448716  ,  5172.24877604,\n",
       "        2867.76351055,  3907.02822328,  4661.88424897,  8466.16639916,\n",
       "        3057.51545246,  3768.85368029,  5210.00860095,  7097.6866769 ,\n",
       "        3216.13646881,  4542.84068354,  4591.13470578,  7093.5131108 ,\n",
       "        2696.51027179,  4674.26464589,  4986.88033827,  6981.87662347,\n",
       "        3331.98718675,  3699.77993313,  4363.86653423,  8190.3509593 ,\n",
       "        2860.72576332,  3654.87672559,  4225.74289846,  7243.78888265,\n",
       "        2531.60795148,  3525.04002468,  4635.35699336,  6560.83604113,\n",
       "        2678.61356942,  3333.32682697,  5202.74706078,  6670.90364305,\n",
       "        2745.18531624,  3512.75884255,  4623.99092277,  7391.25727654,\n",
       "        4884.53642686,  5412.33472586,  6808.54015493, 11549.58005699,\n",
       "        4015.43351372,  5809.51190837,  7272.62217498, 11674.42330949,\n",
       "        4226.26781654,  5583.30434958,  6773.5756588 , 10194.83318377,\n",
       "        3876.4335107 ,  5142.11526362,  7301.21997031, 11753.77508728,\n",
       "        4288.6629204 ,  5536.16441846,  6602.28112308, 11159.7624747 ,\n",
       "        4167.79958431,  5775.90643978,  7271.48018575, 11399.92743413,\n",
       "        3865.04592276,  5081.12451418,  6762.86408186, 10827.66396753,\n",
       "        4464.4815263 ,  5181.488952  ,  7035.10056543, 11145.60613298,\n",
       "        4122.09690181,  5074.51574143,  6425.48854923, 10082.65121921,\n",
       "        2424.69464072,  2877.1942184 ,  4148.28535183,  5505.81988271,\n",
       "        2418.68464446,  2677.70918934,  4170.24576656,  5328.28824886,\n",
       "        2204.89349167,  2745.52306708,  3221.99124718,  5571.54184755,\n",
       "        1966.9286569 ,  2921.49489101,  3307.35106325,  6236.05236061,\n",
       "        2143.20662586,  2706.33963505,  4137.36215854,  5533.15679113,\n",
       "        2342.4875989 ,  2800.41946252,  3138.68603762,  5787.96910826,\n",
       "        2471.21323768,  3070.89218084,  3575.84456738,  6068.19766466,\n",
       "        2017.22983146,  2597.70729041,  3087.34003385,  4948.79210154,\n",
       "        1903.05924511,  2592.18767309,  3302.94422126,  5462.32153296,\n",
       "        2991.89052757,  3768.3289938 ,  5070.89011804,  7960.54244502,\n",
       "        2815.599377  ,  3853.92446335,  4692.57718229,  7548.4613351 ,\n",
       "        3138.91313736,  3819.11501384,  4454.50739829,  8192.59368722,\n",
       "        2915.33558305,  3804.73656146,  5078.93750699,  7005.0012269 ,\n",
       "        2850.04924854,  3712.04590297,  4892.60210999,  7114.06688197,\n",
       "        2916.90325967,  3516.85796833,  4417.36689337,  6806.60399206,\n",
       "        2545.35378138,  3316.12021422,  4807.8388621 ,  6611.92059692,\n",
       "        2662.27370477,  3304.66128254,  4581.20614592,  7067.45708251,\n",
       "        2808.16317399,  3346.60320171,  4397.74296538,  7196.5324529 ,\n",
       "        4287.12000855,  6142.34218184,  7242.49427017, 11712.75735927,\n",
       "        3994.31671453,  5540.23782945,  7680.47589906, 11032.97139668,\n",
       "        4191.15801883,  5933.5857021 ,  6937.93206867, 10781.86536678,\n",
       "        4194.57687871,  5499.54191359,  7111.49696207, 10408.12230611,\n",
       "        4072.91032704,  6008.77732277,  6691.69949357, 10878.5848155 ,\n",
       "        4223.84608618,  5674.64658515,  6802.53425797, 10245.11927255,\n",
       "        3847.32949169,  5107.02368204,  6674.18332521, 11143.12557348,\n",
       "        3822.93571218,  5630.85996175,  6358.11088689, 10196.99559569,\n",
       "        3805.06984266,  5504.62221424,  6797.39113688,  9715.6498092 ,\n",
       "        2175.15833298,  2912.1668764 ,  3504.41829546,  5575.34613109,\n",
       "        2025.66509533,  2825.19451682,  3553.02686755,  5517.06833418,\n",
       "        2220.03293506,  2931.90970286,  3246.89447141,  5385.7099878 ,\n",
       "        2309.09021068,  3079.92884318,  3445.72734388,  5292.85296845,\n",
       "        1997.67558877,  2955.14252981,  3724.03131183,  5309.97252965,\n",
       "        2441.26527977,  2616.13741231,  3781.55091063,  5224.29104408,\n",
       "        1910.54885697,  2583.62464976,  3224.34213662,  5494.140083  ,\n",
       "        2001.05656203,  2891.29338304,  3106.84653306,  4963.69979517,\n",
       "        2005.29851039,  3211.6424137 ,  3080.02638666,  4936.70086622,\n",
       "        3155.46868865,  4092.5388341 ,  4950.38921444,  7180.60662635,\n",
       "        2681.6390957 ,  3908.91567866,  4401.7456491 ,  6396.05447276,\n",
       "        3144.49999595,  3501.04820236,  4464.77144178,  6130.89471213,\n",
       "        2757.57913526,  3555.54845881,  4565.82390666,  6291.53545332,\n",
       "        2678.91717021,  3410.65462796,  4067.16478562,  6047.08080459,\n",
       "        2638.76735155,  3273.08992346,  3866.43483178,  5783.61651254,\n",
       "        2414.25421611,  3141.42031924,  3664.17919326,  5449.85020137,\n",
       "        2315.96074009,  2997.36624146,  3589.89013728,  5277.17801269,\n",
       "        2349.98147035,  2901.71992254,  3426.60066605,  5146.70426083])"
      ]
     },
     "execution_count": 150,
     "metadata": {},
     "output_type": "execute_result"
    }
   ],
   "source": [
    "grid_search.cv_results_[\"mean_fit_time\"]"
   ]
  },
  {
   "cell_type": "code",
   "execution_count": 156,
   "id": "ade8062f-1793-4f40-892e-8867def9c8a2",
   "metadata": {},
   "outputs": [
    {
     "name": "stdout",
     "output_type": "stream",
     "text": [
      "Pearson R:  (0.9820782493152663, 0.0)\n",
      "Pearson R squared:  0.9644776877781384\n",
      "NumPy Pearson correlation:  [[1.         0.98207825]\n",
      " [0.98207825 1.        ]]\n",
      "Mean Absolute Error: 0.15549328930528236\n",
      "Mean Squared Error: 0.08323586487391017\n",
      "R Squared Error: 0.9644602037287737\n",
      "Root Mean Squared Error: 0.28850626487809616\n"
     ]
    }
   ],
   "source": [
    "best_grid = grid_search.best_estimator_\n",
    "evaluate(grid_search, test_X, test_Y)"
   ]
  },
  {
   "cell_type": "code",
   "execution_count": 136,
   "id": "9e2acb36-edf0-4039-a8e8-3daf81a38aeb",
   "metadata": {},
   "outputs": [
    {
     "name": "stdout",
     "output_type": "stream",
     "text": [
      "done\n"
     ]
    }
   ],
   "source": [
    "print(\"done\")"
   ]
  },
  {
   "cell_type": "code",
   "execution_count": 135,
   "id": "4cc54a2b-1737-4e62-aa0b-3e40bb454b3c",
   "metadata": {},
   "outputs": [
    {
     "data": {
      "text/plain": [
       "RandomForestRegressor(max_depth=60, max_features=107, min_samples_leaf=4,\n",
       "                      min_samples_split=5, n_estimators=300)"
      ]
     },
     "execution_count": 135,
     "metadata": {},
     "output_type": "execute_result"
    }
   ],
   "source": [
    "grid_search.best_estimator_"
   ]
  }
 ],
 "metadata": {
  "kernelspec": {
   "display_name": "Python 3",
   "language": "python",
   "name": "python3"
  },
  "language_info": {
   "codemirror_mode": {
    "name": "ipython",
    "version": 3
   },
   "file_extension": ".py",
   "mimetype": "text/x-python",
   "name": "python",
   "nbconvert_exporter": "python",
   "pygments_lexer": "ipython3",
   "version": "3.8.8"
  }
 },
 "nbformat": 4,
 "nbformat_minor": 5
}
