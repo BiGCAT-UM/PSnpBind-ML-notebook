{
 "cells": [
  {
   "cell_type": "markdown",
   "id": "3b9af74e-3fd3-41a5-b2ea-bbc6879a113f",
   "metadata": {},
   "source": [
    "## Import packages"
   ]
  },
  {
   "cell_type": "code",
   "execution_count": 4,
   "id": "ebade665",
   "metadata": {},
   "outputs": [],
   "source": [
    "#!pip3 install numpy=1.20.2\n",
    "#!pip3 install pandas=1.2.4\n",
    "#!pip3 install pillow=8.1.2\n",
    "#!pip3 install scipy=1.6.3\n",
    "#!pip3 install rdkit=2022.3.4\n",
    "#!pip3 install scikit-learn=0.24.2\n",
    "#!pip3 install matplotlib=3.4.1\n",
    "#!pip3 install seaborn=0.11.1\n",
    "#!pip3 install shap=0.41.0"
   ]
  },
  {
   "cell_type": "code",
   "execution_count": 5,
   "id": "7d909141-9b45-4941-848e-c9693623a8bb",
   "metadata": {},
   "outputs": [],
   "source": [
    "from sklearn.tree import DecisionTreeRegressor \n",
    "from sklearn.ensemble import RandomForestRegressor\n",
    "from sklearn.model_selection import KFold\n",
    "import pandas as pd\n",
    "import numpy as np\n",
    "from sklearn.model_selection import RandomizedSearchCV\n",
    "from sklearn.model_selection import cross_val_score\n",
    "from sklearn.model_selection import cross_validate\n",
    "import scipy\n",
    "import multiprocessing\n",
    "import pickle\n",
    "from sklearn import metrics\n",
    "import matplotlib.pyplot as plt\n",
    "import seaborn as sns"
   ]
  },
  {
   "cell_type": "code",
   "execution_count": 2,
   "id": "ac2278c5-032e-40e0-ba76-671eefa40cec",
   "metadata": {},
   "outputs": [
    {
     "data": {
      "text/plain": [
       "128"
      ]
     },
     "execution_count": 2,
     "metadata": {},
     "output_type": "execute_result"
    }
   ],
   "source": [
    "multiprocessing.cpu_count()"
   ]
  },
  {
   "cell_type": "markdown",
   "id": "11b5cd4b-1432-42e2-862e-6dd8de898aaf",
   "metadata": {},
   "source": [
    "## Define function to prepare data, train/test the ML models and evaluate them"
   ]
  },
  {
   "cell_type": "code",
   "execution_count": 10,
   "id": "0ea6f548-2d25-45ce-b9a6-677d004cbd21",
   "metadata": {},
   "outputs": [],
   "source": [
    "def prepareDataFrame(df, categorical_features):\n",
    "    \n",
    "    for ft in categorical_features:\n",
    "        \n",
    "        cat_ft = pd.get_dummies(df[ft], prefix='cat')\n",
    "        df = pd.concat([df,cat_ft], axis=1)\n",
    "        df = df.drop(ft, 1)\n",
    "    \n",
    "        \n",
    "    print(\"Dataframe after dummy variables:\")\n",
    "    print(df.shape)\n",
    "\n",
    "    Y = df[['ba']] \n",
    "    Y = Y.values.ravel()\n",
    "    \n",
    "    X = df.drop('ba', axis=1)\n",
    "    \n",
    "    return X, Y"
   ]
  },
  {
   "cell_type": "code",
   "execution_count": 11,
   "id": "1e51c21e-b00d-4ebc-9567-a5afac37c6dd",
   "metadata": {},
   "outputs": [],
   "source": [
    "def evaluate(model, test_features, test_labels, model_type):\n",
    "    \n",
    "    predictions = model.predict(test_features)\n",
    "    \n",
    "    pred_dict = {'observed':test_labels,'predicted':predictions}\n",
    "    \n",
    "    pred_df = pd.DataFrame(pred_dict)\n",
    "    pred_df.to_csv(\"work/predictions/\"+model_type+\".csv\", encoding=\"utf-8\", index=False)\n",
    "    \n",
    "    pearson_r = scipy.stats.pearsonr(test_labels, predictions)\n",
    "    print('Pearson R: ', pearson_r)\n",
    "    print('Pearson R squared: ', pearson_r[0]**2)\n",
    "\n",
    "    r2 = metrics.r2_score(test_labels, predictions)\n",
    "    mae = metrics.mean_absolute_error(test_labels, predictions)\n",
    "    mse = metrics.mean_squared_error(test_labels, predictions)\n",
    "    rmse = np.sqrt(metrics.mean_squared_error(test_labels, predictions))\n",
    "    rae = metrics.mean_absolute_error(test_labels, predictions) / metrics.mean_absolute_error(test_labels, [test_labels.mean()] * len(test_labels))\n",
    "    rrse = np.sqrt(metrics.mean_squared_error(test_labels, predictions)) / np.sqrt(metrics.mean_squared_error(test_labels, [test_labels.mean()] * len(test_labels)))\n",
    "    \n",
    "    print('R Squared Error:', r2)\n",
    "    print('Mean Absolute Error:', mae)\n",
    "    print('Mean Squared Error:', mse)\n",
    "    print('Root Mean Squared Error:', rmse)\n",
    "    print('Relative absolute Error:', rae)\n",
    "    print('Root relateive squared Error:', rrse)\n",
    "    \n",
    "    return [r2, mae, mse, rmse, rae, rrse]"
   ]
  },
  {
   "cell_type": "code",
   "execution_count": 12,
   "id": "f74173b8-004e-4bfb-b409-e2be3bddf567",
   "metadata": {},
   "outputs": [],
   "source": [
    "def train_test(model_type):\n",
    "    \n",
    "    categorical_features = []\n",
    "    \n",
    "    if(model_type == \"dual_model_pl_split_random\"):\n",
    "     \n",
    "        train = pd.read_csv(\"work/training/dual-model/train-random.csv\", sep=\",\", encoding=\"utf-8\")\n",
    "        test = pd.read_csv(\"work/training/dual-model/test-random.csv\", sep=\",\", encoding=\"utf-8\")\n",
    "        \n",
    "    elif(model_type == \"dual_model_pl_split_protein\"):\n",
    "     \n",
    "        train = pd.read_csv(\"work/training/dual-model/train-protein.csv\", sep=\",\", encoding=\"utf-8\")\n",
    "        test = pd.read_csv(\"work/training/dual-model/test-protein.csv\", sep=\",\", encoding=\"utf-8\")\n",
    "        \n",
    "    elif(model_type == \"dual_model_pl_split_pocket\"):\n",
    "     \n",
    "        train = pd.read_csv(\"work/training/dual-model/train-pocket.csv\", sep=\",\", encoding=\"utf-8\")\n",
    "        test = pd.read_csv(\"work/training/dual-model/test-pocket.csv\", sep=\",\", encoding=\"utf-8\")\n",
    "                \n",
    "    elif(model_type == \"dual_model_pl_split_ligand_weight\"):\n",
    "     \n",
    "        train = pd.read_csv(\"work/training/dual-model/train-ligand-weight.csv\", sep=\",\", encoding=\"utf-8\")\n",
    "        test = pd.read_csv(\"work/training/dual-model/test-ligand-weight.csv\", sep=\",\", encoding=\"utf-8\")\n",
    "        \n",
    "    elif(model_type == \"dual_model_pl_split_ligand_diversity\"):\n",
    "     \n",
    "        train = pd.read_csv(\"work/training/dual-model/train-ligand-diversity.csv\", sep=\",\", encoding=\"utf-8\")\n",
    "        test = pd.read_csv(\"work/training/dual-model/test-ligand-diversity.csv\", sep=\",\", encoding=\"utf-8\")\n",
    "                \n",
    "    elif(model_type == \"dual_model_pl_split_ligand_tpsa\"):\n",
    "     \n",
    "        train = pd.read_csv(\"work/training/dual-model/train-ligand-tpsa.csv\", sep=\",\", encoding=\"utf-8\")\n",
    "        test = pd.read_csv(\"work/training/dual-model/test-ligand-tpsa.csv\", sep=\",\", encoding=\"utf-8\")\n",
    "                \n",
    "    elif(model_type == \"dual_model_pl_split_ligand_volume\"):\n",
    "     \n",
    "        train = pd.read_csv(\"work/training/dual-model/train-ligand-volume.csv\", sep=\",\", encoding=\"utf-8\")\n",
    "        test = pd.read_csv(\"work/training/dual-model/test-ligand-volume.csv\", sep=\",\", encoding=\"utf-8\")    \n",
    "        \n",
    "    print(train.shape)\n",
    "    print(test.shape)\n",
    "    \n",
    "    train_X, train_Y = prepareDataFrame(train, categorical_features)\n",
    "    test_X, test_Y = prepareDataFrame(test, categorical_features)\n",
    "    \n",
    "    train_X = np.array(train_X)\n",
    "\n",
    "    num_of_features = round(train_X.shape[1]/2)\n",
    "    \n",
    "    regressor = RandomForestRegressor(n_jobs=-1, max_features=num_of_features, n_estimators=500, random_state = 123, criterion= 'mse') \n",
    "\n",
    "    kf = KFold(n_splits=5, random_state=123, shuffle=True)\n",
    "    \n",
    "    RMSE_sum=0\n",
    "    RMSE_length=5\n",
    "    MSE_sum=0\n",
    "    MSE_length=5\n",
    "    MAE_sum=0\n",
    "    MAE_length=5\n",
    "    R2_sum=0\n",
    "    R2_length=5\n",
    "    \n",
    "    for loop_number, (train_k, test_k) in enumerate(kf.split(train_X)):\n",
    "\n",
    "        ## Get Training Matrix and Y Vector\n",
    "\n",
    "        training_X_array = train_X[train_k]\n",
    "        training_y_array = train_Y[train_k].reshape(-1, 1)\n",
    "\n",
    "        training_y_array = training_y_array.ravel()\n",
    "        \n",
    "        ## Get Testing Matrix and Y vector\n",
    "\n",
    "        X_test_array = train_X[test_k]\n",
    "        y_actual_values = train_Y[test_k]\n",
    "\n",
    "        ## Fit the Random Forest Regression Model\n",
    "\n",
    "        lr_model = regressor.fit(training_X_array, training_y_array)\n",
    "\n",
    "        ## Compute the predictions for the test data\n",
    "\n",
    "        prediction = lr_model.predict(X_test_array)      \n",
    "        predicted_Y = np.array(prediction)   \n",
    "\n",
    "        ## Calculate the RMSE\n",
    "\n",
    "        RMSE_cross_fold = np.sqrt(metrics.mean_squared_error(y_actual_values, predicted_Y))\n",
    "        RMSE_sum = RMSE_cross_fold + RMSE_sum\n",
    "        \n",
    "        MSE_cross_fold = metrics.mean_squared_error(y_actual_values, predicted_Y)\n",
    "        MSE_sum = MSE_cross_fold + MSE_sum\n",
    "        \n",
    "        MAE_cross_fold = metrics.mean_absolute_error(y_actual_values, predicted_Y)\n",
    "        MAE_sum = MAE_cross_fold + MAE_sum\n",
    "        \n",
    "        R2_cross_fold = metrics.r2_score(y_actual_values, predicted_Y)\n",
    "        R2_sum = R2_cross_fold + R2_sum\n",
    "\n",
    "    ## Calculate the average and print    \n",
    "\n",
    "    RMSE_cross_fold_avg = RMSE_sum / RMSE_length\n",
    "    MSE_cross_fold_avg = MSE_sum / MSE_length\n",
    "    MAE_cross_fold_avg = MAE_sum / MAE_length\n",
    "    R2_cross_fold_avg = R2_sum / R2_length\n",
    "\n",
    "    print('The Mean R2 across all folds is: ', R2_cross_fold_avg)\n",
    "    print('The Mean MAE across all folds is: ', MAE_cross_fold_avg)\n",
    "    print('The Mean MSE across all folds is: ', MSE_cross_fold_avg)\n",
    "    print('The Mean RMSE across all folds is: ', RMSE_cross_fold_avg)\n",
    "    \n",
    "    # Now, lets train the model on the whole dataset\n",
    "    \n",
    "    regressor.fit(train_X, train_Y)\n",
    "    \n",
    "    print(\"Evaluation with the test set: \")\n",
    "    final_metrics = evaluate(regressor, test_X, test_Y, model_type)\n",
    "    \n",
    "    final_metrics = [R2_cross_fold_avg, MAE_cross_fold_avg, MSE_cross_fold_avg, RMSE_cross_fold_avg] + final_metrics\n",
    "    \n",
    "    pickle.dump(regressor, open(\"work/models/\"+model_type+\".mdl\", 'wb'))\n",
    "    \n",
    "    return final_metrics, regressor"
   ]
  },
  {
   "cell_type": "code",
   "execution_count": 13,
   "id": "ad647e9a-181d-4dee-bb9f-d972899cef67",
   "metadata": {},
   "outputs": [],
   "source": [
    "def train_test_mutation_model(model_type):\n",
    "\n",
    "    rf_model_ba = pickle.load(open(\"work/models/dual_model_pl_split_ligand_weight.mdl\", 'rb'))\n",
    "\n",
    "    train_pl = pd.read_csv(\"work/training/dual-model/train-ligand-weight.csv\", sep=\",\", encoding=\"utf-8\")\n",
    "    test_pl = pd.read_csv(\"work/training/dual-model/test-ligand-weight.csv\", sep=\",\", encoding=\"utf-8\")\n",
    "\n",
    "    train_meta_pl = pd.read_csv(\"work/training/dual-model/train-meta-ligand-weight.csv\", sep=\",\", encoding=\"utf-8\")\n",
    "    test_meta_pl = pd.read_csv(\"work/training/dual-model/test-meta-ligand-weight.csv\", sep=\",\", encoding=\"utf-8\")\n",
    "        \n",
    "        \n",
    "    train_pl = pd.concat([train_meta_pl, train_pl], axis=1)\n",
    "    test_pl = pd.concat([test_meta_pl, test_pl], axis=1)\n",
    "\n",
    "    train_test_pl = pd.concat([train_pl, test_pl])\n",
    "    \n",
    "    \n",
    "    pl_Y = train_test_pl[['ba']] \n",
    "    pl_Y = pl_Y.values.ravel()\n",
    "    \n",
    "    pl_X = train_test_pl.drop(['pdb', 'ligand_file', 'chembl_id', 'tanimoto_index', 'ba'], axis=1)\n",
    "    \n",
    "    ba_predictions = rf_model_ba.predict(pl_X)\n",
    "    \n",
    "    train_test_pl['predicted_wt_ba'] = ba_predictions\n",
    "    \n",
    "    train_test_pl.rename(columns = {'ba':'wt_pl_ba'}, inplace = True)\n",
    "    \n",
    "    \n",
    "    train_mut = pd.read_csv(\"work/training/dual-model/train-mutations-random.csv\", sep=\",\", encoding=\"utf-8\")\n",
    "    test_mut = pd.read_csv(\"work/training/dual-model/test-mutations-random.csv\", sep=\",\", encoding=\"utf-8\")\n",
    "    \n",
    "    train_meta_mut = pd.read_csv(\"work/training/dual-model/train-mutations-meta-random.csv\", sep=\",\", encoding=\"utf-8\")\n",
    "    test_meta_mut = pd.read_csv(\"work/training/dual-modelf/test-mutations-meta-random.csv\", sep=\",\", encoding=\"utf-8\")\n",
    "    \n",
    "    train_mut = pd.concat([train_meta_mut, train_mut], axis=1)\n",
    "    test_mut = pd.concat([test_meta_mut, test_mut], axis=1)\n",
    "\n",
    "    # real wt_ba training\n",
    "    train_mut_real_ba = train_mut.copy()\n",
    "    \n",
    "    train_mut_real_ba_cols = list(train_mut_real_ba.columns.values)\n",
    "    train_mut_real_ba_cols.pop(train_mut_real_ba_cols.index('FoldXname.x'))\n",
    "    train_mut_real_ba_cols.pop(train_mut_real_ba_cols.index('ligand_file'))\n",
    "    train_mut_real_ba_cols.pop(train_mut_real_ba_cols.index('FoldXmutation'))\n",
    "    train_mut_real_ba = train_mut_real_ba[train_mut_real_ba_cols] \n",
    "\n",
    "    # predicted wt_ba train set\n",
    "    train_mut_predicted_ba = train_mut.merge(train_test_pl[['ligand_file', 'predicted_wt_ba']], on='ligand_file', how='left')\n",
    "    \n",
    "    train_mut_predicted_ba_cols = list(train_mut_predicted_ba.columns.values)\n",
    "    train_mut_predicted_ba_cols.pop(train_mut_predicted_ba_cols.index('FoldXname.x'))\n",
    "    train_mut_predicted_ba_cols.pop(train_mut_predicted_ba_cols.index('ligand_file'))\n",
    "    train_mut_predicted_ba_cols.pop(train_mut_predicted_ba_cols.index('FoldXmutation'))\n",
    "    train_mut_predicted_ba_cols.pop(train_mut_predicted_ba_cols.index('wt_ba'))\n",
    "    train_mut_predicted_ba_cols.pop(train_mut_predicted_ba_cols.index('ba'))\n",
    "    train_mut_predicted_ba = train_mut_predicted_ba[train_mut_predicted_ba_cols + ['ba']] \n",
    "     \n",
    "    # real wt_ba test set\n",
    "    test_mut_real_ba = test_mut.copy()\n",
    "    \n",
    "    test_mut_real_ba_cols = list(test_mut_real_ba.columns.values)\n",
    "    test_mut_real_ba_cols.pop(test_mut_real_ba_cols.index('FoldXname.x'))\n",
    "    test_mut_real_ba_cols.pop(test_mut_real_ba_cols.index('ligand_file'))\n",
    "    test_mut_real_ba_cols.pop(test_mut_real_ba_cols.index('FoldXmutation'))\n",
    "    test_mut_real_ba = test_mut_real_ba[test_mut_real_ba_cols] \n",
    "    \n",
    "    # predicted wt_ba test set\n",
    "    test_mut_predicted_ba = test_mut.merge(train_test_pl[['ligand_file', 'predicted_wt_ba']], on='ligand_file', how='left')\n",
    "    \n",
    "    test_mut_predicted_ba_cols = list(test_mut_predicted_ba.columns.values)\n",
    "    test_mut_predicted_ba_cols.pop(test_mut_predicted_ba_cols.index('FoldXname.x'))\n",
    "    test_mut_predicted_ba_cols.pop(test_mut_predicted_ba_cols.index('ligand_file'))\n",
    "    test_mut_predicted_ba_cols.pop(test_mut_predicted_ba_cols.index('FoldXmutation'))\n",
    "    test_mut_predicted_ba_cols.pop(test_mut_predicted_ba_cols.index('wt_ba'))\n",
    "    test_mut_predicted_ba_cols.pop(test_mut_predicted_ba_cols.index('ba'))\n",
    "    test_mut_predicted_ba = test_mut_predicted_ba[test_mut_predicted_ba_cols + ['ba']] \n",
    "    \n",
    "\n",
    "    categorical_features = []\n",
    "    \n",
    "    print(train_mut_real_ba.shape)\n",
    "    print(test_mut_real_ba.shape)\n",
    "    \n",
    "    train_real_X, train_real_Y = prepareDataFrame(train_mut_real_ba, categorical_features)\n",
    "    train_pred_X, train_pred_Y = prepareDataFrame(train_mut_predicted_ba, categorical_features)\n",
    "\n",
    "    test_real_X, test_real_Y = prepareDataFrame(test_mut_real_ba, categorical_features)\n",
    "    test_pred_X, test_pred_Y = prepareDataFrame(test_mut_predicted_ba, categorical_features)\n",
    "\n",
    "    num_of_features = round(train_real_X.shape[1]/2)\n",
    "    \n",
    "    regressor = RandomForestRegressor(n_jobs=-1, max_features=num_of_features, n_estimators=500, random_state = 123, criterion= 'mse') \n",
    "\n",
    "    kf = KFold(n_splits=5, random_state=123, shuffle=True)\n",
    "    \n",
    "    RMSE_sum=0\n",
    "    RMSE_length=5\n",
    "    MSE_sum=0\n",
    "    MSE_length=5\n",
    "    MAE_sum=0\n",
    "    MAE_length=5\n",
    "    R2_sum=0\n",
    "    R2_length=5\n",
    "    \n",
    "    if(model_type == \"mutation_model_real_wt_ba\"):\n",
    "        train_X = np.array(train_real_X)\n",
    "        train_Y = train_real_Y\n",
    "    elif(model_type == \"mutation_model_pred_wt_ba\"):\n",
    "        train_X = np.array(train_pred_X)\n",
    "        train_Y = train_pred_Y\n",
    "    \n",
    "    for loop_number, (train_k, test_k) in enumerate(kf.split(train_X)):\n",
    "\n",
    "        ## Get Training Matrix and Y Vector\n",
    "\n",
    "        training_X_array = train_X[train_k]\n",
    "        training_y_array = train_Y[train_k].reshape(-1, 1)\n",
    "\n",
    "        training_y_array = training_y_array.ravel()\n",
    "        \n",
    "        ## Get Testing Matrix and Y vector\n",
    "\n",
    "        X_test_array = train_X[test_k]\n",
    "        y_actual_values = train_Y[test_k]\n",
    "\n",
    "        ## Fit the Random Forest Regression Model\n",
    "\n",
    "        lr_model = regressor.fit(training_X_array, training_y_array)\n",
    "\n",
    "        ## Compute the predictions for the test data\n",
    "\n",
    "        prediction = lr_model.predict(X_test_array)      \n",
    "        predicted_Y = np.array(prediction)   \n",
    "\n",
    "        ## Calculate the RMSE\n",
    "\n",
    "        RMSE_cross_fold = np.sqrt(metrics.mean_squared_error(y_actual_values, predicted_Y))\n",
    "        RMSE_sum = RMSE_cross_fold + RMSE_sum\n",
    "        \n",
    "        MSE_cross_fold = metrics.mean_squared_error(y_actual_values, predicted_Y)\n",
    "        MSE_sum = MSE_cross_fold + MSE_sum\n",
    "        \n",
    "        MAE_cross_fold = metrics.mean_absolute_error(y_actual_values, predicted_Y)\n",
    "        MAE_sum = MAE_cross_fold + MAE_sum\n",
    "        \n",
    "        R2_cross_fold = metrics.r2_score(y_actual_values, predicted_Y)\n",
    "        R2_sum = R2_cross_fold + R2_sum\n",
    "\n",
    "    ## Calculate the average and print    \n",
    "\n",
    "    RMSE_cross_fold_avg = RMSE_sum / RMSE_length\n",
    "    MSE_cross_fold_avg = MSE_sum / MSE_length\n",
    "    MAE_cross_fold_avg = MAE_sum / MAE_length\n",
    "    R2_cross_fold_avg = R2_sum / R2_length\n",
    "\n",
    "    print('The Mean R2 across all folds is: ', R2_cross_fold_avg)\n",
    "    print('The Mean MAE across all folds is: ', MAE_cross_fold_avg)\n",
    "    print('The Mean MSE across all folds is: ', MSE_cross_fold_avg)\n",
    "    print('The Mean RMSE across all folds is: ', RMSE_cross_fold_avg)\n",
    "    print('\\n')\n",
    "    \n",
    "    # Now, lets train the model on the whole dataset\n",
    "    \n",
    "    regressor.fit(train_X, train_Y)\n",
    "    \n",
    "    print(\"Evaluation with the test set (real wt_bt): \")\n",
    "    final_metrics_real = evaluate(regressor, test_real_X, test_real_Y, model_type+\"_test_real_wt_ba\")\n",
    "    \n",
    "    final_metrics_real = [R2_cross_fold_avg, MAE_cross_fold_avg, MSE_cross_fold_avg, RMSE_cross_fold_avg] + final_metrics_real\n",
    "    \n",
    "    print('\\n')\n",
    "    print(\"Evaluation with the test set (predicted wt_bt): \")\n",
    "    final_metrics_pred = evaluate(regressor, test_pred_X, test_pred_Y, model_type+\"_test_pred_wt_ba\")\n",
    "    \n",
    "    final_metrics_pred = [R2_cross_fold_avg, MAE_cross_fold_avg, MSE_cross_fold_avg, RMSE_cross_fold_avg] + final_metrics_pred\n",
    "    \n",
    "    pickle.dump(regressor, open(\"work/models/\"+model_type+\".mdl\", 'wb'))\n",
    "    \n",
    "    return final_metrics_real, final_metrics_pred, regressor"
   ]
  },
  {
   "cell_type": "code",
   "execution_count": 14,
   "id": "041be870-a16f-420b-9623-53df68ec3afb",
   "metadata": {},
   "outputs": [],
   "source": [
    "def train_test_y_randomization():\n",
    "    \n",
    "    for i in range(1,11):\n",
    "        \n",
    "        train = pd.read_csv(\"work/training/randomization/randomization_y\"+str(i)+\".csv\", sep=\",\", encoding=\"utf-8\")\n",
    "        test = pd.read_csv(\"work/training/randomization/randomization_y\"+str(i)+\".csv\", sep=\",\", encoding=\"utf-8\") \n",
    "        \n",
    "        print(train.shape)\n",
    "        print(test.shape)\n",
    "\n",
    "        categorical_features = []\n",
    "\n",
    "        train_Y = train[['y_scramble_'+str(i)]] \n",
    "        train_Y = train_Y.values.ravel()\n",
    "        train_X = train.drop('y_scramble_'+str(i), axis=1)\n",
    "        \n",
    "        test_Y = test[['y_scramble_'+str(i)]] \n",
    "        test_Y = test_Y.values.ravel()\n",
    "        test_X = test.drop('y_scramble_'+str(i), axis=1)\n",
    "        \n",
    "\n",
    "        train_X = np.array(train_X)\n",
    "\n",
    "        num_of_features = round(train_X.shape[1]/2)\n",
    "\n",
    "        regressor = RandomForestRegressor(n_jobs=-1, max_features=num_of_features, n_estimators=500, random_state = 123, criterion= 'squared_error') \n",
    "\n",
    "        kf = KFold(n_splits=5, random_state=123, shuffle=True)\n",
    "\n",
    "        RMSE_sum=0\n",
    "        RMSE_length=5\n",
    "        MSE_sum=0\n",
    "        MSE_length=5\n",
    "        MAE_sum=0\n",
    "        MAE_length=5\n",
    "        R2_sum=0\n",
    "        R2_length=5\n",
    "\n",
    "        for loop_number, (train_k, test_k) in enumerate(kf.split(train_X)):\n",
    "\n",
    "            ## Get Training Matrix and Y Vector\n",
    "\n",
    "            training_X_array = train_X[train_k]\n",
    "            training_y_array = train_Y[train_k].reshape(-1, 1)\n",
    "\n",
    "            training_y_array = training_y_array.ravel()\n",
    "\n",
    "            ## Get Testing Matrix and Y vector\n",
    "\n",
    "            X_test_array = train_X[test_k]\n",
    "            y_actual_values = train_Y[test_k]\n",
    "\n",
    "            ## Fit the Random Forest Regression Model\n",
    "\n",
    "            lr_model = regressor.fit(training_X_array, training_y_array)\n",
    "\n",
    "            ## Compute the predictions for the test data\n",
    "\n",
    "            prediction = lr_model.predict(X_test_array)      \n",
    "            predicted_Y = np.array(prediction)   \n",
    "\n",
    "            ## Calculate the RMSE\n",
    "\n",
    "            RMSE_cross_fold = np.sqrt(metrics.mean_squared_error(y_actual_values, predicted_Y))\n",
    "            RMSE_sum = RMSE_cross_fold + RMSE_sum\n",
    "\n",
    "            MSE_cross_fold = metrics.mean_squared_error(y_actual_values, predicted_Y)\n",
    "            MSE_sum = MSE_cross_fold + MSE_sum\n",
    "\n",
    "            MAE_cross_fold = metrics.mean_absolute_error(y_actual_values, predicted_Y)\n",
    "            MAE_sum = MAE_cross_fold + MAE_sum\n",
    "\n",
    "            R2_cross_fold = metrics.r2_score(y_actual_values, predicted_Y)\n",
    "            R2_sum = R2_cross_fold + R2_sum\n",
    "\n",
    "        ## Calculate the average and print    \n",
    "\n",
    "        RMSE_cross_fold_avg = RMSE_sum / RMSE_length\n",
    "        MSE_cross_fold_avg = MSE_sum / MSE_length\n",
    "        MAE_cross_fold_avg = MAE_sum / MAE_length\n",
    "        R2_cross_fold_avg = R2_sum / R2_length\n",
    "\n",
    "        print('The Mean R2 across all folds is: ', R2_cross_fold_avg)\n",
    "        print('The Mean MAE across all folds is: ', MAE_cross_fold_avg)\n",
    "        print('The Mean MSE across all folds is: ', MSE_cross_fold_avg)\n",
    "        print('The Mean RMSE across all folds is: ', RMSE_cross_fold_avg)\n",
    "        print('\\n')"
   ]
  },
  {
   "cell_type": "code",
   "execution_count": 15,
   "id": "4351ef7c-cd46-43ca-a20e-e2848b0a2c67",
   "metadata": {},
   "outputs": [],
   "source": [
    "def get_df_feature_importance(importance,names,model_type, top=20, execlude=None):\n",
    "\n",
    "    feature_importance = np.array(importance)\n",
    "    feature_names = np.array(names)\n",
    "\n",
    "    data={'feature_names':feature_names,'feature_importance':feature_importance}\n",
    "    ft_df = pd.DataFrame(data)\n",
    "\n",
    "    ft_df.sort_values(by=['feature_importance'], ascending=False,inplace=True)\n",
    "    \n",
    "    ft_df = ft_df.iloc[0:top]\n",
    "    \n",
    "    if(execlude is not None):\n",
    "        ft_df = ft_df[ft_df.feature_names != execlude]\n",
    "\n",
    "    return ft_df"
   ]
  },
  {
   "cell_type": "markdown",
   "id": "efa37727-e82a-4ba6-8550-13835539bcf7",
   "metadata": {},
   "source": [
    "## Train/Test a Ranadom Forest model to predict binding affinity for mutated protein-ligand using features of the protein, binding-site, ligand and mutation"
   ]
  },
  {
   "cell_type": "markdown",
   "id": "3ba64bd7-4347-435c-b63b-15ad9e731381",
   "metadata": {},
   "source": [
    "In the first approach in the paper, a single model was proposed to predict the binding affinity of protein-ligand binding pair whether the protein is wild-type (WT) or has a single point mutation in the binding site using features for the protein, binding-site, ligand and the mutation. This way, the mutation effect on binding affinity can be assessed by predicting the binding affinity of the ligand to the WT protein and the mutated one and comparing them."
   ]
  },
  {
   "cell_type": "code",
   "execution_count": 164,
   "id": "cc1fd4bb-bbdb-403b-824c-d6ab344d31ea",
   "metadata": {},
   "outputs": [],
   "source": [
    "final_metrics_df = pd.DataFrame()"
   ]
  },
  {
   "cell_type": "code",
   "execution_count": 165,
   "id": "c7c7bc19-66fe-4dc5-97c6-0a9e031d8aca",
   "metadata": {},
   "outputs": [
    {
     "data": {
      "text/plain": [
       "(0, 0)"
      ]
     },
     "execution_count": 165,
     "metadata": {},
     "output_type": "execute_result"
    }
   ],
   "source": [
    "final_metrics_df.shape"
   ]
  },
  {
   "cell_type": "code",
   "execution_count": 166,
   "id": "81df6501-eb93-44b0-b33d-972b3ffcb2b6",
   "metadata": {},
   "outputs": [],
   "source": [
    "final_metrics_df['metric'] = [\"R2 (5-fold cross-validation)\", \"MAE (5-fold cross-validation)\", \"MSE (5-fold cross-validation)\", \"RMSE (5-fold cross-validation)\",\n",
    "                              \"R2 (test set)\", \"MAE (test set)\", \"MSE (test set)\", \"RMSE (test set)\", \n",
    "                              \"Relative absolute error (test set)\", \"Root relative squared error (test set)\"]"
   ]
  },
  {
   "cell_type": "code",
   "execution_count": 168,
   "id": "c558bab4-994a-4360-af5f-3e0d4a351de6",
   "metadata": {},
   "outputs": [
    {
     "data": {
      "text/plain": [
       "(10, 1)"
      ]
     },
     "execution_count": 168,
     "metadata": {},
     "output_type": "execute_result"
    }
   ],
   "source": [
    "final_metrics_df.shape"
   ]
  },
  {
   "cell_type": "code",
   "execution_count": 169,
   "id": "6e679674-6fdb-40c4-a191-bb1302425a49",
   "metadata": {},
   "outputs": [
    {
     "name": "stdout",
     "output_type": "stream",
     "text": [
      "(317513, 270)\n",
      "(79377, 270)\n",
      "Dataframe after dummy variables:\n",
      "(317513, 270)\n",
      "Dataframe after dummy variables:\n",
      "(79377, 270)\n",
      "The Mean R2 across all folds is:  0.9674841475754506\n",
      "The Mean MAE across all folds is:  0.14910921594414198\n",
      "The Mean MSE across all folds is:  0.07856928143788036\n",
      "The Mean RMSE across all folds is:  0.28029729715978957\n",
      "Evaluation with the test set: \n",
      "Pearson R:  (0.9841602913760498, 0.0)\n",
      "Pearson R squared:  0.9685714791213912\n",
      "R Squared Error: 0.9685653947975986\n",
      "Mean Absolute Error: 0.14507822669035242\n",
      "Mean Squared Error: 0.07599557207856177\n",
      "Root Mean Squared Error: 0.275672944045225\n",
      "Relative absolute Error: 0.11333937338183776\n",
      "Root relateive squared Error: 0.17729806880618137\n"
     ]
    }
   ],
   "source": [
    "final_metrics, reg_model = train_test(\"first_approach_balanced\")"
   ]
  },
  {
   "cell_type": "code",
   "execution_count": 170,
   "id": "8034484d-85f9-4dfe-8a18-9a3c1f41a92d",
   "metadata": {},
   "outputs": [],
   "source": [
    "final_metrics_df['balanced'] = pd.Series(final_metrics)"
   ]
  },
  {
   "cell_type": "code",
   "execution_count": null,
   "id": "c2c98869-1254-4f95-843b-a53cea643f80",
   "metadata": {},
   "outputs": [
    {
     "name": "stdout",
     "output_type": "stream",
     "text": [
      "(847815, 278)\n",
      "(211953, 278)\n",
      "Dataframe after dummy variables:\n",
      "(847815, 278)\n",
      "Dataframe after dummy variables:\n",
      "(211953, 278)\n"
     ]
    }
   ],
   "source": [
    "final_metrics, reg_model = train_test(\"first_approach_unbalanced\")"
   ]
  },
  {
   "cell_type": "code",
   "execution_count": null,
   "id": "2da55ce8-c238-4425-91a4-446bbe7bec19",
   "metadata": {},
   "outputs": [],
   "source": [
    "final_metrics_df['unbalanced'] = pd.Series(final_metrics)"
   ]
  },
  {
   "cell_type": "code",
   "execution_count": 7,
   "id": "346bb896-582b-4e5c-a77e-223c94e9207f",
   "metadata": {},
   "outputs": [
    {
     "data": {
      "text/html": [
       "<div>\n",
       "<style scoped>\n",
       "    .dataframe tbody tr th:only-of-type {\n",
       "        vertical-align: middle;\n",
       "    }\n",
       "\n",
       "    .dataframe tbody tr th {\n",
       "        vertical-align: top;\n",
       "    }\n",
       "\n",
       "    .dataframe thead th {\n",
       "        text-align: right;\n",
       "    }\n",
       "</style>\n",
       "<table border=\"1\" class=\"dataframe\">\n",
       "  <thead>\n",
       "    <tr style=\"text-align: right;\">\n",
       "      <th></th>\n",
       "      <th>metric</th>\n",
       "      <th>balanced</th>\n",
       "      <th>unbalanced</th>\n",
       "    </tr>\n",
       "  </thead>\n",
       "  <tbody>\n",
       "    <tr>\n",
       "      <th>0</th>\n",
       "      <td>R2 (5-fold cross-validation)</td>\n",
       "      <td>0.967484</td>\n",
       "      <td>0.969750</td>\n",
       "    </tr>\n",
       "    <tr>\n",
       "      <th>1</th>\n",
       "      <td>MAE (5-fold cross-validation)</td>\n",
       "      <td>0.149109</td>\n",
       "      <td>0.138096</td>\n",
       "    </tr>\n",
       "    <tr>\n",
       "      <th>2</th>\n",
       "      <td>MSE (5-fold cross-validation)</td>\n",
       "      <td>0.078569</td>\n",
       "      <td>0.068015</td>\n",
       "    </tr>\n",
       "    <tr>\n",
       "      <th>3</th>\n",
       "      <td>RMSE (5-fold cross-validation)</td>\n",
       "      <td>0.280297</td>\n",
       "      <td>0.260795</td>\n",
       "    </tr>\n",
       "    <tr>\n",
       "      <th>4</th>\n",
       "      <td>R2 (test set)</td>\n",
       "      <td>0.968565</td>\n",
       "      <td>0.970790</td>\n",
       "    </tr>\n",
       "    <tr>\n",
       "      <th>5</th>\n",
       "      <td>MAE (test set)</td>\n",
       "      <td>0.145078</td>\n",
       "      <td>0.133028</td>\n",
       "    </tr>\n",
       "    <tr>\n",
       "      <th>6</th>\n",
       "      <td>MSE (test set)</td>\n",
       "      <td>0.075996</td>\n",
       "      <td>0.065428</td>\n",
       "    </tr>\n",
       "    <tr>\n",
       "      <th>7</th>\n",
       "      <td>RMSE (test set)</td>\n",
       "      <td>0.275673</td>\n",
       "      <td>0.255790</td>\n",
       "    </tr>\n",
       "    <tr>\n",
       "      <th>8</th>\n",
       "      <td>Relative absolute error (test set)</td>\n",
       "      <td>0.113339</td>\n",
       "      <td>0.111730</td>\n",
       "    </tr>\n",
       "    <tr>\n",
       "      <th>9</th>\n",
       "      <td>Root relative squared error (test set)</td>\n",
       "      <td>0.177298</td>\n",
       "      <td>0.170910</td>\n",
       "    </tr>\n",
       "  </tbody>\n",
       "</table>\n",
       "</div>"
      ],
      "text/plain": [
       "                                   metric  balanced  unbalanced\n",
       "0            R2 (5-fold cross-validation)  0.967484    0.969750\n",
       "1           MAE (5-fold cross-validation)  0.149109    0.138096\n",
       "2           MSE (5-fold cross-validation)  0.078569    0.068015\n",
       "3          RMSE (5-fold cross-validation)  0.280297    0.260795\n",
       "4                           R2 (test set)  0.968565    0.970790\n",
       "5                          MAE (test set)  0.145078    0.133028\n",
       "6                          MSE (test set)  0.075996    0.065428\n",
       "7                         RMSE (test set)  0.275673    0.255790\n",
       "8      Relative absolute error (test set)  0.113339    0.111730\n",
       "9  Root relative squared error (test set)  0.177298    0.170910"
      ]
     },
     "execution_count": 7,
     "metadata": {},
     "output_type": "execute_result"
    }
   ],
   "source": [
    "final_metrics_df.head(n=10)"
   ]
  },
  {
   "cell_type": "code",
   "execution_count": null,
   "id": "c3cc8a8a-d02b-4d03-b7f2-690436363f3c",
   "metadata": {},
   "outputs": [],
   "source": [
    "final_metrics_df.to_csv(\"work/training/first-approach/final_metrics.csv\", sep=\",\", index=False, encoding=\"utf-8\")"
   ]
  },
  {
   "cell_type": "markdown",
   "id": "825ebcdf-6087-4b61-94c0-02d0851ca21f",
   "metadata": {},
   "source": [
    "## Train/Test a Random Forest model to predict binding affinity from protein, binding-site and ligand features"
   ]
  },
  {
   "cell_type": "markdown",
   "id": "3ef9e751-5b7a-45f2-9d2f-06f45031af95",
   "metadata": {},
   "source": [
    "In the dual model approach in the paper, a separate model was proposed to predict the binding affinity of wild-type (WT) protein-ligand pairs. Then, another model will be developed to use the predicted WT protein-ligand binding affinity besides mutation features to predict the binding affinity of mutated protein-ligand pair.\n",
    "The below is to train/test a model to predict WT protein-ligand binding affinity using protein, binding-site and ligand featues. Different splitting scenarios were tested for this model (split by protein similarity, binding pocket similarity, ligand similarity and stratified random splitting by binding affinity, ligand molecular weight, ligand surface area and ligand volume)"
   ]
  },
  {
   "cell_type": "code",
   "execution_count": 146,
   "id": "af8f4c34-3c4b-4263-bf6a-91d217e55903",
   "metadata": {},
   "outputs": [],
   "source": [
    "final_metrics_df = pd.DataFrame()"
   ]
  },
  {
   "cell_type": "code",
   "execution_count": 147,
   "id": "03169c5b-ffd8-435d-bc39-3e3c394f4047",
   "metadata": {},
   "outputs": [
    {
     "data": {
      "text/plain": [
       "(0, 0)"
      ]
     },
     "execution_count": 147,
     "metadata": {},
     "output_type": "execute_result"
    }
   ],
   "source": [
    "final_metrics_df.shape"
   ]
  },
  {
   "cell_type": "code",
   "execution_count": 148,
   "id": "687f1493-d10f-4693-b917-6ea1e43275a3",
   "metadata": {},
   "outputs": [],
   "source": [
    "final_metrics_df['metric'] = [\"R2 (5-fold cross-validation)\", \"MAE (5-fold cross-validation)\", \"MSE (5-fold cross-validation)\", \"RMSE (5-fold cross-validation)\",\n",
    "                              \"R2 (test set)\", \"MAE (test set)\", \"MSE (test set)\", \"RMSE (test set)\", \n",
    "                              \"Relative absolute error (test set)\", \"Root relative squared error (test set)\"]"
   ]
  },
  {
   "cell_type": "code",
   "execution_count": 149,
   "id": "1b2c850d-91fe-4cf1-8659-1b24fc1edf82",
   "metadata": {},
   "outputs": [
    {
     "data": {
      "text/plain": [
       "(10, 1)"
      ]
     },
     "execution_count": 149,
     "metadata": {},
     "output_type": "execute_result"
    }
   ],
   "source": [
    "final_metrics_df.shape"
   ]
  },
  {
   "cell_type": "code",
   "execution_count": 150,
   "id": "b64918b1-0d29-4cec-ae72-8a6ca619040e",
   "metadata": {},
   "outputs": [
    {
     "name": "stdout",
     "output_type": "stream",
     "text": [
      "(6738, 126)\n",
      "(1683, 126)\n",
      "Dataframe after dummy variables:\n",
      "(6738, 126)\n",
      "Dataframe after dummy variables:\n",
      "(1683, 126)\n",
      "The Mean R2 across all folds is:  0.8509576779588084\n",
      "The Mean MAE across all folds is:  0.4197126871011304\n",
      "The Mean MSE across all folds is:  0.33699007424893235\n",
      "The Mean RMSE across all folds is:  0.580365995865205\n",
      "Evaluation with the test set: \n",
      "Pearson R:  (0.9321436427463227, 0.0)\n",
      "Pearson R squared:  0.868891770712384\n",
      "R Squared Error: 0.8671290619537905\n",
      "Mean Absolute Error: 0.40136244800950693\n",
      "Mean Squared Error: 0.30246556922162887\n",
      "Root Mean Squared Error: 0.5499686984016716\n",
      "Relative absolute Error: 0.326883818580622\n",
      "Root relateive squared Error: 0.36451466094823887\n"
     ]
    }
   ],
   "source": [
    "final_metrics, reg_model = train_test(\"dual_model_pl_split_random\")"
   ]
  },
  {
   "cell_type": "code",
   "execution_count": 151,
   "id": "292ab66e-c65d-4666-be68-37acead43af4",
   "metadata": {},
   "outputs": [],
   "source": [
    "final_metrics_df['random_split'] = pd.Series(final_metrics)"
   ]
  },
  {
   "cell_type": "code",
   "execution_count": 152,
   "id": "504d2ca3-192e-46b5-b456-014834ff8f55",
   "metadata": {},
   "outputs": [
    {
     "name": "stdout",
     "output_type": "stream",
     "text": [
      "(6969, 126)\n",
      "(1452, 126)\n",
      "Dataframe after dummy variables:\n",
      "(6969, 126)\n",
      "Dataframe after dummy variables:\n",
      "(1452, 126)\n",
      "The Mean R2 across all folds is:  0.8692430070804479\n",
      "The Mean MAE across all folds is:  0.4063900384892287\n",
      "The Mean MSE across all folds is:  0.3172436039732673\n",
      "The Mean RMSE across all folds is:  0.5631445867101779\n",
      "Evaluation with the test set: \n",
      "Pearson R:  (0.5318876117837603, 7.726084104267749e-107)\n",
      "Pearson R squared:  0.2829044315690321\n",
      "R Squared Error: 0.2485707648145905\n",
      "Mean Absolute Error: 0.8591214876033066\n",
      "Mean Squared Error: 1.1148497339393952\n",
      "Root Mean Squared Error: 1.0558644486577788\n",
      "Relative absolute Error: 0.8500956445633928\n",
      "Root relateive squared Error: 0.8668501803572572\n"
     ]
    }
   ],
   "source": [
    "final_metrics, reg_model = train_test(\"dual_model_pl_split_pocket\")"
   ]
  },
  {
   "cell_type": "code",
   "execution_count": 153,
   "id": "4f797fbd-c5f2-4418-a815-4f59e494f6fb",
   "metadata": {},
   "outputs": [],
   "source": [
    "final_metrics_df['pocket_split'] = pd.Series(final_metrics)"
   ]
  },
  {
   "cell_type": "code",
   "execution_count": 154,
   "id": "ee8f1370-4524-450c-8b0f-ac0e0907d087",
   "metadata": {},
   "outputs": [
    {
     "name": "stdout",
     "output_type": "stream",
     "text": [
      "(6731, 126)\n",
      "(1690, 126)\n",
      "Dataframe after dummy variables:\n",
      "(6731, 126)\n",
      "Dataframe after dummy variables:\n",
      "(1690, 126)\n",
      "The Mean R2 across all folds is:  0.8610701844281682\n",
      "The Mean MAE across all folds is:  0.4143660251221414\n",
      "The Mean MSE across all folds is:  0.3267372232559859\n",
      "The Mean RMSE across all folds is:  0.5715057123852781\n",
      "Evaluation with the test set: \n",
      "Pearson R:  (0.7200352715281191, 3.795990719058383e-270)\n",
      "Pearson R squared:  0.5184507922445721\n",
      "R Squared Error: 0.4152196084128633\n",
      "Mean Absolute Error: 0.7777157396449698\n",
      "Mean Squared Error: 1.0045361886863893\n",
      "Root Mean Squared Error: 1.002265528034557\n",
      "Relative absolute Error: 0.7472472252495457\n",
      "Root relateive squared Error: 0.7647093510525007\n"
     ]
    }
   ],
   "source": [
    "final_metrics, reg_model = train_test(\"dual_model_pl_split_protein\")"
   ]
  },
  {
   "cell_type": "code",
   "execution_count": 155,
   "id": "94a0a407-e173-41aa-879e-50706d3717fe",
   "metadata": {},
   "outputs": [],
   "source": [
    "final_metrics_df['protein_split'] = pd.Series(final_metrics)"
   ]
  },
  {
   "cell_type": "code",
   "execution_count": 156,
   "id": "2eb1e34c-78ff-4b3b-9f58-4c2716f1b9d8",
   "metadata": {},
   "outputs": [
    {
     "name": "stdout",
     "output_type": "stream",
     "text": [
      "(6737, 126)\n",
      "(1684, 126)\n",
      "Dataframe after dummy variables:\n",
      "(6737, 126)\n",
      "Dataframe after dummy variables:\n",
      "(1684, 126)\n",
      "The Mean R2 across all folds is:  0.8652961606230015\n",
      "The Mean MAE across all folds is:  0.39896914799124994\n",
      "The Mean MSE across all folds is:  0.30062893179847083\n",
      "The Mean RMSE across all folds is:  0.5480166140975424\n",
      "Evaluation with the test set: \n",
      "Pearson R:  (0.8973566286085314, 0.0)\n",
      "Pearson R squared:  0.8052489189076697\n",
      "R Squared Error: 0.8045853343982321\n",
      "Mean Absolute Error: 0.47772161520190015\n",
      "Mean Squared Error: 0.4598789959619957\n",
      "Root Mean Squared Error: 0.6781437870850073\n",
      "Relative absolute Error: 0.38495807949821514\n",
      "Root relateive squared Error: 0.44205731031368317\n"
     ]
    }
   ],
   "source": [
    "final_metrics, reg_model = train_test(\"dual_model_pl_split_ligand_diversity\")"
   ]
  },
  {
   "cell_type": "code",
   "execution_count": 157,
   "id": "75a143e7-ed3a-4f44-818f-76d75c89e105",
   "metadata": {},
   "outputs": [],
   "source": [
    "final_metrics_df['ligand_diversity_split'] = pd.Series(final_metrics)"
   ]
  },
  {
   "cell_type": "code",
   "execution_count": 158,
   "id": "8c49d428-73cf-45bb-a3f8-40755d9455c7",
   "metadata": {},
   "outputs": [
    {
     "name": "stdout",
     "output_type": "stream",
     "text": [
      "(6770, 126)\n",
      "(1651, 126)\n",
      "Dataframe after dummy variables:\n",
      "(6770, 126)\n",
      "Dataframe after dummy variables:\n",
      "(1651, 126)\n",
      "The Mean R2 across all folds is:  0.8520771745184981\n",
      "The Mean MAE across all folds is:  0.41659497784342686\n",
      "The Mean MSE across all folds is:  0.33222098626883306\n",
      "The Mean RMSE across all folds is:  0.5761344038141452\n",
      "Evaluation with the test set: \n",
      "Pearson R:  (0.9311295929536413, 0.0)\n",
      "Pearson R squared:  0.8670023188740137\n",
      "R Squared Error: 0.8664236759625299\n",
      "Mean Absolute Error: 0.4067153240460329\n",
      "Mean Squared Error: 0.31206524140520975\n",
      "Root Mean Squared Error: 0.5586279991239338\n",
      "Relative absolute Error: 0.3264477856115103\n",
      "Root relateive squared Error: 0.3654809489391618\n"
     ]
    }
   ],
   "source": [
    "final_metrics, reg_model = train_test(\"dual_model_pl_split_ligand_weight\")"
   ]
  },
  {
   "cell_type": "code",
   "execution_count": 159,
   "id": "d525fc24-63e7-4913-b010-cdf758e2a366",
   "metadata": {},
   "outputs": [],
   "source": [
    "final_metrics_df['ligand_weight_split'] = pd.Series(final_metrics)"
   ]
  },
  {
   "cell_type": "code",
   "execution_count": 139,
   "id": "67666dc8-5363-411e-b8cf-c0a9c3bf6cde",
   "metadata": {},
   "outputs": [
    {
     "name": "stdout",
     "output_type": "stream",
     "text": [
      "(6765, 126)\n",
      "(1656, 126)\n",
      "Dataframe after dummy variables:\n",
      "(6765, 126)\n",
      "Dataframe after dummy variables:\n",
      "(1656, 126)\n",
      "The Mean R2 across all folds is:  0.8566582183015944\n",
      "The Mean MAE across all folds is:  0.41469626016260175\n",
      "The Mean MSE across all folds is:  0.3264438738861791\n",
      "The Mean RMSE across all folds is:  0.5711376396596861\n",
      "Evaluation with the test set: \n",
      "Pearson R:  (0.9177243839503039, 0.0)\n",
      "Pearson R squared:  0.8422180448969647\n",
      "R Squared Error: 0.8411442943636551\n",
      "Mean Absolute Error: 0.42402499999999976\n",
      "Mean Squared Error: 0.35141057876811554\n",
      "Root Mean Squared Error: 0.5927989362069702\n",
      "Relative absolute Error: 0.35405314875615723\n",
      "Root relateive squared Error: 0.3985670654185376\n"
     ]
    }
   ],
   "source": [
    "final_metrics, reg_model = train_test(\"dual_model_pl_split_ligand_tpsa\")"
   ]
  },
  {
   "cell_type": "code",
   "execution_count": 140,
   "id": "2eb0e5ea-4543-4dec-8078-ad0226b74c54",
   "metadata": {},
   "outputs": [
    {
     "name": "stdout",
     "output_type": "stream",
     "text": [
      "(6770, 126)\n",
      "(1651, 126)\n",
      "Dataframe after dummy variables:\n",
      "(6770, 126)\n",
      "Dataframe after dummy variables:\n",
      "(1651, 126)\n",
      "The Mean R2 across all folds is:  0.8505307591558356\n",
      "The Mean MAE across all folds is:  0.4184301033973414\n",
      "The Mean MSE across all folds is:  0.3347123998641065\n",
      "The Mean RMSE across all folds is:  0.5784778733404837\n",
      "Evaluation with the test set: \n",
      "Pearson R:  (0.9322320187915425, 0.0)\n",
      "Pearson R squared:  0.8690565368601548\n",
      "R Squared Error: 0.8675394216068888\n",
      "Mean Absolute Error: 0.40391338582677144\n",
      "Mean Squared Error: 0.3138169781950334\n",
      "Root Mean Squared Error: 0.560193697032583\n",
      "Relative absolute Error: 0.32776083315426835\n",
      "Root relateive squared Error: 0.36395134069420776\n"
     ]
    }
   ],
   "source": [
    "final_metrics, reg_model = train_test(\"dual_model_pl_split_ligand_volume\")"
   ]
  },
  {
   "cell_type": "code",
   "execution_count": 160,
   "id": "585907f3-a678-4790-a1ac-f3712f3a06fc",
   "metadata": {},
   "outputs": [
    {
     "data": {
      "text/plain": [
       "(10, 6)"
      ]
     },
     "execution_count": 160,
     "metadata": {},
     "output_type": "execute_result"
    }
   ],
   "source": [
    "final_metrics_df.shape"
   ]
  },
  {
   "cell_type": "code",
   "execution_count": 162,
   "id": "3e97a5cf-e384-4c6c-b63a-e7adf61a2097",
   "metadata": {},
   "outputs": [
    {
     "data": {
      "text/html": [
       "<div>\n",
       "<style scoped>\n",
       "    .dataframe tbody tr th:only-of-type {\n",
       "        vertical-align: middle;\n",
       "    }\n",
       "\n",
       "    .dataframe tbody tr th {\n",
       "        vertical-align: top;\n",
       "    }\n",
       "\n",
       "    .dataframe thead th {\n",
       "        text-align: right;\n",
       "    }\n",
       "</style>\n",
       "<table border=\"1\" class=\"dataframe\">\n",
       "  <thead>\n",
       "    <tr style=\"text-align: right;\">\n",
       "      <th></th>\n",
       "      <th>metric</th>\n",
       "      <th>random_split</th>\n",
       "      <th>pocket_split</th>\n",
       "      <th>protein_split</th>\n",
       "      <th>ligand_diversity_split</th>\n",
       "      <th>ligand_weight_split</th>\n",
       "    </tr>\n",
       "  </thead>\n",
       "  <tbody>\n",
       "    <tr>\n",
       "      <th>0</th>\n",
       "      <td>R2 (5-fold cross-validation)</td>\n",
       "      <td>0.850958</td>\n",
       "      <td>0.869243</td>\n",
       "      <td>0.861070</td>\n",
       "      <td>0.865296</td>\n",
       "      <td>0.852077</td>\n",
       "    </tr>\n",
       "    <tr>\n",
       "      <th>1</th>\n",
       "      <td>MAE (5-fold cross-validation)</td>\n",
       "      <td>0.419713</td>\n",
       "      <td>0.406390</td>\n",
       "      <td>0.414366</td>\n",
       "      <td>0.398969</td>\n",
       "      <td>0.416595</td>\n",
       "    </tr>\n",
       "    <tr>\n",
       "      <th>2</th>\n",
       "      <td>MSE (5-fold cross-validation)</td>\n",
       "      <td>0.336990</td>\n",
       "      <td>0.317244</td>\n",
       "      <td>0.326737</td>\n",
       "      <td>0.300629</td>\n",
       "      <td>0.332221</td>\n",
       "    </tr>\n",
       "    <tr>\n",
       "      <th>3</th>\n",
       "      <td>RMSE (5-fold cross-validation)</td>\n",
       "      <td>0.580366</td>\n",
       "      <td>0.563145</td>\n",
       "      <td>0.571506</td>\n",
       "      <td>0.548017</td>\n",
       "      <td>0.576134</td>\n",
       "    </tr>\n",
       "    <tr>\n",
       "      <th>4</th>\n",
       "      <td>R2 (test set)</td>\n",
       "      <td>0.867129</td>\n",
       "      <td>0.248571</td>\n",
       "      <td>0.415220</td>\n",
       "      <td>0.804585</td>\n",
       "      <td>0.866424</td>\n",
       "    </tr>\n",
       "    <tr>\n",
       "      <th>5</th>\n",
       "      <td>MAE (test set)</td>\n",
       "      <td>0.401362</td>\n",
       "      <td>0.859121</td>\n",
       "      <td>0.777716</td>\n",
       "      <td>0.477722</td>\n",
       "      <td>0.406715</td>\n",
       "    </tr>\n",
       "    <tr>\n",
       "      <th>6</th>\n",
       "      <td>MSE (test set)</td>\n",
       "      <td>0.302466</td>\n",
       "      <td>1.114850</td>\n",
       "      <td>1.004536</td>\n",
       "      <td>0.459879</td>\n",
       "      <td>0.312065</td>\n",
       "    </tr>\n",
       "    <tr>\n",
       "      <th>7</th>\n",
       "      <td>RMSE (test set)</td>\n",
       "      <td>0.549969</td>\n",
       "      <td>1.055864</td>\n",
       "      <td>1.002266</td>\n",
       "      <td>0.678144</td>\n",
       "      <td>0.558628</td>\n",
       "    </tr>\n",
       "    <tr>\n",
       "      <th>8</th>\n",
       "      <td>Relative absolute error (test set)</td>\n",
       "      <td>0.326884</td>\n",
       "      <td>0.850096</td>\n",
       "      <td>0.747247</td>\n",
       "      <td>0.384958</td>\n",
       "      <td>0.326448</td>\n",
       "    </tr>\n",
       "    <tr>\n",
       "      <th>9</th>\n",
       "      <td>Root relative squared error (test set)</td>\n",
       "      <td>0.364515</td>\n",
       "      <td>0.866850</td>\n",
       "      <td>0.764709</td>\n",
       "      <td>0.442057</td>\n",
       "      <td>0.365481</td>\n",
       "    </tr>\n",
       "  </tbody>\n",
       "</table>\n",
       "</div>"
      ],
      "text/plain": [
       "                                   metric  random_split  pocket_split  \\\n",
       "0            R2 (5-fold cross-validation)      0.850958      0.869243   \n",
       "1           MAE (5-fold cross-validation)      0.419713      0.406390   \n",
       "2           MSE (5-fold cross-validation)      0.336990      0.317244   \n",
       "3          RMSE (5-fold cross-validation)      0.580366      0.563145   \n",
       "4                           R2 (test set)      0.867129      0.248571   \n",
       "5                          MAE (test set)      0.401362      0.859121   \n",
       "6                          MSE (test set)      0.302466      1.114850   \n",
       "7                         RMSE (test set)      0.549969      1.055864   \n",
       "8      Relative absolute error (test set)      0.326884      0.850096   \n",
       "9  Root relative squared error (test set)      0.364515      0.866850   \n",
       "\n",
       "   protein_split  ligand_diversity_split  ligand_weight_split  \n",
       "0       0.861070                0.865296             0.852077  \n",
       "1       0.414366                0.398969             0.416595  \n",
       "2       0.326737                0.300629             0.332221  \n",
       "3       0.571506                0.548017             0.576134  \n",
       "4       0.415220                0.804585             0.866424  \n",
       "5       0.777716                0.477722             0.406715  \n",
       "6       1.004536                0.459879             0.312065  \n",
       "7       1.002266                0.678144             0.558628  \n",
       "8       0.747247                0.384958             0.326448  \n",
       "9       0.764709                0.442057             0.365481  "
      ]
     },
     "execution_count": 162,
     "metadata": {},
     "output_type": "execute_result"
    }
   ],
   "source": [
    "final_metrics_df.head(n=10)"
   ]
  },
  {
   "cell_type": "code",
   "execution_count": 163,
   "id": "3b8a1135-f281-40a8-8137-3a87507a23bc",
   "metadata": {},
   "outputs": [],
   "source": [
    "final_metrics_df.to_csv(\"work/training/dual-model/final_metrics.csv\", sep=\",\", index=False, encoding=\"utf-8\")"
   ]
  },
  {
   "cell_type": "markdown",
   "id": "5284b9ce-7495-4e7d-8e22-92566b31e6af",
   "metadata": {},
   "source": [
    "## Train/Test a Random Forest model to predict binding affinity of mutated protein-ligand from the WT protein-ligand binding affinity and mutation features"
   ]
  },
  {
   "cell_type": "code",
   "execution_count": 8,
   "id": "41e1d613-1264-4047-a4b8-1162c1154aa2",
   "metadata": {},
   "outputs": [],
   "source": [
    "final_metrics_df = pd.DataFrame()"
   ]
  },
  {
   "cell_type": "code",
   "execution_count": 9,
   "id": "a0d696a8-fd2a-4900-a6f3-ca264a9ec77a",
   "metadata": {},
   "outputs": [
    {
     "data": {
      "text/plain": [
       "(0, 0)"
      ]
     },
     "execution_count": 9,
     "metadata": {},
     "output_type": "execute_result"
    }
   ],
   "source": [
    "final_metrics_df.shape"
   ]
  },
  {
   "cell_type": "code",
   "execution_count": 10,
   "id": "c4463bee-df70-49a7-bbe6-659c59eef1dd",
   "metadata": {},
   "outputs": [],
   "source": [
    "final_metrics_df['metric'] = [\"R2 (5-fold cross-validation)\", \"MAE (5-fold cross-validation)\", \"MSE (5-fold cross-validation)\", \"RMSE (5-fold cross-validation)\",\n",
    "                              \"R2 (test set)\", \"MAE (test set)\", \"MSE (test set)\", \"RMSE (test set)\", \n",
    "                              \"Relative absolute error (test set)\", \"Root relative squared error (test set)\"]"
   ]
  },
  {
   "cell_type": "code",
   "execution_count": 11,
   "id": "552bfd34-91d1-473c-bb7d-1b5f411a8b7d",
   "metadata": {},
   "outputs": [
    {
     "data": {
      "text/plain": [
       "(10, 1)"
      ]
     },
     "execution_count": 11,
     "metadata": {},
     "output_type": "execute_result"
    }
   ],
   "source": [
    "final_metrics_df.shape"
   ]
  },
  {
   "cell_type": "code",
   "execution_count": 12,
   "id": "1fb5d461-0d37-4cca-844c-73977aedba36",
   "metadata": {},
   "outputs": [
    {
     "name": "stdout",
     "output_type": "stream",
     "text": [
      "(158341, 190)\n",
      "(39584, 190)\n",
      "Dataframe after dummy variables:\n",
      "(158341, 190)\n",
      "Dataframe after dummy variables:\n",
      "(158341, 190)\n",
      "Dataframe after dummy variables:\n",
      "(39584, 190)\n",
      "Dataframe after dummy variables:\n",
      "(39584, 190)\n",
      "The Mean R2 across all folds is:  0.8963458018916505\n",
      "The Mean MAE across all folds is:  0.352762619785875\n",
      "The Mean MSE across all folds is:  0.2465786485365496\n",
      "The Mean RMSE across all folds is:  0.4965565693027725\n",
      "\n",
      "\n",
      "Evaluation with the test set (real wt_bt): \n",
      "Pearson R:  (0.9469612802175152, 0.0)\n",
      "Pearson R squared:  0.8967356662311954\n",
      "R Squared Error: 0.896511085074408\n",
      "Mean Absolute Error: 0.34941937098092185\n",
      "Mean Squared Error: 0.24506832485284885\n",
      "Root Mean Squared Error: 0.4950437605432967\n",
      "Relative absolute Error: 0.27593320775644575\n",
      "Root relateive squared Error: 0.32169693023961543\n",
      "\n",
      "\n",
      "Evaluation with the test set (predicted wt_bt): \n",
      "Pearson R:  (0.9409324405702544, 0.0)\n",
      "Pearson R squared:  0.8853538577174953\n",
      "R Squared Error: 0.8850130867815884\n",
      "Mean Absolute Error: 0.37820656925033547\n",
      "Mean Squared Error: 0.27229631524011116\n",
      "Root Mean Squared Error: 0.5218201943582781\n",
      "Relative absolute Error: 0.2986661888688003\n",
      "Root relateive squared Error: 0.33909720320051534\n"
     ]
    }
   ],
   "source": [
    "final_metrics_real, final_metrics_pred, reg_model = train_test_mutation_model(\"mutation_model_real_wt_ba\")"
   ]
  },
  {
   "cell_type": "code",
   "execution_count": 13,
   "id": "5a8fb1f0-267b-4423-87c4-84b0953370dc",
   "metadata": {},
   "outputs": [],
   "source": [
    "final_metrics_df['mutation_model_real_wt_ba_test_real_wt_ba'] = pd.Series(final_metrics_real)\n",
    "final_metrics_df['mutation_model_real_wt_ba_test_pred_wt_ba'] = pd.Series(final_metrics_pred)"
   ]
  },
  {
   "cell_type": "code",
   "execution_count": 14,
   "id": "c1026722-4d71-4639-9f54-da31a138feea",
   "metadata": {},
   "outputs": [
    {
     "name": "stdout",
     "output_type": "stream",
     "text": [
      "(158341, 190)\n",
      "(39584, 190)\n",
      "Dataframe after dummy variables:\n",
      "(158341, 190)\n",
      "Dataframe after dummy variables:\n",
      "(158341, 190)\n",
      "Dataframe after dummy variables:\n",
      "(39584, 190)\n",
      "Dataframe after dummy variables:\n",
      "(39584, 190)\n",
      "The Mean R2 across all folds is:  0.8824172767872792\n",
      "The Mean MAE across all folds is:  0.38214091719493015\n",
      "The Mean MSE across all folds is:  0.27971359342825824\n",
      "The Mean RMSE across all folds is:  0.5288727839178008\n",
      "\n",
      "\n",
      "Evaluation with the test set (real wt_bt): \n",
      "Pearson R:  (0.9341108179070892, 0.0)\n",
      "Pearson R squared:  0.8725630201310511\n",
      "R Squared Error: 0.8655399916211797\n",
      "Mean Absolute Error: 0.39980744746354147\n",
      "Mean Squared Error: 0.3184098416413948\n",
      "Root Mean Squared Error: 0.564278159812512\n",
      "Relative absolute Error: 0.31572420027496156\n",
      "Root relateive squared Error: 0.3666878895993435\n",
      "\n",
      "\n",
      "Evaluation with the test set (predicted wt_bt): \n",
      "Pearson R:  (0.9399625736993191, 0.0)\n",
      "Pearson R squared:  0.883529639955448\n",
      "R Squared Error: 0.8828514632313114\n",
      "Mean Absolute Error: 0.3810855430760208\n",
      "Mean Squared Error: 0.27741517712797353\n",
      "Root Mean Squared Error: 0.5267021711821336\n",
      "Relative absolute Error: 0.30093968756046724\n",
      "Root relateive squared Error: 0.3422696842676672\n"
     ]
    }
   ],
   "source": [
    "final_metrics_real, final_metrics_pred, reg_model = train_test_mutation_model(\"mutation_model_pred_wt_ba\")"
   ]
  },
  {
   "cell_type": "code",
   "execution_count": 15,
   "id": "2888e8c7-6a5d-47fb-8841-6f6ab0e92587",
   "metadata": {},
   "outputs": [],
   "source": [
    "final_metrics_df['mutation_model_pred_wt_ba_test_real_wt_ba'] = pd.Series(final_metrics_real)\n",
    "final_metrics_df['mutation_model_pred_wt_ba_test_pred_wt_ba'] = pd.Series(final_metrics_pred)"
   ]
  },
  {
   "cell_type": "code",
   "execution_count": 16,
   "id": "3ecc9f26-c9a9-4053-bb7e-b30f9e04ae0b",
   "metadata": {},
   "outputs": [
    {
     "data": {
      "text/plain": [
       "(10, 5)"
      ]
     },
     "execution_count": 16,
     "metadata": {},
     "output_type": "execute_result"
    }
   ],
   "source": [
    "final_metrics_df.shape"
   ]
  },
  {
   "cell_type": "code",
   "execution_count": 21,
   "id": "b7d391b9-bea9-43f9-9214-eed70036cd2c",
   "metadata": {},
   "outputs": [
    {
     "data": {
      "text/html": [
       "<div>\n",
       "<style scoped>\n",
       "    .dataframe tbody tr th:only-of-type {\n",
       "        vertical-align: middle;\n",
       "    }\n",
       "\n",
       "    .dataframe tbody tr th {\n",
       "        vertical-align: top;\n",
       "    }\n",
       "\n",
       "    .dataframe thead th {\n",
       "        text-align: right;\n",
       "    }\n",
       "</style>\n",
       "<table border=\"1\" class=\"dataframe\">\n",
       "  <thead>\n",
       "    <tr style=\"text-align: right;\">\n",
       "      <th></th>\n",
       "      <th>metric</th>\n",
       "      <th>mutation_model_real_wt_ba_test_real_wt_ba</th>\n",
       "      <th>mutation_model_real_wt_ba_test_pred_wt_ba</th>\n",
       "      <th>mutation_model_pred_wt_ba_test_real_wt_ba</th>\n",
       "      <th>mutation_model_pred_wt_ba_test_pred_wt_ba</th>\n",
       "    </tr>\n",
       "  </thead>\n",
       "  <tbody>\n",
       "    <tr>\n",
       "      <th>0</th>\n",
       "      <td>R2 (5-fold cross-validation)</td>\n",
       "      <td>0.896346</td>\n",
       "      <td>0.896346</td>\n",
       "      <td>0.882417</td>\n",
       "      <td>0.882417</td>\n",
       "    </tr>\n",
       "    <tr>\n",
       "      <th>1</th>\n",
       "      <td>MAE (5-fold cross-validation)</td>\n",
       "      <td>0.352763</td>\n",
       "      <td>0.352763</td>\n",
       "      <td>0.382141</td>\n",
       "      <td>0.382141</td>\n",
       "    </tr>\n",
       "    <tr>\n",
       "      <th>2</th>\n",
       "      <td>MSE (5-fold cross-validation)</td>\n",
       "      <td>0.246579</td>\n",
       "      <td>0.246579</td>\n",
       "      <td>0.279714</td>\n",
       "      <td>0.279714</td>\n",
       "    </tr>\n",
       "    <tr>\n",
       "      <th>3</th>\n",
       "      <td>RMSE (5-fold cross-validation)</td>\n",
       "      <td>0.496557</td>\n",
       "      <td>0.496557</td>\n",
       "      <td>0.528873</td>\n",
       "      <td>0.528873</td>\n",
       "    </tr>\n",
       "    <tr>\n",
       "      <th>4</th>\n",
       "      <td>R2 (test set)</td>\n",
       "      <td>0.896511</td>\n",
       "      <td>0.885013</td>\n",
       "      <td>0.865540</td>\n",
       "      <td>0.882851</td>\n",
       "    </tr>\n",
       "    <tr>\n",
       "      <th>5</th>\n",
       "      <td>MAE (test set)</td>\n",
       "      <td>0.349419</td>\n",
       "      <td>0.378207</td>\n",
       "      <td>0.399807</td>\n",
       "      <td>0.381086</td>\n",
       "    </tr>\n",
       "    <tr>\n",
       "      <th>6</th>\n",
       "      <td>MSE (test set)</td>\n",
       "      <td>0.245068</td>\n",
       "      <td>0.272296</td>\n",
       "      <td>0.318410</td>\n",
       "      <td>0.277415</td>\n",
       "    </tr>\n",
       "    <tr>\n",
       "      <th>7</th>\n",
       "      <td>RMSE (test set)</td>\n",
       "      <td>0.495044</td>\n",
       "      <td>0.521820</td>\n",
       "      <td>0.564278</td>\n",
       "      <td>0.526702</td>\n",
       "    </tr>\n",
       "    <tr>\n",
       "      <th>8</th>\n",
       "      <td>Relative absolute error (test set)</td>\n",
       "      <td>0.275933</td>\n",
       "      <td>0.298666</td>\n",
       "      <td>0.315724</td>\n",
       "      <td>0.300940</td>\n",
       "    </tr>\n",
       "    <tr>\n",
       "      <th>9</th>\n",
       "      <td>Root relative squared error (test set)</td>\n",
       "      <td>0.321697</td>\n",
       "      <td>0.339097</td>\n",
       "      <td>0.366688</td>\n",
       "      <td>0.342270</td>\n",
       "    </tr>\n",
       "  </tbody>\n",
       "</table>\n",
       "</div>"
      ],
      "text/plain": [
       "                                   metric  \\\n",
       "0            R2 (5-fold cross-validation)   \n",
       "1           MAE (5-fold cross-validation)   \n",
       "2           MSE (5-fold cross-validation)   \n",
       "3          RMSE (5-fold cross-validation)   \n",
       "4                           R2 (test set)   \n",
       "5                          MAE (test set)   \n",
       "6                          MSE (test set)   \n",
       "7                         RMSE (test set)   \n",
       "8      Relative absolute error (test set)   \n",
       "9  Root relative squared error (test set)   \n",
       "\n",
       "   mutation_model_real_wt_ba_test_real_wt_ba  \\\n",
       "0                                   0.896346   \n",
       "1                                   0.352763   \n",
       "2                                   0.246579   \n",
       "3                                   0.496557   \n",
       "4                                   0.896511   \n",
       "5                                   0.349419   \n",
       "6                                   0.245068   \n",
       "7                                   0.495044   \n",
       "8                                   0.275933   \n",
       "9                                   0.321697   \n",
       "\n",
       "   mutation_model_real_wt_ba_test_pred_wt_ba  \\\n",
       "0                                   0.896346   \n",
       "1                                   0.352763   \n",
       "2                                   0.246579   \n",
       "3                                   0.496557   \n",
       "4                                   0.885013   \n",
       "5                                   0.378207   \n",
       "6                                   0.272296   \n",
       "7                                   0.521820   \n",
       "8                                   0.298666   \n",
       "9                                   0.339097   \n",
       "\n",
       "   mutation_model_pred_wt_ba_test_real_wt_ba  \\\n",
       "0                                   0.882417   \n",
       "1                                   0.382141   \n",
       "2                                   0.279714   \n",
       "3                                   0.528873   \n",
       "4                                   0.865540   \n",
       "5                                   0.399807   \n",
       "6                                   0.318410   \n",
       "7                                   0.564278   \n",
       "8                                   0.315724   \n",
       "9                                   0.366688   \n",
       "\n",
       "   mutation_model_pred_wt_ba_test_pred_wt_ba  \n",
       "0                                   0.882417  \n",
       "1                                   0.382141  \n",
       "2                                   0.279714  \n",
       "3                                   0.528873  \n",
       "4                                   0.882851  \n",
       "5                                   0.381086  \n",
       "6                                   0.277415  \n",
       "7                                   0.526702  \n",
       "8                                   0.300940  \n",
       "9                                   0.342270  "
      ]
     },
     "execution_count": 21,
     "metadata": {},
     "output_type": "execute_result"
    }
   ],
   "source": [
    "final_metrics_df.head(n=10)"
   ]
  },
  {
   "cell_type": "code",
   "execution_count": 18,
   "id": "8426f8de-f2ee-41e7-88da-8ea1ab9b7f7b",
   "metadata": {},
   "outputs": [],
   "source": [
    "final_metrics_df.to_csv(\"work/training/dual-model/final_metrics_mutation.csv\", sep=\",\", index=False, encoding=\"utf-8\")"
   ]
  },
  {
   "cell_type": "markdown",
   "id": "ad20e2b0-4ca8-42e9-977c-b2ed610f4857",
   "metadata": {},
   "source": [
    "# Y-randomization test"
   ]
  },
  {
   "cell_type": "code",
   "execution_count": 20,
   "id": "936ed2cf-3fec-4a9b-9eb6-27faba84d5da",
   "metadata": {},
   "outputs": [
    {
     "name": "stdout",
     "output_type": "stream",
     "text": [
      "(6770, 126)\n",
      "(6770, 126)\n",
      "The Mean R2 across all folds is:  -0.07256870182450789\n",
      "The Mean MAE across all folds is:  1.2487744756277694\n",
      "The Mean MSE across all folds is:  2.4124579176720826\n",
      "The Mean RMSE across all folds is:  1.553005686232836\n",
      "\n",
      "\n",
      "(6770, 126)\n",
      "(6770, 126)\n",
      "The Mean R2 across all folds is:  -0.07905331690022481\n",
      "The Mean MAE across all folds is:  1.2574497193500742\n",
      "The Mean MSE across all folds is:  2.427963054871492\n",
      "The Mean RMSE across all folds is:  1.5578052826916586\n",
      "\n",
      "\n",
      "(6770, 126)\n",
      "(6770, 126)\n",
      "The Mean R2 across all folds is:  -0.07719008547442359\n",
      "The Mean MAE across all folds is:  1.2503636632200885\n",
      "The Mean MSE across all folds is:  2.4218693326203837\n",
      "The Mean RMSE across all folds is:  1.5556610343343893\n",
      "\n",
      "\n",
      "(6770, 126)\n",
      "(6770, 126)\n",
      "The Mean R2 across all folds is:  -0.06532529466173091\n",
      "The Mean MAE across all folds is:  1.2405533825701627\n",
      "The Mean MSE across all folds is:  2.3934215508774006\n",
      "The Mean RMSE across all folds is:  1.5470127139273615\n",
      "\n",
      "\n",
      "(6770, 126)\n",
      "(6770, 126)\n",
      "The Mean R2 across all folds is:  -0.06681282550174013\n",
      "The Mean MAE across all folds is:  1.2462793500738552\n",
      "The Mean MSE across all folds is:  2.3989873448862626\n",
      "The Mean RMSE across all folds is:  1.5486167884001951\n",
      "\n",
      "\n",
      "(6770, 126)\n",
      "(6770, 126)\n",
      "The Mean R2 across all folds is:  -0.08217779464389574\n",
      "The Mean MAE across all folds is:  1.2556472082717876\n",
      "The Mean MSE across all folds is:  2.4306626242363367\n",
      "The Mean RMSE across all folds is:  1.558776684339813\n",
      "\n",
      "\n",
      "(6770, 126)\n",
      "(6770, 126)\n",
      "The Mean R2 across all folds is:  -0.06199286138228555\n",
      "The Mean MAE across all folds is:  1.2434163367799116\n",
      "The Mean MSE across all folds is:  2.3878258206617433\n",
      "The Mean RMSE across all folds is:  1.5450559768009893\n",
      "\n",
      "\n",
      "(6770, 126)\n",
      "(6770, 126)\n",
      "The Mean R2 across all folds is:  -0.0598257425904289\n",
      "The Mean MAE across all folds is:  1.2418920531757753\n",
      "The Mean MSE across all folds is:  2.382575078558344\n",
      "The Mean RMSE across all folds is:  1.543283006468551\n",
      "\n",
      "\n",
      "(6770, 126)\n",
      "(6770, 126)\n",
      "The Mean R2 across all folds is:  -0.07173742280223512\n",
      "The Mean MAE across all folds is:  1.2497821565731164\n",
      "The Mean MSE across all folds is:  2.4110745963604123\n",
      "The Mean RMSE across all folds is:  1.5526132725739212\n",
      "\n",
      "\n",
      "(6770, 126)\n",
      "(6770, 126)\n",
      "The Mean R2 across all folds is:  -0.06694977923149277\n",
      "The Mean MAE across all folds is:  1.2441208862629247\n",
      "The Mean MSE across all folds is:  2.3978920649217126\n",
      "The Mean RMSE across all folds is:  1.5483236758708148\n",
      "\n",
      "\n"
     ]
    }
   ],
   "source": [
    "train_test_y_randomization()"
   ]
  },
  {
   "cell_type": "markdown",
   "id": "588d9c21",
   "metadata": {},
   "source": [
    "# Feature Importance"
   ]
  },
  {
   "cell_type": "markdown",
   "id": "46475cd6",
   "metadata": {},
   "source": [
    "### Wild-type protein-ligand binding affinity prediction random forest"
   ]
  },
  {
   "cell_type": "code",
   "execution_count": 45,
   "id": "f859f7eb",
   "metadata": {},
   "outputs": [],
   "source": [
    "rf = pickle.load(open(\"work/models/dual_model_pl_split_ligand_weight.mdl\", 'rb'))"
   ]
  },
  {
   "cell_type": "code",
   "execution_count": 46,
   "id": "ee2286fd",
   "metadata": {},
   "outputs": [
    {
     "name": "stdout",
     "output_type": "stream",
     "text": [
      "(6770, 126)\n",
      "(1651, 126)\n"
     ]
    }
   ],
   "source": [
    "train = pd.read_csv(\"work/training/dual-model/train-ligand-weight.csv\", sep=\",\", encoding=\"utf-8\")\n",
    "test = pd.read_csv(\"work/training/dual-model/test-ligand-weight.csv\", sep=\",\", encoding=\"utf-8\") \n",
    "\n",
    "print(train.shape)\n",
    "print(test.shape)\n",
    "\n",
    "train_X = train.drop('ba', axis=1)\n",
    "wt_pl_train_X = train_X\n",
    "\n",
    "test_X = test.drop('ba', axis=1)\n",
    "wt_pl_test_X = test_X"
   ]
  },
  {
   "cell_type": "code",
   "execution_count": 47,
   "id": "d03e9a13-5172-443a-955c-19d5d7ff9f4a",
   "metadata": {},
   "outputs": [],
   "source": [
    "wt_pl_ft_df = get_df_feature_importance(rf.feature_importances_,train_X.columns,'WT protein-ligand binding affinity RF model ', top=20)"
   ]
  },
  {
   "cell_type": "markdown",
   "id": "8c38fb96-e005-4728-a98d-3a43d94d7c93",
   "metadata": {},
   "source": [
    "### Mutated protein-ligand binding affinity prediction random forest (real WT BA)"
   ]
  },
  {
   "cell_type": "code",
   "execution_count": 18,
   "id": "e7de40ed-1a3c-4c2c-a9d9-9bada6954073",
   "metadata": {},
   "outputs": [],
   "source": [
    "rf = pickle.load(open(\"work/models/mutation_model_real_wt_ba.mdl\", 'rb'))"
   ]
  },
  {
   "cell_type": "code",
   "execution_count": 20,
   "id": "a0fbc946-f424-4e40-8ebf-8a984e405005",
   "metadata": {},
   "outputs": [
    {
     "name": "stdout",
     "output_type": "stream",
     "text": [
      "(158341, 190)\n",
      "(39584, 190)\n"
     ]
    }
   ],
   "source": [
    "train = pd.read_csv(\"work/training/dual-model/train-mutations-random.csv\", sep=\",\", encoding=\"utf-8\")\n",
    "test = pd.read_csv(\"work/training/dual-model/test-mutations-random.csv\", sep=\",\", encoding=\"utf-8\") \n",
    "\n",
    "print(train.shape)\n",
    "print(test.shape)\n",
    "\n",
    "train_X = train.drop('ba', axis=1)\n",
    "\n",
    "test_X = test.drop('ba', axis=1)"
   ]
  },
  {
   "cell_type": "code",
   "execution_count": 21,
   "id": "11bc4909-623c-45ac-b75d-9671b1eb9cb9",
   "metadata": {},
   "outputs": [],
   "source": [
    "mut_real_wt_ba_ft_df = get_df_feature_importance(rf.feature_importances_,train_X.columns,'Mutation protein-ligand binding affinity RF model (real WT BA) ', top=10)"
   ]
  },
  {
   "cell_type": "code",
   "execution_count": 22,
   "id": "f592142c-05e4-4369-a9b0-b4adf996d1cc",
   "metadata": {},
   "outputs": [],
   "source": [
    "mut_real_no_wt_ba_ft_df = get_df_feature_importance(rf.feature_importances_,train_X.columns,'Mutation protein-ligand binding affinity RF model (real WT BA) ', top=10, execlude=\"wt_ba\")"
   ]
  },
  {
   "cell_type": "markdown",
   "id": "96408451-7c3c-4f63-a1fa-eb676cae68e6",
   "metadata": {},
   "source": [
    "### Mutated protein-ligand binding affinity prediction random forest (predicted WT BA)"
   ]
  },
  {
   "cell_type": "code",
   "execution_count": 23,
   "id": "e0d0f5de-0c5b-484a-b7d8-2821e1be7650",
   "metadata": {},
   "outputs": [],
   "source": [
    "rf = pickle.load(open(\"work/models/mutation_model_pred_wt_ba.mdl\", 'rb'))"
   ]
  },
  {
   "cell_type": "code",
   "execution_count": 24,
   "id": "f2bf1655-0d9d-4eab-8112-cc9610a1f1c0",
   "metadata": {},
   "outputs": [
    {
     "name": "stdout",
     "output_type": "stream",
     "text": [
      "(158341, 190)\n",
      "(39584, 190)\n"
     ]
    }
   ],
   "source": [
    "train = pd.read_csv(\"work/training/dual-model/train-mutations-random.csv\", sep=\",\", encoding=\"utf-8\")\n",
    "test = pd.read_csv(\"work/training/dual-model/test-mutations-random.csv\", sep=\",\", encoding=\"utf-8\") \n",
    "\n",
    "print(train.shape)\n",
    "print(test.shape)\n",
    "\n",
    "train_X = train.drop('ba', axis=1)\n",
    "\n",
    "test_X = test.drop('ba', axis=1)"
   ]
  },
  {
   "cell_type": "code",
   "execution_count": 25,
   "id": "acd22c2b-80c8-457e-9b15-ba6058d62207",
   "metadata": {},
   "outputs": [],
   "source": [
    "mut_pred_wt_ba_ft_df = get_df_feature_importance(rf.feature_importances_,train_X.columns,'Mutation protein-ligand binding affinity RF model (predicted WT BA) ', top=10)"
   ]
  },
  {
   "cell_type": "code",
   "execution_count": 26,
   "id": "3263897c-9bc0-4c5a-a2bc-0db56441551e",
   "metadata": {},
   "outputs": [],
   "source": [
    "mut_pred_no_wt_ba_ft_df = get_df_feature_importance(rf.feature_importances_,train_X.columns,'Mutation protein-ligand binding affinity RF model (predicted WT BA) ', top=10, execlude=\"wt_ba\")"
   ]
  },
  {
   "cell_type": "markdown",
   "id": "aeb34287-881c-4a1f-9e2d-c62654422c6e",
   "metadata": {},
   "source": [
    "### Making the feature importance plot"
   ]
  },
  {
   "cell_type": "code",
   "execution_count": 63,
   "id": "44d3a248-233d-4d4b-9517-4b265dc205dd",
   "metadata": {},
   "outputs": [
    {
     "data": {
      "image/png": "[encoded data removed]",
      "text/plain": [
       "<Figure size 1152x576 with 5 Axes>"
      ]
     },
     "metadata": {
      "needs_background": "light"
     },
     "output_type": "display_data"
    }
   ],
   "source": [
    "fig, axes = plt.subplot_mosaic([['left', 'right1'], ['left', 'right2'], ['bottom1', 'bottom2']],\n",
    "                              constrained_layout=True, figsize=(16,8))\n",
    "fig.suptitle('Random forest models feature importance')\n",
    "\n",
    "axes['left'].set_title('WT protein-ligand binding affinity RF model')\n",
    "axes['right1'].set_title('Mutation binding affinity RF model (with real WT BA)')\n",
    "axes['right2'].set_title('Mutation binding affinity RF model (without real WT BA)')\n",
    "axes['bottom1'].set_title('Mutation affinity RF model (with predicted WT BA)')\n",
    "axes['bottom2'].set_title('Mutation affinity RF model (without predicted WT BA)')\n",
    "\n",
    "sns.barplot(ax=axes['left'], x=wt_pl_ft_df['feature_importance'], y=wt_pl_ft_df['feature_names'], color=\"#008bfb\").set(ylabel=None)\n",
    "sns.barplot(ax=axes['right1'], x=mut_real_wt_ba_ft_df['feature_importance'], y=mut_real_wt_ba_ft_df['feature_names'], color=\"#008bfb\").set(ylabel=None)\n",
    "sns.barplot(ax=axes['right2'], x=mut_real_no_wt_ba_ft_df['feature_importance'], y=mut_real_no_wt_ba_ft_df['feature_names'], color=\"#008bfb\").set(ylabel=None)\n",
    "sns.barplot(ax=axes['bottom1'], x=mut_pred_wt_ba_ft_df['feature_importance'], y=mut_pred_wt_ba_ft_df['feature_names'], color=\"#008bfb\").set(ylabel=None)\n",
    "sns.barplot(ax=axes['bottom2'], x=mut_pred_no_wt_ba_ft_df['feature_importance'], y=mut_pred_no_wt_ba_ft_df['feature_names'], color=\"#008bfb\").set(ylabel=None)\n",
    "\n",
    "plt.savefig('images/importance/feature_importance_all.png', dpi=300)"
   ]
  },
  {
   "cell_type": "code",
   "execution_count": 114,
   "id": "a0c5332c-200d-4d32-bfbc-33fbbdd66302",
   "metadata": {
    "scrolled": false
   },
   "outputs": [
    {
     "data": {
      "image/png": "[encoded data removed]",
      "text/plain": [
       "<Figure size 720x576 with 1 Axes>"
      ]
     },
     "metadata": {
      "needs_background": "light"
     },
     "output_type": "display_data"
    },
    {
     "data": {
      "image/png": "[encoded data removed]",
      "text/plain": [
       "<Figure size 720x576 with 1 Axes>"
      ]
     },
     "metadata": {
      "needs_background": "light"
     },
     "output_type": "display_data"
    },
    {
     "data": {
      "image/png": "[encoded data removed]",
      "text/plain": [
       "<Figure size 720x576 with 1 Axes>"
      ]
     },
     "metadata": {
      "needs_background": "light"
     },
     "output_type": "display_data"
    },
    {
     "data": {
      "image/png": "[encoded data removed]",
      "text/plain": [
       "<Figure size 720x576 with 1 Axes>"
      ]
     },
     "metadata": {
      "needs_background": "light"
     },
     "output_type": "display_data"
    }
   ],
   "source": [
    "dfs = [mut_real_wt_ba_ft_df, mut_real_no_wt_ba_ft_df, mut_pred_wt_ba_ft_df, mut_pred_no_wt_ba_ft_df]\n",
    "titles = ['Mutation binding affinity RF model (with real WT BA)',\n",
    "          'Mutation binding affinity RF model (without real WT BA)',\n",
    "          'Mutation affinity RF model (with predicted WT BA)',\n",
    "          'Mutation affinity RF model (without predicted WT BA)']\n",
    "filenames = ['mut_model_real_wt_ba_feature_importance',\n",
    "             'mut_model_real_wt_ba_feature_importance_no_wtba',\n",
    "             'mut_model_pred_wt_ba_feature_importance',\n",
    "             'mut_model_pred_wt_ba_feature_importance_no_wtba']\n",
    "\n",
    "for i in range(4):\n",
    "    plt.figure(figsize=(10,8))\n",
    "    fig = sns.barplot(x=dfs[i]['feature_importance'], y=dfs[i]['feature_names'], color=\"#008bfb\")\n",
    "    plt.title(titles[i])\n",
    "    plt.xlabel('Feature Importance')\n",
    "    plt.ylabel('Feature Name')\n",
    "    plt.savefig('images/importance/'+filenames[i]+'.png', dpi=300, bbox_inches='tight')"
   ]
  },
  {
   "cell_type": "markdown",
   "id": "27e7c917-02be-4c79-897f-a774345b4d54",
   "metadata": {},
   "source": [
    "# Evaluate prediction speed"
   ]
  },
  {
   "cell_type": "code",
   "execution_count": 92,
   "id": "ee4b664a-42b7-472a-8caa-b11c728bd158",
   "metadata": {},
   "outputs": [
    {
     "name": "stdout",
     "output_type": "stream",
     "text": [
      "(1651, 126)\n",
      "0.17403916601324454 seconds to predict 1651 instances\n",
      "0.00010541439492019657 seconds to predict one instance\n",
      "0.19761443103197962 seconds to predict 1651 instances\n",
      "0.00011969378015262243 seconds to predict one instance\n",
      "0.19888473598985001 seconds to predict 1651 instances\n",
      "0.00012046319563285889 seconds to predict one instance\n",
      "0.20000486000208184 seconds to predict 1651 instances\n",
      "0.00012114164748763286 seconds to predict one instance\n",
      "0.19828114699339494 seconds to predict 1651 instances\n",
      "0.00012009760568951844 seconds to predict one instance\n",
      "0.19632747501600534 seconds to predict 1651 instances\n",
      "0.00011891427923440663 seconds to predict one instance\n",
      "0.4413825879455544 seconds to predict 1651 instances\n",
      "0.0002673425729530917 seconds to predict one instance\n",
      "0.20655659801559523 seconds to predict 1651 instances\n",
      "0.0001251099927411237 seconds to predict one instance\n",
      "0.21580177202122286 seconds to predict 1651 instances\n",
      "0.0001307097347190932 seconds to predict one instance\n",
      "0.22281083604320884 seconds to predict 1651 instances\n",
      "0.0001349550793720223 seconds to predict one instance\n",
      "Average speed of prediction for one instance: 0.00013638422829025668 seconds\n"
     ]
    }
   ],
   "source": [
    "from timeit import default_timer as timer\n",
    "\n",
    "rf = pickle.load(open(\"work/models/dual_model_pl_split_ligand_weight.mdl\", 'rb'))\n",
    "\n",
    "test = pd.read_csv(\"work/training/dual-model/test-ligand-weight.csv\", sep=\",\", encoding=\"utf-8\") \n",
    "\n",
    "test_X = test.drop('ba', axis=1)\n",
    "    \n",
    "print(test.shape)\n",
    "\n",
    "per_instance_sum = 0\n",
    "\n",
    "for i in range(10):\n",
    "\n",
    "    start = timer()\n",
    "\n",
    "    predictions = rf.predict(test_X)\n",
    "\n",
    "    end = timer()\n",
    "\n",
    "    time_spent = end - start\n",
    "\n",
    "    per_instance = time_spent / test_X.shape[0]\n",
    "    \n",
    "    per_instance_sum += per_instance\n",
    "\n",
    "    print(str(time_spent) + \" seconds to predict \" + str(test_X.shape[0]) + \" instances\" )\n",
    "    print(str(per_instance) + \" seconds to predict one instance\")\n",
    "    \n",
    "\n",
    "print(\"Average speed of prediction for one instance: \" + str(per_instance_sum / 10) + \" seconds\")"
   ]
  }
 ],
 "metadata": {
  "kernelspec": {
   "display_name": "Python 3 (ipykernel)",
   "language": "python",
   "name": "python3"
  },
  "language_info": {
   "codemirror_mode": {
    "name": "ipython",
    "version": 3
   },
   "file_extension": ".py",
   "mimetype": "text/x-python",
   "name": "python",
   "nbconvert_exporter": "python",
   "pygments_lexer": "ipython3",
   "version": "3.9.7"
  }
 },
 "nbformat": 4,
 "nbformat_minor": 5
}
